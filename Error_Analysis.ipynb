{
  "nbformat": 4,
  "nbformat_minor": 0,
  "metadata": {
    "colab": {
      "name": "Error Analysis.ipynb",
      "provenance": [],
      "collapsed_sections": [],
      "include_colab_link": true
    },
    "kernelspec": {
      "name": "python3",
      "display_name": "Python 3"
    },
    "language_info": {
      "name": "python"
    },
    "accelerator": "GPU",
    "widgets": {
      "application/vnd.jupyter.widget-state+json": {
        "c8a73b64089748e8aa8ced87fb58a51b": {
          "model_module": "@jupyter-widgets/controls",
          "model_name": "HBoxModel",
          "model_module_version": "1.5.0",
          "state": {
            "_dom_classes": [],
            "_model_module": "@jupyter-widgets/controls",
            "_model_module_version": "1.5.0",
            "_model_name": "HBoxModel",
            "_view_count": null,
            "_view_module": "@jupyter-widgets/controls",
            "_view_module_version": "1.5.0",
            "_view_name": "HBoxView",
            "box_style": "",
            "children": [
              "IPY_MODEL_bd4717acca1d4d23a1aa4dc83bf4863e",
              "IPY_MODEL_333b28cad1674c1aabaac1cde1ee3098",
              "IPY_MODEL_5b9a73758e694642ba7675c297b1f1ab"
            ],
            "layout": "IPY_MODEL_b2c6cd39e7204faf97907129a7d8f659"
          }
        },
        "bd4717acca1d4d23a1aa4dc83bf4863e": {
          "model_module": "@jupyter-widgets/controls",
          "model_name": "HTMLModel",
          "model_module_version": "1.5.0",
          "state": {
            "_dom_classes": [],
            "_model_module": "@jupyter-widgets/controls",
            "_model_module_version": "1.5.0",
            "_model_name": "HTMLModel",
            "_view_count": null,
            "_view_module": "@jupyter-widgets/controls",
            "_view_module_version": "1.5.0",
            "_view_name": "HTMLView",
            "description": "",
            "description_tooltip": null,
            "layout": "IPY_MODEL_abc3df8b5a6f4be79139e6132183ad5c",
            "placeholder": "​",
            "style": "IPY_MODEL_7db467e2fa274b08a248a2720a16044b",
            "value": "100%"
          }
        },
        "333b28cad1674c1aabaac1cde1ee3098": {
          "model_module": "@jupyter-widgets/controls",
          "model_name": "FloatProgressModel",
          "model_module_version": "1.5.0",
          "state": {
            "_dom_classes": [],
            "_model_module": "@jupyter-widgets/controls",
            "_model_module_version": "1.5.0",
            "_model_name": "FloatProgressModel",
            "_view_count": null,
            "_view_module": "@jupyter-widgets/controls",
            "_view_module_version": "1.5.0",
            "_view_name": "ProgressView",
            "bar_style": "success",
            "description": "",
            "description_tooltip": null,
            "layout": "IPY_MODEL_f8a33f271cfd4a50b620d75a6ed0aa8c",
            "max": 102530333,
            "min": 0,
            "orientation": "horizontal",
            "style": "IPY_MODEL_d351e7c31f6f42d4ad4bbf3c5823cbb2",
            "value": 102530333
          }
        },
        "5b9a73758e694642ba7675c297b1f1ab": {
          "model_module": "@jupyter-widgets/controls",
          "model_name": "HTMLModel",
          "model_module_version": "1.5.0",
          "state": {
            "_dom_classes": [],
            "_model_module": "@jupyter-widgets/controls",
            "_model_module_version": "1.5.0",
            "_model_name": "HTMLModel",
            "_view_count": null,
            "_view_module": "@jupyter-widgets/controls",
            "_view_module_version": "1.5.0",
            "_view_name": "HTMLView",
            "description": "",
            "description_tooltip": null,
            "layout": "IPY_MODEL_709847892b8c4740ad39a93a34d9ec43",
            "placeholder": "​",
            "style": "IPY_MODEL_3c4c114eb4474612b18ed165ed17d94a",
            "value": " 97.8M/97.8M [00:00&lt;00:00, 250MB/s]"
          }
        },
        "b2c6cd39e7204faf97907129a7d8f659": {
          "model_module": "@jupyter-widgets/base",
          "model_name": "LayoutModel",
          "model_module_version": "1.2.0",
          "state": {
            "_model_module": "@jupyter-widgets/base",
            "_model_module_version": "1.2.0",
            "_model_name": "LayoutModel",
            "_view_count": null,
            "_view_module": "@jupyter-widgets/base",
            "_view_module_version": "1.2.0",
            "_view_name": "LayoutView",
            "align_content": null,
            "align_items": null,
            "align_self": null,
            "border": null,
            "bottom": null,
            "display": null,
            "flex": null,
            "flex_flow": null,
            "grid_area": null,
            "grid_auto_columns": null,
            "grid_auto_flow": null,
            "grid_auto_rows": null,
            "grid_column": null,
            "grid_gap": null,
            "grid_row": null,
            "grid_template_areas": null,
            "grid_template_columns": null,
            "grid_template_rows": null,
            "height": null,
            "justify_content": null,
            "justify_items": null,
            "left": null,
            "margin": null,
            "max_height": null,
            "max_width": null,
            "min_height": null,
            "min_width": null,
            "object_fit": null,
            "object_position": null,
            "order": null,
            "overflow": null,
            "overflow_x": null,
            "overflow_y": null,
            "padding": null,
            "right": null,
            "top": null,
            "visibility": null,
            "width": null
          }
        },
        "abc3df8b5a6f4be79139e6132183ad5c": {
          "model_module": "@jupyter-widgets/base",
          "model_name": "LayoutModel",
          "model_module_version": "1.2.0",
          "state": {
            "_model_module": "@jupyter-widgets/base",
            "_model_module_version": "1.2.0",
            "_model_name": "LayoutModel",
            "_view_count": null,
            "_view_module": "@jupyter-widgets/base",
            "_view_module_version": "1.2.0",
            "_view_name": "LayoutView",
            "align_content": null,
            "align_items": null,
            "align_self": null,
            "border": null,
            "bottom": null,
            "display": null,
            "flex": null,
            "flex_flow": null,
            "grid_area": null,
            "grid_auto_columns": null,
            "grid_auto_flow": null,
            "grid_auto_rows": null,
            "grid_column": null,
            "grid_gap": null,
            "grid_row": null,
            "grid_template_areas": null,
            "grid_template_columns": null,
            "grid_template_rows": null,
            "height": null,
            "justify_content": null,
            "justify_items": null,
            "left": null,
            "margin": null,
            "max_height": null,
            "max_width": null,
            "min_height": null,
            "min_width": null,
            "object_fit": null,
            "object_position": null,
            "order": null,
            "overflow": null,
            "overflow_x": null,
            "overflow_y": null,
            "padding": null,
            "right": null,
            "top": null,
            "visibility": null,
            "width": null
          }
        },
        "7db467e2fa274b08a248a2720a16044b": {
          "model_module": "@jupyter-widgets/controls",
          "model_name": "DescriptionStyleModel",
          "model_module_version": "1.5.0",
          "state": {
            "_model_module": "@jupyter-widgets/controls",
            "_model_module_version": "1.5.0",
            "_model_name": "DescriptionStyleModel",
            "_view_count": null,
            "_view_module": "@jupyter-widgets/base",
            "_view_module_version": "1.2.0",
            "_view_name": "StyleView",
            "description_width": ""
          }
        },
        "f8a33f271cfd4a50b620d75a6ed0aa8c": {
          "model_module": "@jupyter-widgets/base",
          "model_name": "LayoutModel",
          "model_module_version": "1.2.0",
          "state": {
            "_model_module": "@jupyter-widgets/base",
            "_model_module_version": "1.2.0",
            "_model_name": "LayoutModel",
            "_view_count": null,
            "_view_module": "@jupyter-widgets/base",
            "_view_module_version": "1.2.0",
            "_view_name": "LayoutView",
            "align_content": null,
            "align_items": null,
            "align_self": null,
            "border": null,
            "bottom": null,
            "display": null,
            "flex": null,
            "flex_flow": null,
            "grid_area": null,
            "grid_auto_columns": null,
            "grid_auto_flow": null,
            "grid_auto_rows": null,
            "grid_column": null,
            "grid_gap": null,
            "grid_row": null,
            "grid_template_areas": null,
            "grid_template_columns": null,
            "grid_template_rows": null,
            "height": null,
            "justify_content": null,
            "justify_items": null,
            "left": null,
            "margin": null,
            "max_height": null,
            "max_width": null,
            "min_height": null,
            "min_width": null,
            "object_fit": null,
            "object_position": null,
            "order": null,
            "overflow": null,
            "overflow_x": null,
            "overflow_y": null,
            "padding": null,
            "right": null,
            "top": null,
            "visibility": null,
            "width": null
          }
        },
        "d351e7c31f6f42d4ad4bbf3c5823cbb2": {
          "model_module": "@jupyter-widgets/controls",
          "model_name": "ProgressStyleModel",
          "model_module_version": "1.5.0",
          "state": {
            "_model_module": "@jupyter-widgets/controls",
            "_model_module_version": "1.5.0",
            "_model_name": "ProgressStyleModel",
            "_view_count": null,
            "_view_module": "@jupyter-widgets/base",
            "_view_module_version": "1.2.0",
            "_view_name": "StyleView",
            "bar_color": null,
            "description_width": ""
          }
        },
        "709847892b8c4740ad39a93a34d9ec43": {
          "model_module": "@jupyter-widgets/base",
          "model_name": "LayoutModel",
          "model_module_version": "1.2.0",
          "state": {
            "_model_module": "@jupyter-widgets/base",
            "_model_module_version": "1.2.0",
            "_model_name": "LayoutModel",
            "_view_count": null,
            "_view_module": "@jupyter-widgets/base",
            "_view_module_version": "1.2.0",
            "_view_name": "LayoutView",
            "align_content": null,
            "align_items": null,
            "align_self": null,
            "border": null,
            "bottom": null,
            "display": null,
            "flex": null,
            "flex_flow": null,
            "grid_area": null,
            "grid_auto_columns": null,
            "grid_auto_flow": null,
            "grid_auto_rows": null,
            "grid_column": null,
            "grid_gap": null,
            "grid_row": null,
            "grid_template_areas": null,
            "grid_template_columns": null,
            "grid_template_rows": null,
            "height": null,
            "justify_content": null,
            "justify_items": null,
            "left": null,
            "margin": null,
            "max_height": null,
            "max_width": null,
            "min_height": null,
            "min_width": null,
            "object_fit": null,
            "object_position": null,
            "order": null,
            "overflow": null,
            "overflow_x": null,
            "overflow_y": null,
            "padding": null,
            "right": null,
            "top": null,
            "visibility": null,
            "width": null
          }
        },
        "3c4c114eb4474612b18ed165ed17d94a": {
          "model_module": "@jupyter-widgets/controls",
          "model_name": "DescriptionStyleModel",
          "model_module_version": "1.5.0",
          "state": {
            "_model_module": "@jupyter-widgets/controls",
            "_model_module_version": "1.5.0",
            "_model_name": "DescriptionStyleModel",
            "_view_count": null,
            "_view_module": "@jupyter-widgets/base",
            "_view_module_version": "1.2.0",
            "_view_name": "StyleView",
            "description_width": ""
          }
        }
      }
    }
  },
  "cells": [
    {
      "cell_type": "markdown",
      "metadata": {
        "id": "view-in-github",
        "colab_type": "text"
      },
      "source": [
        "<a href=\"https://colab.research.google.com/github/abbasmammadov/Facial-Expression-Recognition/blob/main/Error_Analysis.ipynb\" target=\"_parent\"><img src=\"https://colab.research.google.com/assets/colab-badge.svg\" alt=\"Open In Colab\"/></a>"
      ]
    },
    {
      "cell_type": "markdown",
      "source": [
        "# Error analysis\n",
        "\n",
        "mount your drive first - you can do it just once"
      ],
      "metadata": {
        "id": "fv68zYtxHJR-"
      }
    },
    {
      "cell_type": "code",
      "source": [
        "from google.colab import drive\n",
        "drive.mount('/content/drive')"
      ],
      "metadata": {
        "id": "_hbOvpcyD-7H",
        "colab": {
          "base_uri": "https://localhost:8080/"
        },
        "outputId": "71c00baf-2d69-4492-b563-8fb2d686b70e"
      },
      "execution_count": 1,
      "outputs": [
        {
          "output_type": "stream",
          "name": "stdout",
          "text": [
            "Mounted at /content/drive\n"
          ]
        }
      ]
    },
    {
      "cell_type": "markdown",
      "source": [
        "importing necessary modules"
      ],
      "metadata": {
        "id": "mZxtqWxUHYZ6"
      }
    },
    {
      "cell_type": "code",
      "source": [
        "import numpy as np\n",
        "import pandas as pd\n",
        "import torch\n",
        "import torch.nn as nn\n",
        "import torch.nn.functional as F\n",
        "import torch.optim as optim\n",
        "from torch.utils.data import DataLoader, Dataset\n",
        "from PIL import Image\n",
        "import os\n",
        "import torchvision.datasets as dset\n",
        "import torchvision.transforms as T\n",
        "from torchvision import models\n",
        "import matplotlib.pyplot as plt"
      ],
      "metadata": {
        "id": "1O_7o8yiL7fZ"
      },
      "execution_count": 2,
      "outputs": []
    },
    {
      "cell_type": "markdown",
      "source": [
        "Now we will load our model. In this step, torch needs the original class of the model to be present on the stage where we load it's best parameter (or it's best 'state_dict'). Therefore, first, we have to create the model instance first, and load it's best state dictionary from our drive."
      ],
      "metadata": {
        "id": "JS8NvmjmHdVr"
      }
    },
    {
      "cell_type": "code",
      "source": [
        "from collections import OrderedDict\n",
        "device = 'cuda' if torch.cuda.is_available() else 'cpu'\n",
        "model = models.resnet50(pretrained=True)\n",
        "model.fc = nn.Sequential(OrderedDict([\n",
        "    ('dropout1', nn.Dropout(p=0.5)), \n",
        "    ('fc1', nn.Linear(model.fc.in_features, 4096)), \n",
        "    ('relu1', nn.ReLU(inplace=True)), \n",
        "    ('dropout2', nn.Dropout(p=0.5)), \n",
        "    ('fc2', nn.Linear(4096, 1024)), \n",
        "    ('relu2', nn.ReLU(inplace=True)), \n",
        "    ('dropout3', nn.Dropout(p=0.5)), \n",
        "    ('fc4', nn.Linear(1024, 7)), \n",
        "]))\n",
        "model_path = '/content/drive/MyDrive/ML Project Folder/Models'\n",
        "best_model_path = os.path.join(model_path, 'best-resnet.h5')\n",
        "model.load_state_dict(torch.load(best_model_path))\n",
        "model = model.to(device)"
      ],
      "metadata": {
        "id": "f4llbGqItcs7",
        "colab": {
          "base_uri": "https://localhost:8080/",
          "height": 66,
          "referenced_widgets": [
            "c8a73b64089748e8aa8ced87fb58a51b",
            "bd4717acca1d4d23a1aa4dc83bf4863e",
            "333b28cad1674c1aabaac1cde1ee3098",
            "5b9a73758e694642ba7675c297b1f1ab",
            "b2c6cd39e7204faf97907129a7d8f659",
            "abc3df8b5a6f4be79139e6132183ad5c",
            "7db467e2fa274b08a248a2720a16044b",
            "f8a33f271cfd4a50b620d75a6ed0aa8c",
            "d351e7c31f6f42d4ad4bbf3c5823cbb2",
            "709847892b8c4740ad39a93a34d9ec43",
            "3c4c114eb4474612b18ed165ed17d94a"
          ]
        },
        "outputId": "b907ea60-f030-49a8-b30e-661a572867ee"
      },
      "execution_count": 3,
      "outputs": [
        {
          "output_type": "stream",
          "name": "stderr",
          "text": [
            "Downloading: \"https://download.pytorch.org/models/resnet50-0676ba61.pth\" to /root/.cache/torch/hub/checkpoints/resnet50-0676ba61.pth\n"
          ]
        },
        {
          "output_type": "display_data",
          "data": {
            "text/plain": [
              "  0%|          | 0.00/97.8M [00:00<?, ?B/s]"
            ],
            "application/vnd.jupyter.widget-view+json": {
              "version_major": 2,
              "version_minor": 0,
              "model_id": "c8a73b64089748e8aa8ced87fb58a51b"
            }
          },
          "metadata": {}
        }
      ]
    },
    {
      "cell_type": "markdown",
      "source": [
        "Next, we will convert every image we load in the testset to a normalized tensor."
      ],
      "metadata": {
        "id": "u_5hgkTVH2h7"
      }
    },
    {
      "cell_type": "code",
      "source": [
        "#load the dataset, and get the data augmentation ready \n",
        "# in this case the data augmentation is only converting it to a normalized tensor\n",
        "from torchvision.datasets import ImageFolder\n",
        "import torchvision.transforms as T\n",
        "test_augs = T.ToTensor()"
      ],
      "metadata": {
        "id": "W2Mp02TH7W5H"
      },
      "execution_count": 4,
      "outputs": []
    },
    {
      "cell_type": "code",
      "source": [
        "data_path = '/content/drive/MyDrive/ML Project Folder/project/datasets/fer2013'\n",
        "# since we want to evaluate our model in our test dataset, we wll only load our test dataset\n",
        "test_path = os.path.join(data_path, 'test')\n",
        "\n",
        "# perform the data augmentation, and store the new dataset\n",
        "testset = ImageFolder(test_path, transform=test_augs)\n",
        "\n",
        "print(f\"Total no. of examples in testset : {len(testset)}\")\n",
        "\n",
        "##let's load our test dataset in a format suitable to pytorch\n",
        "testloader = DataLoader(testset)"
      ],
      "metadata": {
        "colab": {
          "base_uri": "https://localhost:8080/"
        },
        "id": "6pZVeQzu9YGZ",
        "outputId": "ee551691-a6dc-470c-de20-3ff62c2e9b07"
      },
      "execution_count": 5,
      "outputs": [
        {
          "output_type": "stream",
          "name": "stdout",
          "text": [
            "Total no. of examples in testset : 3589\n"
          ]
        }
      ]
    },
    {
      "cell_type": "markdown",
      "source": [
        "Now we will evaluate our model on our test data. We will get predictions, and compare them with the true labels."
      ],
      "metadata": {
        "id": "MWERCWeXIFmK"
      }
    },
    {
      "cell_type": "code",
      "source": [
        "#accuracy of the model\n",
        "from tqdm import tqdm\n",
        "def multiclass_accuracy(y_pred,y_true):\n",
        "    top_p,top_class = y_pred.topk(1,dim = 1)\n",
        "    equals = top_class == y_true.view(*top_class.shape)\n",
        "    return torch.mean(equals.type(torch.FloatTensor))"
      ],
      "metadata": {
        "id": "LF5qpabCQJPU"
      },
      "execution_count": 6,
      "outputs": []
    },
    {
      "cell_type": "code",
      "source": [
        "def test_model(model, dataloader, current_epoch=1):\n",
        "  # initialize the test tensors\n",
        "  true_labels = torch.zeros((len(dataloader)))\n",
        "  predictions = torch.zeros((len(dataloader)))\n",
        "  model.eval()\n",
        "  total_loss = 0.0\n",
        "  total_acc = 0.0\n",
        "  tk = tqdm(dataloader, desc='EPOCH' + '[TEST]' + str(current_epoch) + \"/\" + str(1))\n",
        "\n",
        "  for t, data in enumerate(tk):\n",
        "    images, labels = data\n",
        "    images, labels = images.to(device), labels.to(device)\n",
        "\n",
        "    logits = model(images)\n",
        "    loss = nn.CrossEntropyLoss()(logits,  labels)\n",
        "\n",
        "    total_loss += loss.item()\n",
        "    total_acc += multiclass_accuracy(logits, labels)\n",
        "    predictions[t], true_labels[t] = logits.argmax(1), labels\n",
        "    tk.set_postfix({'loss': float(total_loss/(t+1)),'acc': float(total_acc/(t+1))})\n",
        "  return {'loss': total_loss/len(dataloader), 'accuracy': total_acc / len(dataloader), 'predictions': predictions, 'true_labels': true_labels}"
      ],
      "metadata": {
        "id": "PJTuniX_KDVj"
      },
      "execution_count": 7,
      "outputs": []
    },
    {
      "cell_type": "code",
      "source": [
        "test_info = test_model(model, testloader)\n",
        "test_loss, test_acc, predictions, true_labels = test_info['loss'], test_info['accuracy'], test_info['predictions'], test_info['true_labels']\n",
        "print()\n",
        "print('accuracy on the test set: ', float(test_acc))"
      ],
      "metadata": {
        "colab": {
          "base_uri": "https://localhost:8080/"
        },
        "id": "SPuQMGdtSfiR",
        "outputId": "e28c5a67-a0aa-4f6a-bc46-1de4feb82b78"
      },
      "execution_count": 8,
      "outputs": [
        {
          "output_type": "stream",
          "name": "stderr",
          "text": [
            "EPOCH[TEST]1/1: 100%|██████████| 3589/3589 [13:27<00:00,  4.44it/s, loss=1.03, acc=0.621]"
          ]
        },
        {
          "output_type": "stream",
          "name": "stdout",
          "text": [
            "\n",
            "accuracy on the test set:  0.6210643649101257\n"
          ]
        },
        {
          "output_type": "stream",
          "name": "stderr",
          "text": [
            "\n"
          ]
        }
      ]
    },
    {
      "cell_type": "markdown",
      "source": [
        "Now we will analyze how correctly each emotions are being classified by our model using confusion matrix from the scikit-learn library"
      ],
      "metadata": {
        "id": "UyqltFL0IOvU"
      }
    },
    {
      "cell_type": "code",
      "source": [
        "from sklearn.metrics import confusion_matrix\n",
        "from seaborn import heatmap\n",
        "\n",
        "#the label encoding used in our CSV file -> encoding which maps to emotion \n",
        "em_dict = {0: 'angry', 1: 'disgust', 2: 'fear', 3: 'happy', 4: 'sad', 5: 'surprise', 6: 'neutral'}\n",
        "num_classes = 7\n",
        "\n",
        "#build a heatmap which helps us to visualize the confusion matrix\n",
        "conf_mat_colored = pd.DataFrame(confusion_matrix(true_labels, predictions, normalize='true').round(2), index=em_dict.values(), columns=em_dict.values())\n",
        "\n",
        "#now plot it\n",
        "plt.figure(figsize=(5,5))\n",
        "heatmap(conf_mat_colored, annot=True, cmap=plt.cm.GnBu)\n",
        "plt.tight_layout()\n",
        "plt.title('Confusion matrix on FER2013 test dataset')\n",
        "plt.ylabel('True Emotion')\n",
        "plt.xlabel('Predicted Emotion')\n",
        "plt.show()"
      ],
      "metadata": {
        "id": "8LhyvWoVHBQ3",
        "outputId": "33cb600a-23b0-4c5f-8fc8-1cd494d9c9c4",
        "colab": {
          "base_uri": "https://localhost:8080/",
          "height": 399
        }
      },
      "execution_count": 13,
      "outputs": [
        {
          "output_type": "display_data",
          "data": {
            "text/plain": [
              "<Figure size 360x360 with 2 Axes>"
            ],
            "image/png": "[encoded data removed]"
          },
          "metadata": {
            "needs_background": "light"
          }
        }
      ]
    },
    {
      "cell_type": "markdown",
      "source": [
        "From the above confusion matrix, we can see that most of the images have been correctly classified to their categories, but if we see the 'disgust' column, we can see that it's the category in which fewer acutal 'disgust' images are correctly classified as 'disgust', and for our surprise, there is no any emotion which has been misclassified as 'disgust'. As we have discussed earlier, this is due to the presence of small amount of images labled as 'disgust'.\n",
        "\n",
        "To demonstrate this, let's make some data analysis on the entire dataset and try to count the proportion of each emotion"
      ],
      "metadata": {
        "id": "gVF2JsF_Iwbl"
      }
    },
    {
      "cell_type": "code",
      "source": [
        "csv_path = os.path.join(data_path, 'fer2013.csv')\n",
        "data_df = pd.read_csv(csv_path)\n",
        "labels = data_df['emotion']"
      ],
      "metadata": {
        "id": "CT-PDGljDcmN"
      },
      "execution_count": 10,
      "outputs": []
    },
    {
      "cell_type": "code",
      "source": [
        "from collections import Counter\n",
        "# now we can count the proportion of each emotion\n",
        "labled_num_emotions = Counter(labels) # this counter labels each emotions as numbers. Therefore, let's use our 'em_dict' to convert them into the emotions\n",
        "num_emotions = {em_dict[label]: nums for (label, nums) in labled_num_emotions.items()}\n",
        "print(num_emotions)"
      ],
      "metadata": {
        "colab": {
          "base_uri": "https://localhost:8080/"
        },
        "id": "5bjv1bXWDuYX",
        "outputId": "8c866898-356e-4c5f-d5c6-591dd6e13308"
      },
      "execution_count": 11,
      "outputs": [
        {
          "output_type": "stream",
          "name": "stdout",
          "text": [
            "{'angry': 4953, 'fear': 5121, 'sad': 6077, 'neutral': 6198, 'happy': 8989, 'surprise': 4002, 'disgust': 547}\n"
          ]
        }
      ]
    },
    {
      "cell_type": "code",
      "source": [
        "# we can also print proportions of each emotions\n",
        "prop_emotions = {emotion: round(nums/len(data_df), 4) for (emotion, nums) in num_emotions.items()}\n",
        "print(prop_emotions)"
      ],
      "metadata": {
        "colab": {
          "base_uri": "https://localhost:8080/"
        },
        "id": "wtIVNqE6FI9V",
        "outputId": "58632111-6c01-4d27-8f71-c3dcc5baff4f"
      },
      "execution_count": 12,
      "outputs": [
        {
          "output_type": "stream",
          "name": "stdout",
          "text": [
            "{'angry': 0.138, 'fear': 0.1427, 'sad': 0.1693, 'neutral': 0.1727, 'happy': 0.2505, 'surprise': 0.1115, 'disgust': 0.0152}\n"
          ]
        }
      ]
    },
    {
      "cell_type": "markdown",
      "source": [
        "As we can understand from our proportions 'disgust' has very small contribution on our whole dataset. \n",
        "It's contribution will be much diminished when we divide the data into train, validation and test sets. Therefore, the model wouldn't learn much about this emotion. That's why we have smaller accuracy there. \n",
        "\n",
        "\n",
        "\n",
        "\n",
        "We can, however, see that the opposite is true for 'happy'. we can see from the confusion matrix that more than 80% of 'happy' images are correctly classified under 'happy'. This is because, our dataset has relatively larger proportion of 'happy' images such that our model have got descent amount of happy data."
      ],
      "metadata": {
        "id": "XYEyEtLOJZVC"
      }
    }
  ]
}
