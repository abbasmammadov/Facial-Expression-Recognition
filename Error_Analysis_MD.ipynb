{
  "nbformat": 4,
  "nbformat_minor": 0,
  "metadata": {
    "colab": {
      "name": "Error Analysis_MD.ipynb",
      "provenance": [],
      "collapsed_sections": [],
      "include_colab_link": true
    },
    "kernelspec": {
      "name": "python3",
      "display_name": "Python 3"
    },
    "language_info": {
      "name": "python"
    },
    "accelerator": "GPU"
  },
  "cells": [
    {
      "cell_type": "markdown",
      "metadata": {
        "id": "view-in-github",
        "colab_type": "text"
      },
      "source": [
        "<a href=\"https://colab.research.google.com/github/abbasmammadov/Facial-Expression-Recognition/blob/main/Error_Analysis_MD.ipynb\" target=\"_parent\"><img src=\"https://colab.research.google.com/assets/colab-badge.svg\" alt=\"Open In Colab\"/></a>"
      ]
    },
    {
      "cell_type": "markdown",
      "source": [
        "# Error analysis\n",
        "\n",
        "mount your drive first - you can do it just once"
      ],
      "metadata": {
        "id": "fv68zYtxHJR-"
      }
    },
    {
      "cell_type": "code",
      "source": [
        "from google.colab import drive\n",
        "drive.mount('/content/drive')"
      ],
      "metadata": {
        "id": "_hbOvpcyD-7H",
        "colab": {
          "base_uri": "https://localhost:8080/"
        },
        "outputId": "3456a97f-8354-4292-ad4e-1350e9c23e8a"
      },
      "execution_count": null,
      "outputs": [
        {
          "output_type": "stream",
          "name": "stdout",
          "text": [
            "Drive already mounted at /content/drive; to attempt to forcibly remount, call drive.mount(\"/content/drive\", force_remount=True).\n"
          ]
        }
      ]
    },
    {
      "cell_type": "markdown",
      "source": [
        "importing necessary modules"
      ],
      "metadata": {
        "id": "mZxtqWxUHYZ6"
      }
    },
    {
      "cell_type": "code",
      "source": [
        "import numpy as np\n",
        "import pandas as pd\n",
        "import torch\n",
        "import torch.nn as nn\n",
        "import torch.nn.functional as F\n",
        "import torch.optim as optim\n",
        "from torch.utils.data import DataLoader, Dataset\n",
        "from PIL import Image\n",
        "import os\n",
        "import torchvision.datasets as dset\n",
        "import torchvision.transforms as T\n",
        "from torchvision import models\n",
        "import matplotlib.pyplot as plt"
      ],
      "metadata": {
        "id": "1O_7o8yiL7fZ"
      },
      "execution_count": null,
      "outputs": []
    },
    {
      "cell_type": "markdown",
      "source": [
        "Now we will load our model. In this step, torch needs the original class of the model to be present on the stage where we load it's best parameter (or it's best 'state_dict'). Therefore, first, we have to create the model instance first, and load it's best state dictionary from our drive."
      ],
      "metadata": {
        "id": "JS8NvmjmHdVr"
      }
    },
    {
      "cell_type": "code",
      "source": [
        "from collections import OrderedDict\n",
        "device = 'cuda' if torch.cuda.is_available() else 'cpu'\n",
        "model = models.resnet50(pretrained=True)\n",
        "model.fc = nn.Linear(model.fc.in_features, 7)\n",
        "data_path = '/content/drive/MyDrive/datasets'\n",
        "only_fer_path = '/content/drive/MyDrive/ML Project Folder/project/datasets/fer2013'\n",
        "best_model_path = os.path.join(data_path, 'resnet-50-sgd.h5')\n",
        "model.load_state_dict(torch.load(best_model_path))\n",
        "model = model.to(device)"
      ],
      "metadata": {
        "id": "f4llbGqItcs7"
      },
      "execution_count": null,
      "outputs": []
    },
    {
      "cell_type": "markdown",
      "source": [
        "Next, we will convert every image we load in the testset to a normalized tensor."
      ],
      "metadata": {
        "id": "u_5hgkTVH2h7"
      }
    },
    {
      "cell_type": "code",
      "source": [
        "#load the dataset, and get the data augmentation ready \n",
        "# in this case the data augmentation is only converting it to a normalized tensor\n",
        "from torchvision.datasets import ImageFolder\n",
        "import torchvision.transforms as T\n",
        "test_augs = T.ToTensor()"
      ],
      "metadata": {
        "id": "W2Mp02TH7W5H"
      },
      "execution_count": null,
      "outputs": []
    },
    {
      "cell_type": "markdown",
      "source": [
        "# On the whole dataset (FER2013 + CKplus + Affectnet)"
      ],
      "metadata": {
        "id": "0iwCQIDL3v93"
      }
    },
    {
      "cell_type": "code",
      "source": [
        "# since we want to evaluate our model in our test dataset, we wll only load our test dataset\n",
        "test_path = os.path.join(data_path, 'test')\n",
        "\n",
        "# perform the data augmentation, and store the new dataset\n",
        "testset = ImageFolder(test_path, transform=test_augs)\n",
        "\n",
        "print(f\"Total no. of examples in testset : {len(testset)}\")\n",
        "\n",
        "##let's load our test dataset in a format suitable to pytorch\n",
        "testloader = DataLoader(testset)"
      ],
      "metadata": {
        "colab": {
          "base_uri": "https://localhost:8080/"
        },
        "id": "6pZVeQzu9YGZ",
        "outputId": "90adbc9e-74dc-46b4-c815-36a547419dea"
      },
      "execution_count": null,
      "outputs": [
        {
          "output_type": "stream",
          "name": "stdout",
          "text": [
            "Total no. of examples in testset : 3589\n"
          ]
        }
      ]
    },
    {
      "cell_type": "markdown",
      "source": [
        "Now we will evaluate our model on our test data. We will get predictions, and compare them with the true labels."
      ],
      "metadata": {
        "id": "MWERCWeXIFmK"
      }
    },
    {
      "cell_type": "code",
      "source": [
        "#accuracy of the model\n",
        "from tqdm import tqdm\n",
        "def multiclass_accuracy(y_pred,y_true):\n",
        "    top_p,top_class = y_pred.topk(1,dim = 1)\n",
        "    equals = top_class == y_true.view(*top_class.shape)\n",
        "    return torch.mean(equals.type(torch.FloatTensor))"
      ],
      "metadata": {
        "id": "LF5qpabCQJPU"
      },
      "execution_count": null,
      "outputs": []
    },
    {
      "cell_type": "code",
      "source": [
        "def test_model(model, dataloader, current_epoch=1):\n",
        "  # initialize the test tensors\n",
        "  true_labels = torch.zeros((len(dataloader)))\n",
        "  predictions = torch.zeros((len(dataloader)))\n",
        "  model.eval()\n",
        "  total_loss = 0.0\n",
        "  total_acc = 0.0\n",
        "  # tk = tqdm(dataloader, desc='EPOCH' + '[TEST]' + str(current_epoch) + \"/\" + str(1))\n",
        "  print('Evaluating accuracy on the test set........')\n",
        "  for t, data in enumerate(dataloader):\n",
        "    images, labels = data\n",
        "    images, labels = images.to(device), labels.to(device)\n",
        "\n",
        "    logits = model(images)\n",
        "    loss = nn.CrossEntropyLoss()(logits,  labels)\n",
        "\n",
        "    total_loss += loss.item()\n",
        "    total_acc += multiclass_accuracy(logits, labels)\n",
        "    predictions[t], true_labels[t] = logits.argmax(1), labels\n",
        "    # tk.set_postfix({'loss': float(total_loss/(t+1)),'acc': float(total_acc/(t+1))})\n",
        "  return {'loss': total_loss/len(dataloader), 'accuracy': total_acc / len(dataloader), 'predictions': predictions, 'true_labels': true_labels}"
      ],
      "metadata": {
        "id": "PJTuniX_KDVj"
      },
      "execution_count": null,
      "outputs": []
    },
    {
      "cell_type": "code",
      "source": [
        "test_info = test_model(model, testloader)\n",
        "test_loss, test_acc, predictions, true_labels = test_info['loss'], test_info['accuracy'], test_info['predictions'], test_info['true_labels']\n",
        "print('accuracy:', float(test_acc))"
      ],
      "metadata": {
        "colab": {
          "base_uri": "https://localhost:8080/"
        },
        "id": "SPuQMGdtSfiR",
        "outputId": "d59bd3b9-e5b6-46bf-9acb-f1bc5fd68833"
      },
      "execution_count": null,
      "outputs": [
        {
          "output_type": "stream",
          "name": "stdout",
          "text": [
            "Evaluating accuracy on the test set........\n",
            "accuracy: 0.6104764342308044\n"
          ]
        }
      ]
    },
    {
      "cell_type": "markdown",
      "source": [
        "Now we will analyze how correctly each emotions are being classified by our model using confusion matrix from the scikit-learn library"
      ],
      "metadata": {
        "id": "UyqltFL0IOvU"
      }
    },
    {
      "cell_type": "code",
      "source": [
        "from sklearn.metrics import confusion_matrix\n",
        "from seaborn import heatmap\n",
        "\n",
        "#the label encoding used in our CSV file -> encoding which maps to emotion \n",
        "em_dict = {0: 'angry', 1: 'disgust', 2: 'fear', 3: 'happy', 4: 'sad', 5: 'surprise', 6: 'neutral'}\n",
        "num_classes = 7\n",
        "\n",
        "#build a heatmap which helps us to visualize the confusion matrix\n",
        "conf_mat_colored = pd.DataFrame(confusion_matrix(true_labels, predictions, normalize='true').round(2), index=em_dict.values(), columns=em_dict.values())\n",
        "\n",
        "#now plot it\n",
        "plt.figure(figsize=(5,5))\n",
        "heatmap(conf_mat_colored, annot=True, cmap=plt.cm.GnBu)\n",
        "plt.tight_layout()\n",
        "plt.title('Confusion matrix on the whole test dataset')\n",
        "plt.ylabel('True Emotion')\n",
        "plt.xlabel('Predicted Emotion')\n",
        "plt.show()"
      ],
      "metadata": {
        "id": "8LhyvWoVHBQ3",
        "outputId": "1fee16b2-7614-43d3-9a78-80c217d14119",
        "colab": {
          "base_uri": "https://localhost:8080/",
          "height": 399
        }
      },
      "execution_count": null,
      "outputs": [
        {
          "output_type": "display_data",
          "data": {
            "text/plain": [
              "<Figure size 360x360 with 2 Axes>"
            ],
            "image/png": "[encoded data removed]"
          },
          "metadata": {
            "needs_background": "light"
          }
        }
      ]
    },
    {
      "cell_type": "markdown",
      "source": [
        "\n",
        "To demonstrate how the proportion of each labels contribute to the accuracy of our model, let's make some data analysis on the entire dataset and try to count the proportion of each emotion"
      ],
      "metadata": {
        "id": "gVF2JsF_Iwbl"
      }
    },
    {
      "cell_type": "code",
      "source": [
        "csv_path = os.path.join(data_path, 'fer2013.csv')\n",
        "data_df = pd.read_csv(csv_path)\n",
        "labels = data_df['emotion']"
      ],
      "metadata": {
        "id": "CT-PDGljDcmN"
      },
      "execution_count": null,
      "outputs": []
    },
    {
      "cell_type": "code",
      "source": [
        "from collections import Counter\n",
        "# now we can count the proportion of each emotion\n",
        "labled_num_emotions = Counter(labels) # this counter labels each emotions as numbers. Therefore, let's use our 'em_dict' to convert them into the emotions\n",
        "num_fer_emotions = {em_dict[label]: nums for (label, nums) in labled_num_emotions.items()}\n",
        "print(num_fer_emotions)"
      ],
      "metadata": {
        "colab": {
          "base_uri": "https://localhost:8080/"
        },
        "id": "5bjv1bXWDuYX",
        "outputId": "7892b742-1839-4f69-c904-88003ba68716"
      },
      "execution_count": null,
      "outputs": [
        {
          "output_type": "stream",
          "name": "stdout",
          "text": [
            "{'angry': 4953, 'fear': 5121, 'sad': 6077, 'neutral': 6198, 'happy': 8989, 'surprise': 4002, 'disgust': 547}\n"
          ]
        }
      ]
    },
    {
      "cell_type": "code",
      "source": [
        "# we can also print proportions of each emotions\n",
        "prop_fer_emotions = {emotion: round(nums/len(data_df), 4) for (emotion, nums) in num_fer_emotions.items()}\n",
        "print(prop_fer_emotions)"
      ],
      "metadata": {
        "colab": {
          "base_uri": "https://localhost:8080/"
        },
        "id": "wtIVNqE6FI9V",
        "outputId": "89b9281f-5848-4843-f6a8-fad7776a99f8"
      },
      "execution_count": null,
      "outputs": [
        {
          "output_type": "stream",
          "name": "stdout",
          "text": [
            "{'angry': 0.138, 'fear': 0.1427, 'sad': 0.1693, 'neutral': 0.1727, 'happy': 0.2505, 'surprise': 0.1115, 'disgust': 0.0152}\n"
          ]
        }
      ]
    },
    {
      "cell_type": "code",
      "source": [
        "# now let's examine the impact of adding the auxiliary datasets\n",
        "aff_label_path = os.path.join(data_path, 'labels.csv')\n",
        "data_df2 = pd.read_csv(aff_label_path)\n",
        "num_aff_emotions = {emotion: num for emotion,num in Counter(data_df2['label']).items() if emotion != 'contempt'}\n",
        "print(num_aff_emotions)"
      ],
      "metadata": {
        "colab": {
          "base_uri": "https://localhost:8080/"
        },
        "id": "vb7zekJ5yokq",
        "outputId": "67b6f67a-110e-438d-9934-6d6fed95e90f"
      },
      "execution_count": null,
      "outputs": [
        {
          "output_type": "stream",
          "name": "stdout",
          "text": [
            "{'surprise': 4889, 'anger': 4160, 'fear': 3753, 'disgust': 3776, 'sad': 3352, 'neutral': 3102, 'happy': 4382}\n"
          ]
        }
      ]
    },
    {
      "cell_type": "code",
      "source": [
        "#now let's add up those dictionaries, and compare the confusion matrix\n",
        "fer_aff_emotions = {emotion: num1+num2 for emotion, num1 in num_fer_emotions.items() for emotion2, num2 in num_aff_emotions.items() if emotion[:3]==emotion2[:3]}\n",
        "print(fer_aff_emotions)"
      ],
      "metadata": {
        "colab": {
          "base_uri": "https://localhost:8080/"
        },
        "id": "87K7Ar1HzvTl",
        "outputId": "e80d5c4b-4c10-4bb3-feb6-a8aa51c021bb"
      },
      "execution_count": null,
      "outputs": [
        {
          "output_type": "stream",
          "name": "stdout",
          "text": [
            "{'angry': 9113, 'fear': 8874, 'sad': 9429, 'neutral': 9300, 'happy': 13371, 'surprise': 8891, 'disgust': 4323}\n"
          ]
        }
      ]
    },
    {
      "cell_type": "code",
      "source": [
        "num_ckp_emotions = {'anger': 135, 'disgust': 177, 'fear': 75, 'happy': 207, 'sadness': 84, 'surprise': 249}\n",
        "total_emotions = {emotion: num1+num2 for emotion, num1 in fer_aff_emotions.items() for emotion2, num2 in num_ckp_emotions.items() if emotion[:3]==emotion2[:3]}\n",
        "print(total_emotions)"
      ],
      "metadata": {
        "colab": {
          "base_uri": "https://localhost:8080/"
        },
        "id": "hTciAuhl0170",
        "outputId": "0acef6e9-39d4-44d6-b38c-2074a70af05e"
      },
      "execution_count": null,
      "outputs": [
        {
          "output_type": "stream",
          "name": "stdout",
          "text": [
            "{'angry': 9248, 'fear': 8949, 'sad': 9513, 'happy': 13578, 'surprise': 9140, 'disgust': 4500}\n"
          ]
        }
      ]
    },
    {
      "cell_type": "code",
      "source": [
        "prop_emotions = {emotion: round(nums/len(data_df), 4) for (emotion, nums) in total_emotions.items()}\n",
        "print(prop_emotions)"
      ],
      "metadata": {
        "colab": {
          "base_uri": "https://localhost:8080/"
        },
        "id": "bLKfuWc32BEE",
        "outputId": "1e87e108-978d-4ffa-c393-759edba1c572"
      },
      "execution_count": null,
      "outputs": [
        {
          "output_type": "stream",
          "name": "stdout",
          "text": [
            "{'angry': 0.2577, 'fear': 0.2494, 'sad': 0.2651, 'happy': 0.3784, 'surprise': 0.2547, 'disgust': 0.1254}\n"
          ]
        }
      ]
    },
    {
      "cell_type": "markdown",
      "source": [
        "Now we can see that by adding auxiliary datasets we have atleast increased the proportion of the \"disgust\" images from 1% to 12.5% which highly sounds an improvement to the balance in the distribution of the labels of the dataset.\n",
        "\n",
        "Next we'll compare this confusion matrix with the one which is obtained by training our model only on FER2013 dataset"
      ],
      "metadata": {
        "id": "QynPuJ6d2WOQ"
      }
    },
    {
      "cell_type": "markdown",
      "source": [
        "# Only on FER2013"
      ],
      "metadata": {
        "id": "BtSYDuBC36N0"
      }
    },
    {
      "cell_type": "markdown",
      "source": [
        "Let's perform the same analysis only on FER2013 dataset and let's compare the confusion matrix we get"
      ],
      "metadata": {
        "id": "6seNRUd_4gnM"
      }
    },
    {
      "cell_type": "code",
      "source": [
        "\n",
        "test_path = os.path.join(only_fer_path, 'test')\n",
        "\n",
        "# perform the data augmentation, and store the new dataset\n",
        "testset = ImageFolder(test_path, transform=test_augs)\n",
        "\n",
        "print(f\"Total no. of examples in testset : {len(testset)}\")\n",
        "\n",
        "##let's load our test dataset in a format suitable to pytorch\n",
        "testloader = DataLoader(testset)"
      ],
      "metadata": {
        "colab": {
          "base_uri": "https://localhost:8080/"
        },
        "id": "tFBH5bTY39f4",
        "outputId": "4120dd8e-ab26-4374-a768-1ef89e40f7ac"
      },
      "execution_count": null,
      "outputs": [
        {
          "output_type": "stream",
          "name": "stdout",
          "text": [
            "Total no. of examples in testset : 3589\n"
          ]
        }
      ]
    },
    {
      "cell_type": "markdown",
      "source": [
        "Now let's load the model we have trained only on FER2013 dataset"
      ],
      "metadata": {
        "id": "QqKhD8Tg6A7e"
      }
    },
    {
      "cell_type": "code",
      "source": [
        "model = models.resnet50(pretrained=True)\n",
        "model.fc = nn.Sequential(OrderedDict([\n",
        "    ('dropout1', nn.Dropout(p=0.5)), \n",
        "    ('fc1', nn.Linear(model.fc.in_features, 4096)), \n",
        "    ('relu1', nn.ReLU(inplace=True)), \n",
        "    ('dropout2', nn.Dropout(p=0.5)), \n",
        "    ('fc2', nn.Linear(4096, 1024)), \n",
        "    ('relu2', nn.ReLU(inplace=True)), \n",
        "    ('dropout3', nn.Dropout(p=0.5)), \n",
        "    ('fc4', nn.Linear(1024, 7)), \n",
        "]))\n",
        "model_path = '/content/drive/MyDrive/ML Project Folder/Models'\n",
        "best_model_path = os.path.join(model_path, 'best-resnet.h5')\n",
        "model.load_state_dict(torch.load(best_model_path))\n",
        "model = model.to(device)"
      ],
      "metadata": {
        "id": "xi8P0R9A57_-"
      },
      "execution_count": null,
      "outputs": []
    },
    {
      "cell_type": "code",
      "source": [
        "test_info = test_model(model, testloader)\n",
        "test_loss, test_acc, predictions, true_labels = test_info['loss'], test_info['accuracy'], test_info['predictions'], test_info['true_labels']\n",
        "print('accuracy:', float(test_acc))"
      ],
      "metadata": {
        "colab": {
          "base_uri": "https://localhost:8080/"
        },
        "id": "1VlQT4si4z7n",
        "outputId": "c533071a-bb30-48e8-e1e5-00ba009aa830"
      },
      "execution_count": null,
      "outputs": [
        {
          "output_type": "stream",
          "name": "stdout",
          "text": [
            "Evaluating accuracy on the test set........\n",
            "accuracy: 0.6210643649101257\n"
          ]
        }
      ]
    },
    {
      "cell_type": "code",
      "source": [
        "#Now build a heatmap which helps us to visualize the confusion matrix\n",
        "conf_mat_colored = pd.DataFrame(confusion_matrix(true_labels, predictions, normalize='true').round(2), index=em_dict.values(), columns=em_dict.values())\n",
        "\n",
        "#now plot it\n",
        "plt.figure(figsize=(5,5))\n",
        "heatmap(conf_mat_colored, annot=True, cmap=plt.cm.GnBu)\n",
        "plt.tight_layout()\n",
        "plt.title('Confusion matrix on FER2013 test dataset')\n",
        "plt.ylabel('True Emotion')\n",
        "plt.xlabel('Predicted Emotion')\n",
        "plt.show()"
      ],
      "metadata": {
        "colab": {
          "base_uri": "https://localhost:8080/",
          "height": 399
        },
        "id": "kDhcvkvM40cq",
        "outputId": "aa04a549-5458-4ade-99c9-5a5559fac059"
      },
      "execution_count": null,
      "outputs": [
        {
          "output_type": "display_data",
          "data": {
            "text/plain": [
              "<Figure size 360x360 with 2 Axes>"
            ],
            "image/png": "[encoded data removed]"
          },
          "metadata": {
            "needs_background": "light"
          }
        }
      ]
    },
    {
      "cell_type": "markdown",
      "source": [
        "# Comparision of the 2 confusion matrices"
      ],
      "metadata": {
        "id": "vx9lAMPV_YhL"
      }
    },
    {
      "cell_type": "markdown",
      "source": [
        "In the second confusion matrix, we can see that most of the images have been correctly classified to their categories, but if we see the 'disgust' column, we can see that it's the category in which fewer acutal 'disgust' images are correctly classified as 'disgust', and for our surprise, there is almost no any emotion which has been misclassified as 'disgust'. As we have discussed earlier, this is due to the presence of small amount of images labled as 'disgust'.\n"
      ],
      "metadata": {
        "id": "gDwQGejY_eBK"
      }
    },
    {
      "cell_type": "markdown",
      "source": [
        "We can also understand from our proportion dictionaries that 'disgust' has very small contribution on our whole dataset. Therefore, it's contribution will be much diminished when we divide the data into train, validation and test sets. Therefore, the model wouldn't learn much about this emotion. That's why we have smaller accuracy there."
      ],
      "metadata": {
        "id": "adJvqtgW_eGi"
      }
    },
    {
      "cell_type": "markdown",
      "source": [
        "### What happened after we have added auxiliary datasets? "
      ],
      "metadata": {
        "id": "QrMQ2JoHAqPL"
      }
    },
    {
      "cell_type": "markdown",
      "source": [
        "The proportion dictionaries showed an increase in the contribution of 'disgust' and other 'minor' images to the dataset. Then, after training our model with the augmented dataset, we were able to achieve the confusion matrix (Figure - 1). We can see that the percentage of 'disgust' images which have been correctly classified has increased from 26% to 42%. "
      ],
      "metadata": {
        "id": "8VVNTCPSAu2x"
      }
    }
  ]
}