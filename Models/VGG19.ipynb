{
  "nbformat": 4,
  "nbformat_minor": 0,
  "metadata": {
    "colab": {
      "name": "Copy of VGG19.ipynb",
      "provenance": [],
      "collapsed_sections": [],
      "include_colab_link": true
    },
    "kernelspec": {
      "name": "python3",
      "display_name": "Python 3"
    },
    "language_info": {
      "name": "python"
    },
    "accelerator": "GPU",
    "widgets": {
      "application/vnd.jupyter.widget-state+json": {
        "43864e6fd05a41e380ec2f6bf9a74a6b": {
          "model_module": "@jupyter-widgets/controls",
          "model_name": "HBoxModel",
          "model_module_version": "1.5.0",
          "state": {
            "_dom_classes": [],
            "_model_module": "@jupyter-widgets/controls",
            "_model_module_version": "1.5.0",
            "_model_name": "HBoxModel",
            "_view_count": null,
            "_view_module": "@jupyter-widgets/controls",
            "_view_module_version": "1.5.0",
            "_view_name": "HBoxView",
            "box_style": "",
            "children": [
              "IPY_MODEL_5e17e94227194a2aa3f0254a478ae9cf",
              "IPY_MODEL_818d48272c214bfc90fc02894d0910d8",
              "IPY_MODEL_d2b638b88d004d8ca98112d7d457c313"
            ],
            "layout": "IPY_MODEL_47cf2c7891e94ec786d86d22babb1abb"
          }
        },
        "5e17e94227194a2aa3f0254a478ae9cf": {
          "model_module": "@jupyter-widgets/controls",
          "model_name": "HTMLModel",
          "model_module_version": "1.5.0",
          "state": {
            "_dom_classes": [],
            "_model_module": "@jupyter-widgets/controls",
            "_model_module_version": "1.5.0",
            "_model_name": "HTMLModel",
            "_view_count": null,
            "_view_module": "@jupyter-widgets/controls",
            "_view_module_version": "1.5.0",
            "_view_name": "HTMLView",
            "description": "",
            "description_tooltip": null,
            "layout": "IPY_MODEL_aec8ca2cbb2c40139f8cd8cfbcb277bb",
            "placeholder": "​",
            "style": "IPY_MODEL_05334649aa074d0a8939c128ed01da62",
            "value": "100%"
          }
        },
        "818d48272c214bfc90fc02894d0910d8": {
          "model_module": "@jupyter-widgets/controls",
          "model_name": "FloatProgressModel",
          "model_module_version": "1.5.0",
          "state": {
            "_dom_classes": [],
            "_model_module": "@jupyter-widgets/controls",
            "_model_module_version": "1.5.0",
            "_model_name": "FloatProgressModel",
            "_view_count": null,
            "_view_module": "@jupyter-widgets/controls",
            "_view_module_version": "1.5.0",
            "_view_name": "ProgressView",
            "bar_style": "success",
            "description": "",
            "description_tooltip": null,
            "layout": "IPY_MODEL_f9eeca159f56413b9fe00d8b0cdff160",
            "max": 574673361,
            "min": 0,
            "orientation": "horizontal",
            "style": "IPY_MODEL_248012f05af94e8484b25a9833b51b1f",
            "value": 574673361
          }
        },
        "d2b638b88d004d8ca98112d7d457c313": {
          "model_module": "@jupyter-widgets/controls",
          "model_name": "HTMLModel",
          "model_module_version": "1.5.0",
          "state": {
            "_dom_classes": [],
            "_model_module": "@jupyter-widgets/controls",
            "_model_module_version": "1.5.0",
            "_model_name": "HTMLModel",
            "_view_count": null,
            "_view_module": "@jupyter-widgets/controls",
            "_view_module_version": "1.5.0",
            "_view_name": "HTMLView",
            "description": "",
            "description_tooltip": null,
            "layout": "IPY_MODEL_97218304e0ae4b9b8f27454c4be11356",
            "placeholder": "​",
            "style": "IPY_MODEL_65aae382b5f34280b53a63b3bf3dca20",
            "value": " 548M/548M [00:02&lt;00:00, 212MB/s]"
          }
        },
        "47cf2c7891e94ec786d86d22babb1abb": {
          "model_module": "@jupyter-widgets/base",
          "model_name": "LayoutModel",
          "model_module_version": "1.2.0",
          "state": {
            "_model_module": "@jupyter-widgets/base",
            "_model_module_version": "1.2.0",
            "_model_name": "LayoutModel",
            "_view_count": null,
            "_view_module": "@jupyter-widgets/base",
            "_view_module_version": "1.2.0",
            "_view_name": "LayoutView",
            "align_content": null,
            "align_items": null,
            "align_self": null,
            "border": null,
            "bottom": null,
            "display": null,
            "flex": null,
            "flex_flow": null,
            "grid_area": null,
            "grid_auto_columns": null,
            "grid_auto_flow": null,
            "grid_auto_rows": null,
            "grid_column": null,
            "grid_gap": null,
            "grid_row": null,
            "grid_template_areas": null,
            "grid_template_columns": null,
            "grid_template_rows": null,
            "height": null,
            "justify_content": null,
            "justify_items": null,
            "left": null,
            "margin": null,
            "max_height": null,
            "max_width": null,
            "min_height": null,
            "min_width": null,
            "object_fit": null,
            "object_position": null,
            "order": null,
            "overflow": null,
            "overflow_x": null,
            "overflow_y": null,
            "padding": null,
            "right": null,
            "top": null,
            "visibility": null,
            "width": null
          }
        },
        "aec8ca2cbb2c40139f8cd8cfbcb277bb": {
          "model_module": "@jupyter-widgets/base",
          "model_name": "LayoutModel",
          "model_module_version": "1.2.0",
          "state": {
            "_model_module": "@jupyter-widgets/base",
            "_model_module_version": "1.2.0",
            "_model_name": "LayoutModel",
            "_view_count": null,
            "_view_module": "@jupyter-widgets/base",
            "_view_module_version": "1.2.0",
            "_view_name": "LayoutView",
            "align_content": null,
            "align_items": null,
            "align_self": null,
            "border": null,
            "bottom": null,
            "display": null,
            "flex": null,
            "flex_flow": null,
            "grid_area": null,
            "grid_auto_columns": null,
            "grid_auto_flow": null,
            "grid_auto_rows": null,
            "grid_column": null,
            "grid_gap": null,
            "grid_row": null,
            "grid_template_areas": null,
            "grid_template_columns": null,
            "grid_template_rows": null,
            "height": null,
            "justify_content": null,
            "justify_items": null,
            "left": null,
            "margin": null,
            "max_height": null,
            "max_width": null,
            "min_height": null,
            "min_width": null,
            "object_fit": null,
            "object_position": null,
            "order": null,
            "overflow": null,
            "overflow_x": null,
            "overflow_y": null,
            "padding": null,
            "right": null,
            "top": null,
            "visibility": null,
            "width": null
          }
        },
        "05334649aa074d0a8939c128ed01da62": {
          "model_module": "@jupyter-widgets/controls",
          "model_name": "DescriptionStyleModel",
          "model_module_version": "1.5.0",
          "state": {
            "_model_module": "@jupyter-widgets/controls",
            "_model_module_version": "1.5.0",
            "_model_name": "DescriptionStyleModel",
            "_view_count": null,
            "_view_module": "@jupyter-widgets/base",
            "_view_module_version": "1.2.0",
            "_view_name": "StyleView",
            "description_width": ""
          }
        },
        "f9eeca159f56413b9fe00d8b0cdff160": {
          "model_module": "@jupyter-widgets/base",
          "model_name": "LayoutModel",
          "model_module_version": "1.2.0",
          "state": {
            "_model_module": "@jupyter-widgets/base",
            "_model_module_version": "1.2.0",
            "_model_name": "LayoutModel",
            "_view_count": null,
            "_view_module": "@jupyter-widgets/base",
            "_view_module_version": "1.2.0",
            "_view_name": "LayoutView",
            "align_content": null,
            "align_items": null,
            "align_self": null,
            "border": null,
            "bottom": null,
            "display": null,
            "flex": null,
            "flex_flow": null,
            "grid_area": null,
            "grid_auto_columns": null,
            "grid_auto_flow": null,
            "grid_auto_rows": null,
            "grid_column": null,
            "grid_gap": null,
            "grid_row": null,
            "grid_template_areas": null,
            "grid_template_columns": null,
            "grid_template_rows": null,
            "height": null,
            "justify_content": null,
            "justify_items": null,
            "left": null,
            "margin": null,
            "max_height": null,
            "max_width": null,
            "min_height": null,
            "min_width": null,
            "object_fit": null,
            "object_position": null,
            "order": null,
            "overflow": null,
            "overflow_x": null,
            "overflow_y": null,
            "padding": null,
            "right": null,
            "top": null,
            "visibility": null,
            "width": null
          }
        },
        "248012f05af94e8484b25a9833b51b1f": {
          "model_module": "@jupyter-widgets/controls",
          "model_name": "ProgressStyleModel",
          "model_module_version": "1.5.0",
          "state": {
            "_model_module": "@jupyter-widgets/controls",
            "_model_module_version": "1.5.0",
            "_model_name": "ProgressStyleModel",
            "_view_count": null,
            "_view_module": "@jupyter-widgets/base",
            "_view_module_version": "1.2.0",
            "_view_name": "StyleView",
            "bar_color": null,
            "description_width": ""
          }
        },
        "97218304e0ae4b9b8f27454c4be11356": {
          "model_module": "@jupyter-widgets/base",
          "model_name": "LayoutModel",
          "model_module_version": "1.2.0",
          "state": {
            "_model_module": "@jupyter-widgets/base",
            "_model_module_version": "1.2.0",
            "_model_name": "LayoutModel",
            "_view_count": null,
            "_view_module": "@jupyter-widgets/base",
            "_view_module_version": "1.2.0",
            "_view_name": "LayoutView",
            "align_content": null,
            "align_items": null,
            "align_self": null,
            "border": null,
            "bottom": null,
            "display": null,
            "flex": null,
            "flex_flow": null,
            "grid_area": null,
            "grid_auto_columns": null,
            "grid_auto_flow": null,
            "grid_auto_rows": null,
            "grid_column": null,
            "grid_gap": null,
            "grid_row": null,
            "grid_template_areas": null,
            "grid_template_columns": null,
            "grid_template_rows": null,
            "height": null,
            "justify_content": null,
            "justify_items": null,
            "left": null,
            "margin": null,
            "max_height": null,
            "max_width": null,
            "min_height": null,
            "min_width": null,
            "object_fit": null,
            "object_position": null,
            "order": null,
            "overflow": null,
            "overflow_x": null,
            "overflow_y": null,
            "padding": null,
            "right": null,
            "top": null,
            "visibility": null,
            "width": null
          }
        },
        "65aae382b5f34280b53a63b3bf3dca20": {
          "model_module": "@jupyter-widgets/controls",
          "model_name": "DescriptionStyleModel",
          "model_module_version": "1.5.0",
          "state": {
            "_model_module": "@jupyter-widgets/controls",
            "_model_module_version": "1.5.0",
            "_model_name": "DescriptionStyleModel",
            "_view_count": null,
            "_view_module": "@jupyter-widgets/base",
            "_view_module_version": "1.2.0",
            "_view_name": "StyleView",
            "description_width": ""
          }
        }
      }
    }
  },
  "cells": [
    {
      "cell_type": "markdown",
      "metadata": {
        "id": "view-in-github",
        "colab_type": "text"
      },
      "source": [
        "<a href=\"https://colab.research.google.com/github/abbasmammadov/Facial-Expression-Recognition/blob/main/Models/VGG19.ipynb\" target=\"_parent\"><img src=\"https://colab.research.google.com/assets/colab-badge.svg\" alt=\"Open In Colab\"/></a>"
      ]
    },
    {
      "cell_type": "code",
      "source": [
        "#mount your drive first - you can do it once\n",
        "from google.colab import drive\n",
        "drive.mount('/content/drive')"
      ],
      "metadata": {
        "id": "_hbOvpcyD-7H",
        "colab": {
          "base_uri": "https://localhost:8080/"
        },
        "outputId": "5bd8265e-5abd-4f19-ee5e-8f2b2fa37741"
      },
      "execution_count": 1,
      "outputs": [
        {
          "output_type": "stream",
          "name": "stdout",
          "text": [
            "Mounted at /content/drive\n"
          ]
        }
      ]
    },
    {
      "cell_type": "code",
      "source": [
        "#importing necessary modules\n",
        "import numpy as np\n",
        "import pandas as pd\n",
        "import torch\n",
        "import torch.nn as nn\n",
        "import torch.nn.functional as F\n",
        "import torch.optim as optim\n",
        "from torch.utils.data import DataLoader, Dataset\n",
        "from PIL import Image\n",
        "import os\n",
        "import torchvision.datasets as dset\n",
        "import torchvision.transforms as T"
      ],
      "metadata": {
        "id": "1O_7o8yiL7fZ"
      },
      "execution_count": 2,
      "outputs": []
    },
    {
      "cell_type": "code",
      "source": [
        "#hyperparameters start form \n",
        "lr = 1e-3\n",
        "batch_size = 32\n",
        "epochs = 50\n",
        "\n",
        "#device\n",
        "device = 'cpu'\n",
        "if torch.cuda.is_available():\n",
        "  device = 'cuda'\n",
        "  print('GPU available')\n",
        "else:\n",
        "  print('training is done on CPU')"
      ],
      "metadata": {
        "id": "1AtbkaA7Ozsy",
        "colab": {
          "base_uri": "https://localhost:8080/"
        },
        "outputId": "4e9c0ff1-b5ae-4175-ebf1-cc30edaeada6"
      },
      "execution_count": 3,
      "outputs": [
        {
          "output_type": "stream",
          "name": "stdout",
          "text": [
            "GPU available\n"
          ]
        }
      ]
    },
    {
      "cell_type": "code",
      "source": [
        "#now let's load the dataset into the 'dataloader' package of pytorch\n",
        "from torchvision.datasets import ImageFolder\n",
        "import torchvision.transforms as T"
      ],
      "metadata": {
        "id": "mDauIl3KPaE4"
      },
      "execution_count": 4,
      "outputs": []
    },
    {
      "cell_type": "code",
      "source": [
        "#first step is creating an augmentation cell using transforms of pytorch\n",
        "train_augs = T.Compose([T.RandomHorizontalFlip(p=0.5), \n",
        "                        T.RandomRotation(degrees=(-10, +10)),\n",
        "                        T.RandomAffine(degrees=(-10, +10), translate=(0.1, 0.2)),\n",
        "                        T.ToTensor()])\n",
        "\n",
        "valid_augs = T.Compose([T.ToTensor()])\n",
        "\n",
        "test_augs = T.Compose([T.ToTensor()])"
      ],
      "metadata": {
        "id": "3Mn5MAN8SsUR"
      },
      "execution_count": 5,
      "outputs": []
    },
    {
      "cell_type": "code",
      "source": [
        "data_path = '/content/drive/MyDrive/ML Project Folder/project/datasets/fer2013'\n",
        "train_path = os.path.join(data_path, 'train')\n",
        "validation_path = os.path.join(data_path, 'validation')\n",
        "test_path = os.path.join(data_path, 'test')"
      ],
      "metadata": {
        "id": "xJKiovhRb1Yz"
      },
      "execution_count": 6,
      "outputs": []
    },
    {
      "cell_type": "code",
      "source": [
        "trainset = ImageFolder(train_path, transform=train_augs)\n",
        "validset = ImageFolder(validation_path, transform=valid_augs)\n",
        "testset = ImageFolder(test_path, transform=test_augs)\n",
        "print(f\"Total no. of examples in trainset : {len(trainset)}\")\n",
        "print(f\"Total no. of examples in validset : {len(validset)}\")\n",
        "print(f\"Total no. of examples in testset : {len(testset)}\")"
      ],
      "metadata": {
        "id": "-iRhgKwIS3jX",
        "colab": {
          "base_uri": "https://localhost:8080/"
        },
        "outputId": "9bda0201-78ba-4422-fdca-fb54e99e43ac"
      },
      "execution_count": 7,
      "outputs": [
        {
          "output_type": "stream",
          "name": "stdout",
          "text": [
            "Total no. of examples in trainset : 28709\n",
            "Total no. of examples in validset : 3589\n",
            "Total no. of examples in testset : 3589\n"
          ]
        }
      ]
    },
    {
      "cell_type": "code",
      "source": [
        "print(trainset.class_to_idx)"
      ],
      "metadata": {
        "id": "SrM66qzviRg6",
        "colab": {
          "base_uri": "https://localhost:8080/"
        },
        "outputId": "44e63ac4-06e1-4a51-f74a-c3a1c8fcb694"
      },
      "execution_count": 8,
      "outputs": [
        {
          "output_type": "stream",
          "name": "stdout",
          "text": [
            "{'angry': 0, 'disgust': 1, 'fear': 2, 'happy': 3, 'neutral': 4, 'sad': 5, 'surprise': 6}\n"
          ]
        }
      ]
    },
    {
      "cell_type": "code",
      "source": [
        "#we can view some images and their labels\n",
        "import matplotlib.pyplot as plt\n",
        "idx = np.random.randint(low=0, high=len(trainset)-1)\n",
        "print('chosen index: ', idx)\n",
        "image, label = trainset[idx] # the image has format of h, w, c -> so it have to be reshaped\n",
        "plt.imshow(image.permute(1, 2, 0))\n",
        "plt.title(label)"
      ],
      "metadata": {
        "id": "4KPvBCwgiWqI",
        "colab": {
          "base_uri": "https://localhost:8080/",
          "height": 316
        },
        "outputId": "6cb00a73-12e6-4397-ffd5-8d5c4b5ce8c1"
      },
      "execution_count": 9,
      "outputs": [
        {
          "output_type": "stream",
          "name": "stdout",
          "text": [
            "chosen index:  13533\n"
          ]
        },
        {
          "output_type": "execute_result",
          "data": {
            "text/plain": [
              "Text(0.5, 1.0, '3')"
            ]
          },
          "metadata": {},
          "execution_count": 9
        },
        {
          "output_type": "display_data",
          "data": {
            "text/plain": [
              "<Figure size 432x288 with 1 Axes>"
            ],
            "image/png": "[encoded data removed]"
          },
          "metadata": {
            "needs_background": "light"
          }
        }
      ]
    },
    {
      "cell_type": "code",
      "source": [
        "#now let's read the dataset using pytorch's dataloader\n",
        "trainloader = DataLoader(trainset, batch_size=batch_size, shuffle=True)\n",
        "validloader = DataLoader(validset, batch_size=batch_size)\n",
        "testloader = DataLoader(testset)\n",
        "print('total batches in trainloader: ', len(trainloader), ', validloader: ', len(validloader), ', and testloader', len(testloader))"
      ],
      "metadata": {
        "id": "5BU0SeIctamL",
        "colab": {
          "base_uri": "https://localhost:8080/"
        },
        "outputId": "bda49420-5fee-49c6-f5ec-1d3bcfba503a"
      },
      "execution_count": 10,
      "outputs": [
        {
          "output_type": "stream",
          "name": "stdout",
          "text": [
            "total batches in trainloader:  898 , validloader:  113 , and testloader 3589\n"
          ]
        }
      ]
    },
    {
      "cell_type": "code",
      "source": [
        "#checking the shapes of each batch\n",
        "for images, labels in trainloader:\n",
        "  break\n",
        "print(f'shape of a batch of images: {images.shape}')\n",
        "print(f'shape of a batch of labels: {labels.shape}')"
      ],
      "metadata": {
        "id": "HPjkKbNXsyhM",
        "colab": {
          "base_uri": "https://localhost:8080/"
        },
        "outputId": "2942c770-d9aa-46cf-f73d-ba5ee29f358c"
      },
      "execution_count": 11,
      "outputs": [
        {
          "output_type": "stream",
          "name": "stdout",
          "text": [
            "shape of a batch of images: torch.Size([32, 3, 48, 48])\n",
            "shape of a batch of labels: torch.Size([32])\n"
          ]
        }
      ]
    },
    {
      "cell_type": "code",
      "source": [
        "from torchvision import models"
      ],
      "metadata": {
        "id": "gfjbdWSG1s4x"
      },
      "execution_count": 12,
      "outputs": []
    },
    {
      "cell_type": "code",
      "source": [
        "model = models.vgg19(pretrained=True)\n",
        "model.to(device)"
      ],
      "metadata": {
        "id": "mSG4M3c2wAiw",
        "colab": {
          "base_uri": "https://localhost:8080/",
          "height": 952,
          "referenced_widgets": [
            "43864e6fd05a41e380ec2f6bf9a74a6b",
            "5e17e94227194a2aa3f0254a478ae9cf",
            "818d48272c214bfc90fc02894d0910d8",
            "d2b638b88d004d8ca98112d7d457c313",
            "47cf2c7891e94ec786d86d22babb1abb",
            "aec8ca2cbb2c40139f8cd8cfbcb277bb",
            "05334649aa074d0a8939c128ed01da62",
            "f9eeca159f56413b9fe00d8b0cdff160",
            "248012f05af94e8484b25a9833b51b1f",
            "97218304e0ae4b9b8f27454c4be11356",
            "65aae382b5f34280b53a63b3bf3dca20"
          ]
        },
        "outputId": "01ba4144-453b-4a19-b132-dafc0f97bbe5"
      },
      "execution_count": 13,
      "outputs": [
        {
          "output_type": "stream",
          "name": "stderr",
          "text": [
            "Downloading: \"https://download.pytorch.org/models/vgg19-dcbb9e9d.pth\" to /root/.cache/torch/hub/checkpoints/vgg19-dcbb9e9d.pth\n"
          ]
        },
        {
          "output_type": "display_data",
          "data": {
            "text/plain": [
              "  0%|          | 0.00/548M [00:00<?, ?B/s]"
            ],
            "application/vnd.jupyter.widget-view+json": {
              "version_major": 2,
              "version_minor": 0,
              "model_id": "43864e6fd05a41e380ec2f6bf9a74a6b"
            }
          },
          "metadata": {}
        },
        {
          "output_type": "execute_result",
          "data": {
            "text/plain": [
              "VGG(\n",
              "  (features): Sequential(\n",
              "    (0): Conv2d(3, 64, kernel_size=(3, 3), stride=(1, 1), padding=(1, 1))\n",
              "    (1): ReLU(inplace=True)\n",
              "    (2): Conv2d(64, 64, kernel_size=(3, 3), stride=(1, 1), padding=(1, 1))\n",
              "    (3): ReLU(inplace=True)\n",
              "    (4): MaxPool2d(kernel_size=2, stride=2, padding=0, dilation=1, ceil_mode=False)\n",
              "    (5): Conv2d(64, 128, kernel_size=(3, 3), stride=(1, 1), padding=(1, 1))\n",
              "    (6): ReLU(inplace=True)\n",
              "    (7): Conv2d(128, 128, kernel_size=(3, 3), stride=(1, 1), padding=(1, 1))\n",
              "    (8): ReLU(inplace=True)\n",
              "    (9): MaxPool2d(kernel_size=2, stride=2, padding=0, dilation=1, ceil_mode=False)\n",
              "    (10): Conv2d(128, 256, kernel_size=(3, 3), stride=(1, 1), padding=(1, 1))\n",
              "    (11): ReLU(inplace=True)\n",
              "    (12): Conv2d(256, 256, kernel_size=(3, 3), stride=(1, 1), padding=(1, 1))\n",
              "    (13): ReLU(inplace=True)\n",
              "    (14): Conv2d(256, 256, kernel_size=(3, 3), stride=(1, 1), padding=(1, 1))\n",
              "    (15): ReLU(inplace=True)\n",
              "    (16): Conv2d(256, 256, kernel_size=(3, 3), stride=(1, 1), padding=(1, 1))\n",
              "    (17): ReLU(inplace=True)\n",
              "    (18): MaxPool2d(kernel_size=2, stride=2, padding=0, dilation=1, ceil_mode=False)\n",
              "    (19): Conv2d(256, 512, kernel_size=(3, 3), stride=(1, 1), padding=(1, 1))\n",
              "    (20): ReLU(inplace=True)\n",
              "    (21): Conv2d(512, 512, kernel_size=(3, 3), stride=(1, 1), padding=(1, 1))\n",
              "    (22): ReLU(inplace=True)\n",
              "    (23): Conv2d(512, 512, kernel_size=(3, 3), stride=(1, 1), padding=(1, 1))\n",
              "    (24): ReLU(inplace=True)\n",
              "    (25): Conv2d(512, 512, kernel_size=(3, 3), stride=(1, 1), padding=(1, 1))\n",
              "    (26): ReLU(inplace=True)\n",
              "    (27): MaxPool2d(kernel_size=2, stride=2, padding=0, dilation=1, ceil_mode=False)\n",
              "    (28): Conv2d(512, 512, kernel_size=(3, 3), stride=(1, 1), padding=(1, 1))\n",
              "    (29): ReLU(inplace=True)\n",
              "    (30): Conv2d(512, 512, kernel_size=(3, 3), stride=(1, 1), padding=(1, 1))\n",
              "    (31): ReLU(inplace=True)\n",
              "    (32): Conv2d(512, 512, kernel_size=(3, 3), stride=(1, 1), padding=(1, 1))\n",
              "    (33): ReLU(inplace=True)\n",
              "    (34): Conv2d(512, 512, kernel_size=(3, 3), stride=(1, 1), padding=(1, 1))\n",
              "    (35): ReLU(inplace=True)\n",
              "    (36): MaxPool2d(kernel_size=2, stride=2, padding=0, dilation=1, ceil_mode=False)\n",
              "  )\n",
              "  (avgpool): AdaptiveAvgPool2d(output_size=(7, 7))\n",
              "  (classifier): Sequential(\n",
              "    (0): Linear(in_features=25088, out_features=4096, bias=True)\n",
              "    (1): ReLU(inplace=True)\n",
              "    (2): Dropout(p=0.5, inplace=False)\n",
              "    (3): Linear(in_features=4096, out_features=4096, bias=True)\n",
              "    (4): ReLU(inplace=True)\n",
              "    (5): Dropout(p=0.5, inplace=False)\n",
              "    (6): Linear(in_features=4096, out_features=1000, bias=True)\n",
              "  )\n",
              ")"
            ]
          },
          "metadata": {},
          "execution_count": 13
        }
      ]
    },
    {
      "cell_type": "code",
      "source": [
        "#accuracy of the model\n",
        "from tqdm import tqdm\n",
        "def multiclass_accuracy(y_pred,y_true):\n",
        "    top_p,top_class = y_pred.topk(1,dim = 1)\n",
        "    equals = top_class == y_true.view(*top_class.shape)\n",
        "    return torch.mean(equals.type(torch.FloatTensor))"
      ],
      "metadata": {
        "id": "mpHoVI9VwEuP"
      },
      "execution_count": 14,
      "outputs": []
    },
    {
      "cell_type": "code",
      "source": [
        "#building the train and eval functions (training the model on the training and on the validation set)\n",
        "def train_model(model, dataloader, optimizer, current_epoch):\n",
        "\n",
        "  model.train()\n",
        "  total_loss = 0.0\n",
        "  total_acc = 0.0\n",
        "  tk = tqdm(dataloader, desc='EPOCH' + '[TRAIN]' + str(current_epoch + 1) + \"/\" + str(epochs))\n",
        "\n",
        "  for t, data in enumerate(tk):\n",
        "    images, labels = data\n",
        "    images, labels = images.to(device), labels.to(device)\n",
        "\n",
        "    optimizer.zero_grad()\n",
        "    logits = model(images)\n",
        "    loss = nn.CrossEntropyLoss()(logits,  labels)\n",
        "    loss.backward()\n",
        "    optimizer.step()\n",
        "\n",
        "    total_loss += loss.item()\n",
        "    total_acc += multiclass_accuracy(logits, labels)\n",
        "    tk.set_postfix({'loss': float(total_loss/(t+1)),'acc': float(total_acc/(t+1))})\n",
        "  return total_loss/len(dataloader), total_acc / len(dataloader)\n",
        "\n",
        "def eval_model(model, dataloader, current_epoch):\n",
        "\n",
        "  model.eval()\n",
        "  total_loss = 0.0\n",
        "  total_acc = 0.0\n",
        "  tk = tqdm(dataloader, desc='EPOCH' + '[VALID]' + str(current_epoch + 1) + \"/\" + str(epochs))\n",
        "\n",
        "  for t, data in enumerate(tk):\n",
        "    images, labels = data\n",
        "    images, labels = images.to(device), labels.to(device)\n",
        "\n",
        "    logits = model(images)\n",
        "    loss = nn.CrossEntropyLoss()(logits,  labels)\n",
        "\n",
        "    total_loss += loss.item()\n",
        "    total_acc += multiclass_accuracy(logits, labels)\n",
        "    tk.set_postfix({'loss': float(total_loss/(t+1)),'acc': float(total_acc/(t+1))})\n",
        "  return total_loss/len(dataloader), total_acc / len(dataloader)\n",
        "\n",
        "def test_model(model, dataloader, current_epoch=1):\n",
        "\n",
        "  model.eval()\n",
        "  total_loss = 0.0\n",
        "  total_acc = 0.0\n",
        "  tk = tqdm(dataloader, desc='EPOCH' + '[TEST]' + str(current_epoch + 1) + \"/\" + str(epochs))\n",
        "\n",
        "  for t, data in enumerate(tk):\n",
        "    images, labels = data\n",
        "    images, labels = images.to(device), labels.to(device)\n",
        "\n",
        "    logits = model(images)\n",
        "    loss = nn.CrossEntropyLoss()(logits,  labels)\n",
        "\n",
        "    total_loss += loss.item()\n",
        "    total_acc += multiclass_accuracy(logits, labels)\n",
        "    tk.set_postfix({'loss': float(total_loss/(t+1)),'acc': float(total_acc/(t+1))})\n",
        "  return total_loss/len(dataloader), total_acc / len(dataloader)"
      ],
      "metadata": {
        "id": "5gmlWz2fwy9Q"
      },
      "execution_count": 15,
      "outputs": []
    },
    {
      "cell_type": "code",
      "source": [
        "#now let's train the model\n",
        "from torch import optim\n",
        "# optimizer = optim.Adam(model.parameters(), lr=lr)\n",
        "optimizer = optim.SGD(model.parameters(), lr=lr, momentum=0.5, weight_decay=1e-2, nesterov=True) # gives much better accuracy"
      ],
      "metadata": {
        "id": "rzj7fwZoxLN_"
      },
      "execution_count": 16,
      "outputs": []
    },
    {
      "cell_type": "code",
      "source": [
        "best_valid_loss = np.Inf\n",
        "train_losses = []\n",
        "validation_losses = []\n",
        "for i in range(epochs):\n",
        "  train_loss, train_acc = train_model(model, trainloader, optimizer, i)\n",
        "  valid_loss, valid_acc = eval_model(model, validloader, i)\n",
        "  train_losses.append(train_loss)\n",
        "  validation_losses.append(valid_loss)\n",
        "\n",
        "  if valid_loss < best_valid_loss:\n",
        "    torch.save(model.state_dict(), 'best-weights.pt')\n",
        "    print('SAVED BEST WEIGHTS')\n",
        "    best_valid_loss = valid_loss\n",
        "print()\n",
        "print()\n",
        "print('accuracy on the training set: ', float(train_acc))\n",
        "print('accuracy on the validation set: ', float(valid_acc))"
      ],
      "metadata": {
        "id": "AGamEDaZyPxv",
        "colab": {
          "base_uri": "https://localhost:8080/"
        },
        "outputId": "756c19b7-294b-4de7-a736-c1fee009393b"
      },
      "execution_count": 17,
      "outputs": [
        {
          "output_type": "stream",
          "name": "stderr",
          "text": [
            "EPOCH[TRAIN]1/50: 100%|██████████| 898/898 [1:29:14<00:00,  5.96s/it, loss=1.8, acc=0.303]\n",
            "EPOCH[VALID]1/50: 100%|██████████| 113/113 [15:57<00:00,  8.47s/it, loss=1.55, acc=0.4]\n"
          ]
        },
        {
          "output_type": "stream",
          "name": "stdout",
          "text": [
            "SAVED BEST WEIGHTS\n"
          ]
        },
        {
          "output_type": "stream",
          "name": "stderr",
          "text": [
            "EPOCH[TRAIN]2/50: 100%|██████████| 898/898 [02:13<00:00,  6.75it/s, loss=1.51, acc=0.422]\n",
            "EPOCH[VALID]2/50: 100%|██████████| 113/113 [00:08<00:00, 13.68it/s, loss=1.92, acc=0.351]\n",
            "EPOCH[TRAIN]3/50: 100%|██████████| 898/898 [02:12<00:00,  6.76it/s, loss=1.41, acc=0.462]\n",
            "EPOCH[VALID]3/50: 100%|██████████| 113/113 [00:08<00:00, 13.87it/s, loss=1.39, acc=0.473]\n"
          ]
        },
        {
          "output_type": "stream",
          "name": "stdout",
          "text": [
            "SAVED BEST WEIGHTS\n"
          ]
        },
        {
          "output_type": "stream",
          "name": "stderr",
          "text": [
            "EPOCH[TRAIN]4/50: 100%|██████████| 898/898 [02:12<00:00,  6.76it/s, loss=1.35, acc=0.483]\n",
            "EPOCH[VALID]4/50: 100%|██████████| 113/113 [00:08<00:00, 13.98it/s, loss=1.27, acc=0.521]\n"
          ]
        },
        {
          "output_type": "stream",
          "name": "stdout",
          "text": [
            "SAVED BEST WEIGHTS\n"
          ]
        },
        {
          "output_type": "stream",
          "name": "stderr",
          "text": [
            "EPOCH[TRAIN]5/50: 100%|██████████| 898/898 [02:12<00:00,  6.76it/s, loss=1.31, acc=0.498]\n",
            "EPOCH[VALID]5/50: 100%|██████████| 113/113 [00:08<00:00, 13.81it/s, loss=1.31, acc=0.494]\n",
            "EPOCH[TRAIN]6/50: 100%|██████████| 898/898 [02:12<00:00,  6.79it/s, loss=1.27, acc=0.516]\n",
            "EPOCH[VALID]6/50: 100%|██████████| 113/113 [00:08<00:00, 14.08it/s, loss=1.36, acc=0.485]\n",
            "EPOCH[TRAIN]7/50: 100%|██████████| 898/898 [02:11<00:00,  6.84it/s, loss=1.24, acc=0.525]\n",
            "EPOCH[VALID]7/50: 100%|██████████| 113/113 [00:08<00:00, 14.01it/s, loss=1.2, acc=0.53]\n"
          ]
        },
        {
          "output_type": "stream",
          "name": "stdout",
          "text": [
            "SAVED BEST WEIGHTS\n"
          ]
        },
        {
          "output_type": "stream",
          "name": "stderr",
          "text": [
            "EPOCH[TRAIN]8/50: 100%|██████████| 898/898 [02:11<00:00,  6.82it/s, loss=1.22, acc=0.535]\n",
            "EPOCH[VALID]8/50: 100%|██████████| 113/113 [00:07<00:00, 14.14it/s, loss=1.16, acc=0.547]\n"
          ]
        },
        {
          "output_type": "stream",
          "name": "stdout",
          "text": [
            "SAVED BEST WEIGHTS\n"
          ]
        },
        {
          "output_type": "stream",
          "name": "stderr",
          "text": [
            "EPOCH[TRAIN]9/50: 100%|██████████| 898/898 [02:11<00:00,  6.81it/s, loss=1.2, acc=0.543]\n",
            "EPOCH[VALID]9/50: 100%|██████████| 113/113 [00:08<00:00, 14.01it/s, loss=1.22, acc=0.54]\n",
            "EPOCH[TRAIN]10/50: 100%|██████████| 898/898 [02:11<00:00,  6.85it/s, loss=1.18, acc=0.548]\n",
            "EPOCH[VALID]10/50: 100%|██████████| 113/113 [00:08<00:00, 13.97it/s, loss=1.22, acc=0.523]\n",
            "EPOCH[TRAIN]11/50: 100%|██████████| 898/898 [02:10<00:00,  6.88it/s, loss=1.16, acc=0.558]\n",
            "EPOCH[VALID]11/50: 100%|██████████| 113/113 [00:07<00:00, 14.32it/s, loss=1.14, acc=0.569]\n"
          ]
        },
        {
          "output_type": "stream",
          "name": "stdout",
          "text": [
            "SAVED BEST WEIGHTS\n"
          ]
        },
        {
          "output_type": "stream",
          "name": "stderr",
          "text": [
            "EPOCH[TRAIN]12/50: 100%|██████████| 898/898 [02:10<00:00,  6.88it/s, loss=1.15, acc=0.563]\n",
            "EPOCH[VALID]12/50: 100%|██████████| 113/113 [00:07<00:00, 14.20it/s, loss=1.09, acc=0.582]\n"
          ]
        },
        {
          "output_type": "stream",
          "name": "stdout",
          "text": [
            "SAVED BEST WEIGHTS\n"
          ]
        },
        {
          "output_type": "stream",
          "name": "stderr",
          "text": [
            "EPOCH[TRAIN]13/50: 100%|██████████| 898/898 [02:11<00:00,  6.84it/s, loss=1.14, acc=0.57]\n",
            "EPOCH[VALID]13/50: 100%|██████████| 113/113 [00:08<00:00, 14.03it/s, loss=1.26, acc=0.535]\n",
            "EPOCH[TRAIN]14/50: 100%|██████████| 898/898 [02:10<00:00,  6.86it/s, loss=1.13, acc=0.576]\n",
            "EPOCH[VALID]14/50: 100%|██████████| 113/113 [00:08<00:00, 13.82it/s, loss=1.14, acc=0.575]\n",
            "EPOCH[TRAIN]15/50: 100%|██████████| 898/898 [02:12<00:00,  6.80it/s, loss=1.12, acc=0.576]\n",
            "EPOCH[VALID]15/50: 100%|██████████| 113/113 [00:07<00:00, 14.18it/s, loss=1.12, acc=0.572]\n",
            "EPOCH[TRAIN]16/50: 100%|██████████| 898/898 [02:12<00:00,  6.79it/s, loss=1.11, acc=0.578]\n",
            "EPOCH[VALID]16/50: 100%|██████████| 113/113 [00:08<00:00, 13.94it/s, loss=1.18, acc=0.541]\n",
            "EPOCH[TRAIN]17/50: 100%|██████████| 898/898 [02:11<00:00,  6.84it/s, loss=1.1, acc=0.587]\n",
            "EPOCH[VALID]17/50: 100%|██████████| 113/113 [00:08<00:00, 13.76it/s, loss=1.31, acc=0.529]\n",
            "EPOCH[TRAIN]18/50: 100%|██████████| 898/898 [02:11<00:00,  6.82it/s, loss=1.09, acc=0.588]\n",
            "EPOCH[VALID]18/50: 100%|██████████| 113/113 [00:07<00:00, 14.13it/s, loss=1.04, acc=0.608]\n"
          ]
        },
        {
          "output_type": "stream",
          "name": "stdout",
          "text": [
            "SAVED BEST WEIGHTS\n"
          ]
        },
        {
          "output_type": "stream",
          "name": "stderr",
          "text": [
            "EPOCH[TRAIN]19/50: 100%|██████████| 898/898 [02:12<00:00,  6.78it/s, loss=1.08, acc=0.591]\n",
            "EPOCH[VALID]19/50: 100%|██████████| 113/113 [00:07<00:00, 14.28it/s, loss=1.15, acc=0.564]\n",
            "EPOCH[TRAIN]20/50: 100%|██████████| 898/898 [02:11<00:00,  6.83it/s, loss=1.08, acc=0.589]\n",
            "EPOCH[VALID]20/50: 100%|██████████| 113/113 [00:08<00:00, 14.08it/s, loss=1.21, acc=0.533]\n",
            "EPOCH[TRAIN]21/50: 100%|██████████| 898/898 [02:12<00:00,  6.77it/s, loss=1.07, acc=0.598]\n",
            "EPOCH[VALID]21/50: 100%|██████████| 113/113 [00:08<00:00, 14.03it/s, loss=1.02, acc=0.615]\n"
          ]
        },
        {
          "output_type": "stream",
          "name": "stdout",
          "text": [
            "SAVED BEST WEIGHTS\n"
          ]
        },
        {
          "output_type": "stream",
          "name": "stderr",
          "text": [
            "EPOCH[TRAIN]22/50: 100%|██████████| 898/898 [02:12<00:00,  6.79it/s, loss=1.06, acc=0.602]\n",
            "EPOCH[VALID]22/50: 100%|██████████| 113/113 [00:08<00:00, 14.04it/s, loss=1.07, acc=0.581]\n",
            "EPOCH[TRAIN]23/50: 100%|██████████| 898/898 [02:11<00:00,  6.80it/s, loss=1.05, acc=0.603]\n",
            "EPOCH[VALID]23/50: 100%|██████████| 113/113 [00:08<00:00, 13.88it/s, loss=1.05, acc=0.607]\n",
            "EPOCH[TRAIN]24/50: 100%|██████████| 898/898 [02:12<00:00,  6.79it/s, loss=1.05, acc=0.603]\n",
            "EPOCH[VALID]24/50: 100%|██████████| 113/113 [00:07<00:00, 14.29it/s, loss=1.12, acc=0.572]\n",
            "EPOCH[TRAIN]25/50: 100%|██████████| 898/898 [02:11<00:00,  6.84it/s, loss=1.05, acc=0.605]\n",
            "EPOCH[VALID]25/50: 100%|██████████| 113/113 [00:07<00:00, 14.47it/s, loss=1.21, acc=0.564]\n",
            "EPOCH[TRAIN]26/50: 100%|██████████| 898/898 [02:11<00:00,  6.85it/s, loss=1.04, acc=0.608]\n",
            "EPOCH[VALID]26/50: 100%|██████████| 113/113 [00:07<00:00, 14.16it/s, loss=1.03, acc=0.611]\n",
            "EPOCH[TRAIN]27/50: 100%|██████████| 898/898 [02:11<00:00,  6.83it/s, loss=1.04, acc=0.608]\n",
            "EPOCH[VALID]27/50: 100%|██████████| 113/113 [00:07<00:00, 14.42it/s, loss=1.17, acc=0.559]\n",
            "EPOCH[TRAIN]28/50: 100%|██████████| 898/898 [02:10<00:00,  6.88it/s, loss=1.04, acc=0.611]\n",
            "EPOCH[VALID]28/50: 100%|██████████| 113/113 [00:07<00:00, 14.28it/s, loss=0.996, acc=0.631]\n"
          ]
        },
        {
          "output_type": "stream",
          "name": "stdout",
          "text": [
            "SAVED BEST WEIGHTS\n"
          ]
        },
        {
          "output_type": "stream",
          "name": "stderr",
          "text": [
            "EPOCH[TRAIN]29/50: 100%|██████████| 898/898 [02:11<00:00,  6.85it/s, loss=1.03, acc=0.612]\n",
            "EPOCH[VALID]29/50: 100%|██████████| 113/113 [00:08<00:00, 13.91it/s, loss=1.15, acc=0.579]\n",
            "EPOCH[TRAIN]30/50: 100%|██████████| 898/898 [02:10<00:00,  6.86it/s, loss=1.02, acc=0.616]\n",
            "EPOCH[VALID]30/50: 100%|██████████| 113/113 [00:07<00:00, 14.45it/s, loss=1.07, acc=0.599]\n",
            "EPOCH[TRAIN]31/50: 100%|██████████| 898/898 [02:12<00:00,  6.80it/s, loss=1.02, acc=0.614]\n",
            "EPOCH[VALID]31/50: 100%|██████████| 113/113 [00:08<00:00, 13.97it/s, loss=1.29, acc=0.527]\n",
            "EPOCH[TRAIN]32/50: 100%|██████████| 898/898 [02:12<00:00,  6.76it/s, loss=1.03, acc=0.616]\n",
            "EPOCH[VALID]32/50: 100%|██████████| 113/113 [00:08<00:00, 14.08it/s, loss=0.985, acc=0.629]\n"
          ]
        },
        {
          "output_type": "stream",
          "name": "stdout",
          "text": [
            "SAVED BEST WEIGHTS\n"
          ]
        },
        {
          "output_type": "stream",
          "name": "stderr",
          "text": [
            "EPOCH[TRAIN]33/50: 100%|██████████| 898/898 [02:12<00:00,  6.76it/s, loss=1.02, acc=0.619]\n",
            "EPOCH[VALID]33/50: 100%|██████████| 113/113 [00:08<00:00, 13.83it/s, loss=1.05, acc=0.601]\n",
            "EPOCH[TRAIN]34/50: 100%|██████████| 898/898 [02:12<00:00,  6.79it/s, loss=1.02, acc=0.616]\n",
            "EPOCH[VALID]34/50: 100%|██████████| 113/113 [00:08<00:00, 14.10it/s, loss=1.02, acc=0.617]\n",
            "EPOCH[TRAIN]35/50: 100%|██████████| 898/898 [02:11<00:00,  6.83it/s, loss=1.01, acc=0.62]\n",
            "EPOCH[VALID]35/50: 100%|██████████| 113/113 [00:08<00:00, 14.11it/s, loss=1, acc=0.619]\n",
            "EPOCH[TRAIN]36/50: 100%|██████████| 898/898 [02:11<00:00,  6.83it/s, loss=1.01, acc=0.62]\n",
            "EPOCH[VALID]36/50: 100%|██████████| 113/113 [00:07<00:00, 14.14it/s, loss=1.05, acc=0.614]\n",
            "EPOCH[TRAIN]37/50: 100%|██████████| 898/898 [02:11<00:00,  6.82it/s, loss=1.01, acc=0.624]\n",
            "EPOCH[VALID]37/50: 100%|██████████| 113/113 [00:08<00:00, 14.11it/s, loss=1.02, acc=0.614]\n",
            "EPOCH[TRAIN]38/50: 100%|██████████| 898/898 [02:11<00:00,  6.83it/s, loss=1.01, acc=0.621]\n",
            "EPOCH[VALID]38/50: 100%|██████████| 113/113 [00:08<00:00, 14.10it/s, loss=1.06, acc=0.602]\n",
            "EPOCH[TRAIN]39/50: 100%|██████████| 898/898 [02:11<00:00,  6.83it/s, loss=1.01, acc=0.622]\n",
            "EPOCH[VALID]39/50: 100%|██████████| 113/113 [00:08<00:00, 14.11it/s, loss=1.15, acc=0.572]\n",
            "EPOCH[TRAIN]40/50: 100%|██████████| 898/898 [02:12<00:00,  6.80it/s, loss=1.01, acc=0.623]\n",
            "EPOCH[VALID]40/50: 100%|██████████| 113/113 [00:07<00:00, 14.34it/s, loss=1.01, acc=0.622]\n",
            "EPOCH[TRAIN]41/50: 100%|██████████| 898/898 [02:11<00:00,  6.84it/s, loss=1.01, acc=0.622]\n",
            "EPOCH[VALID]41/50: 100%|██████████| 113/113 [00:07<00:00, 14.41it/s, loss=1.01, acc=0.622]\n",
            "EPOCH[TRAIN]42/50: 100%|██████████| 898/898 [02:11<00:00,  6.82it/s, loss=1, acc=0.625]\n",
            "EPOCH[VALID]42/50: 100%|██████████| 113/113 [00:08<00:00, 13.78it/s, loss=1.14, acc=0.572]\n",
            "EPOCH[TRAIN]43/50: 100%|██████████| 898/898 [02:11<00:00,  6.81it/s, loss=0.999, acc=0.626]\n",
            "EPOCH[VALID]43/50: 100%|██████████| 113/113 [00:07<00:00, 14.13it/s, loss=0.981, acc=0.63]\n"
          ]
        },
        {
          "output_type": "stream",
          "name": "stdout",
          "text": [
            "SAVED BEST WEIGHTS\n"
          ]
        },
        {
          "output_type": "stream",
          "name": "stderr",
          "text": [
            "EPOCH[TRAIN]44/50: 100%|██████████| 898/898 [02:11<00:00,  6.84it/s, loss=1, acc=0.623]\n",
            "EPOCH[VALID]44/50: 100%|██████████| 113/113 [00:08<00:00, 13.86it/s, loss=1.16, acc=0.58]\n",
            "EPOCH[TRAIN]45/50: 100%|██████████| 898/898 [02:11<00:00,  6.84it/s, loss=1, acc=0.623]\n",
            "EPOCH[VALID]45/50: 100%|██████████| 113/113 [00:07<00:00, 14.15it/s, loss=1.16, acc=0.57]\n",
            "EPOCH[TRAIN]46/50: 100%|██████████| 898/898 [02:11<00:00,  6.84it/s, loss=1, acc=0.626]\n",
            "EPOCH[VALID]46/50: 100%|██████████| 113/113 [00:07<00:00, 14.33it/s, loss=1.43, acc=0.519]\n",
            "EPOCH[TRAIN]47/50: 100%|██████████| 898/898 [02:14<00:00,  6.69it/s, loss=0.996, acc=0.628]\n",
            "EPOCH[VALID]47/50: 100%|██████████| 113/113 [00:08<00:00, 13.67it/s, loss=1.25, acc=0.536]\n",
            "EPOCH[TRAIN]48/50: 100%|██████████| 898/898 [02:14<00:00,  6.68it/s, loss=1, acc=0.625]\n",
            "EPOCH[VALID]48/50: 100%|██████████| 113/113 [00:08<00:00, 13.57it/s, loss=1.03, acc=0.609]\n",
            "EPOCH[TRAIN]49/50: 100%|██████████| 898/898 [02:15<00:00,  6.63it/s, loss=0.998, acc=0.626]\n",
            "EPOCH[VALID]49/50: 100%|██████████| 113/113 [00:08<00:00, 13.55it/s, loss=1.44, acc=0.491]\n",
            "EPOCH[TRAIN]50/50: 100%|██████████| 898/898 [02:14<00:00,  6.69it/s, loss=0.999, acc=0.627]\n",
            "EPOCH[VALID]50/50: 100%|██████████| 113/113 [00:08<00:00, 13.73it/s, loss=1.02, acc=0.626]"
          ]
        },
        {
          "output_type": "stream",
          "name": "stdout",
          "text": [
            "\n",
            "\n",
            "accuracy on the training set:  0.6273385286331177\n",
            "accuracy on the validation set:  0.6263827681541443\n"
          ]
        },
        {
          "output_type": "stream",
          "name": "stderr",
          "text": [
            "\n"
          ]
        }
      ]
    },
    {
      "cell_type": "code",
      "source": [
        "def plot_the_loss_curve(epochs, training_losses, validation_losses):\n",
        "  \"\"\"Plot a curve of loss vs. epoch.\"\"\"\n",
        "  epochs = list(range(1, epochs + 1))\n",
        "  plt.figure(figsize=(10, 5))\n",
        "  plt.xlabel(\"Epoch\")\n",
        "  plt.ylabel(\"Cross Entropy losses\")\n",
        "\n",
        "  plt.plot(epochs[1:], training_losses[1:], label=\"Training Loss\")\n",
        "  plt.plot(epochs[1:], validation_losses[1:], label=\"Validation Loss\")\n",
        "  plt.legend()\n",
        "  \n",
        "  # We're not going to plot the first epoch, since the loss on the first epoch\n",
        "  # is often substantially greater than the loss for other epochs.\n",
        "  merged_losses = training_losses[1:] + validation_losses[1:]\n",
        "  highest_loss = max(merged_losses)\n",
        "  lowest_loss = min(merged_losses)\n",
        "  delta = highest_loss - lowest_loss\n",
        "  print(delta)\n",
        "\n",
        "  top_of_y_axis = highest_loss + (delta * 0.05)\n",
        "  bottom_of_y_axis = lowest_loss - (delta * 0.05)\n",
        "  plt.title('loss curve') \n",
        "  plt.ylim([bottom_of_y_axis, top_of_y_axis])\n",
        "  plt.show()  "
      ],
      "metadata": {
        "id": "2SWd3tteW85B"
      },
      "execution_count": 18,
      "outputs": []
    },
    {
      "cell_type": "code",
      "source": [
        "plot_the_loss_curve(epochs, train_losses, validation_losses)"
      ],
      "metadata": {
        "id": "iiwO-lyAXB4T",
        "colab": {
          "base_uri": "https://localhost:8080/",
          "height": 367
        },
        "outputId": "46c8cb32-e1ca-4b1c-dd76-cb9662aa7eda"
      },
      "execution_count": 19,
      "outputs": [
        {
          "output_type": "stream",
          "name": "stdout",
          "text": [
            "0.9397283585461895\n"
          ]
        },
        {
          "output_type": "display_data",
          "data": {
            "text/plain": [
              "<Figure size 720x360 with 1 Axes>"
            ],
            "image/png": "[encoded data removed]"
          },
          "metadata": {
            "needs_background": "light"
          }
        }
      ]
    },
    {
      "cell_type": "code",
      "source": [
        "test_loss, test_acc = test_model(model, testloader)\n",
        "print()\n",
        "print('accuracy on the test set: ', float(test_acc))"
      ],
      "metadata": {
        "id": "jyfdP1m3g9J6",
        "colab": {
          "base_uri": "https://localhost:8080/"
        },
        "outputId": "b84832d6-3026-47e4-a91c-3b4992176024"
      },
      "execution_count": 20,
      "outputs": [
        {
          "output_type": "stream",
          "name": "stderr",
          "text": [
            "EPOCH[TEST]2/50: 100%|██████████| 3589/3589 [18:21<00:00,  3.26it/s, loss=1.05, acc=0.609]"
          ]
        },
        {
          "output_type": "stream",
          "name": "stdout",
          "text": [
            "\n",
            "accuracy on the test set:  0.6085260510444641\n"
          ]
        },
        {
          "output_type": "stream",
          "name": "stderr",
          "text": [
            "\n"
          ]
        }
      ]
    }
  ]
}