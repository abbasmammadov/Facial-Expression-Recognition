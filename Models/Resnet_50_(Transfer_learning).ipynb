{
  "cells": [
    {
      "cell_type": "markdown",
      "metadata": {
        "id": "view-in-github",
        "colab_type": "text"
      },
      "source": [
        "<a href=\"https://colab.research.google.com/github/abbasmammadov/Facial-Expression-Recognition/blob/main/Models/Resnet_50_(Transfer_learning).ipynb\" target=\"_parent\"><img src=\"https://colab.research.google.com/assets/colab-badge.svg\" alt=\"Open In Colab\"/></a>"
      ]
    },
    {
      "cell_type": "code",
      "execution_count": null,
      "metadata": {
        "colab": {
          "base_uri": "https://localhost:8080/"
        },
        "id": "_hbOvpcyD-7H",
        "outputId": "3a070e67-97e5-4c81-96f5-6b2465b5af7b"
      },
      "outputs": [
        {
          "output_type": "stream",
          "name": "stdout",
          "text": [
            "Mounted at /content/drive\n"
          ]
        }
      ],
      "source": [
        "#mount your drive first - you can do it once\n",
        "from google.colab import drive\n",
        "drive.mount('/content/drive')"
      ]
    },
    {
      "cell_type": "code",
      "execution_count": null,
      "metadata": {
        "id": "1O_7o8yiL7fZ"
      },
      "outputs": [],
      "source": [
        "#importing necessary modules\n",
        "import numpy as np\n",
        "import pandas as pd\n",
        "import torch\n",
        "import torch.nn as nn\n",
        "import torch.nn.functional as F\n",
        "import torch.optim as optim\n",
        "from torch.utils.data import DataLoader, Dataset\n",
        "from PIL import Image\n",
        "import os\n",
        "import torchvision.datasets as dset\n",
        "import torchvision.transforms as T"
      ]
    },
    {
      "cell_type": "code",
      "execution_count": null,
      "metadata": {
        "colab": {
          "base_uri": "https://localhost:8080/"
        },
        "id": "1AtbkaA7Ozsy",
        "outputId": "612b22cb-113f-4145-a2c5-91ce5d51155a"
      },
      "outputs": [
        {
          "output_type": "stream",
          "name": "stdout",
          "text": [
            "GPU available\n"
          ]
        }
      ],
      "source": [
        "#hyperparameters start form \n",
        "lr = 1e-3\n",
        "batch_size = 128\n",
        "epochs = 50\n",
        "\n",
        "#device\n",
        "device = 'cpu'\n",
        "if torch.cuda.is_available():\n",
        "  device = 'cuda'\n",
        "  print('GPU available')\n",
        "else:\n",
        "  print('training is done on CPU')"
      ]
    },
    {
      "cell_type": "code",
      "execution_count": null,
      "metadata": {
        "id": "mDauIl3KPaE4"
      },
      "outputs": [],
      "source": [
        "#now let's load the dataset into the 'dataloader' package of pytorch\n",
        "from torchvision.datasets import ImageFolder\n",
        "import torchvision.transforms as T"
      ]
    },
    {
      "cell_type": "code",
      "execution_count": null,
      "metadata": {
        "id": "3Mn5MAN8SsUR"
      },
      "outputs": [],
      "source": [
        "#first step is creating an augmentation cell using transforms of pytorch\n",
        "train_augs = T.Compose([T.RandomHorizontalFlip(p=0.5), \n",
        "                        T.RandomRotation(degrees=(-10, +10)),\n",
        "                        T.RandomAffine(degrees=(-10, +10), translate=(0.1, 0.2)),\n",
        "                        T.ToTensor()])\n",
        "\n",
        "valid_augs = T.Compose([T.ToTensor()])\n",
        "\n",
        "test_augs = T.Compose([T.ToTensor()])"
      ]
    },
    {
      "cell_type": "code",
      "execution_count": null,
      "metadata": {
        "id": "xJKiovhRb1Yz"
      },
      "outputs": [],
      "source": [
        "data_path = '/content/drive/MyDrive/ML Project Folder/project/datasets/fer2013'\n",
        "train_path = os.path.join(data_path, 'train')\n",
        "validation_path = os.path.join(data_path, 'validation')\n",
        "test_path = os.path.join(data_path, 'test')"
      ]
    },
    {
      "cell_type": "code",
      "execution_count": null,
      "metadata": {
        "colab": {
          "base_uri": "https://localhost:8080/"
        },
        "id": "-iRhgKwIS3jX",
        "outputId": "efc92e3b-9404-455f-dbb7-aa94ce063814"
      },
      "outputs": [
        {
          "output_type": "stream",
          "name": "stdout",
          "text": [
            "Total no. of examples in trainset : 28709\n",
            "Total no. of examples in validset : 3589\n",
            "Total no. of examples in testset : 3589\n"
          ]
        }
      ],
      "source": [
        "trainset = ImageFolder(train_path, transform=train_augs)\n",
        "validset = ImageFolder(validation_path, transform=valid_augs)\n",
        "testset = ImageFolder(test_path, transform=test_augs)\n",
        "print(f\"Total no. of examples in trainset : {len(trainset)}\")\n",
        "print(f\"Total no. of examples in validset : {len(validset)}\")\n",
        "print(f\"Total no. of examples in testset : {len(testset)}\")"
      ]
    },
    {
      "cell_type": "code",
      "execution_count": null,
      "metadata": {
        "id": "SrM66qzviRg6",
        "colab": {
          "base_uri": "https://localhost:8080/"
        },
        "outputId": "1367d9f0-46bb-43dd-a6fb-fde0858b19ed"
      },
      "outputs": [
        {
          "output_type": "stream",
          "name": "stdout",
          "text": [
            "{'angry': 0, 'disgust': 1, 'fear': 2, 'happy': 3, 'neutral': 4, 'sad': 5, 'surprise': 6}\n"
          ]
        }
      ],
      "source": [
        "print(trainset.class_to_idx)"
      ]
    },
    {
      "cell_type": "code",
      "execution_count": null,
      "metadata": {
        "id": "4KPvBCwgiWqI",
        "colab": {
          "base_uri": "https://localhost:8080/",
          "height": 316
        },
        "outputId": "afbfb926-fe4a-42ba-ecc8-0f939043d572"
      },
      "outputs": [
        {
          "output_type": "stream",
          "name": "stdout",
          "text": [
            "chosen index:  21554\n"
          ]
        },
        {
          "output_type": "execute_result",
          "data": {
            "text/plain": [
              "Text(0.5, 1.0, '5')"
            ]
          },
          "metadata": {},
          "execution_count": 9
        },
        {
          "output_type": "display_data",
          "data": {
            "text/plain": [
              "<Figure size 432x288 with 1 Axes>"
            ],
            "image/png": "[encoded data removed]"
          },
          "metadata": {
            "needs_background": "light"
          }
        }
      ],
      "source": [
        "#we can view some images and their labels\n",
        "import matplotlib.pyplot as plt\n",
        "idx = np.random.randint(low=0, high=len(trainset)-1)\n",
        "print('chosen index: ', idx)\n",
        "image, label = trainset[idx] # the image has format of h, w, c -> so it have to be reshaped\n",
        "plt.imshow(image.permute(1, 2, 0))\n",
        "plt.title(label)"
      ]
    },
    {
      "cell_type": "code",
      "execution_count": null,
      "metadata": {
        "id": "5BU0SeIctamL",
        "colab": {
          "base_uri": "https://localhost:8080/"
        },
        "outputId": "06c43942-ba8f-49d7-f54a-6e95f8314dbd"
      },
      "outputs": [
        {
          "output_type": "stream",
          "name": "stdout",
          "text": [
            "total batches in trainloader:  225 , validloader:  29 , and testloader 3589\n"
          ]
        }
      ],
      "source": [
        "#now let's read the dataset using pytorch's dataloader\n",
        "trainloader = DataLoader(trainset, batch_size=batch_size, shuffle=True)\n",
        "validloader = DataLoader(validset, batch_size=batch_size)\n",
        "testloader = DataLoader(testset)\n",
        "print('total batches in trainloader: ', len(trainloader), ', validloader: ', len(validloader), ', and testloader', len(testloader))"
      ]
    },
    {
      "cell_type": "code",
      "execution_count": null,
      "metadata": {
        "id": "HPjkKbNXsyhM",
        "colab": {
          "base_uri": "https://localhost:8080/"
        },
        "outputId": "e9767040-f77f-421e-accc-a7cd4ea05bcf"
      },
      "outputs": [
        {
          "output_type": "stream",
          "name": "stdout",
          "text": [
            "shape of a batch of images: torch.Size([128, 3, 48, 48])\n",
            "shape of a batch of labels: torch.Size([128])\n"
          ]
        }
      ],
      "source": [
        "#checking the shapes of each batch\n",
        "for images, labels in trainloader:\n",
        "  break\n",
        "print(f'shape of a batch of images: {images.shape}')\n",
        "print(f'shape of a batch of labels: {labels.shape}')"
      ]
    },
    {
      "cell_type": "code",
      "execution_count": null,
      "metadata": {
        "id": "gfjbdWSG1s4x"
      },
      "outputs": [],
      "source": [
        "from torchvision import models"
      ]
    },
    {
      "cell_type": "code",
      "execution_count": null,
      "metadata": {
        "id": "mSG4M3c2wAiw",
        "colab": {
          "base_uri": "https://localhost:8080/"
        },
        "outputId": "ee265069-ae95-4c4d-87b1-52f009b2f55e"
      },
      "outputs": [
        {
          "output_type": "execute_result",
          "data": {
            "text/plain": [
              "ResNet(\n",
              "  (conv1): Conv2d(3, 64, kernel_size=(7, 7), stride=(2, 2), padding=(3, 3), bias=False)\n",
              "  (bn1): BatchNorm2d(64, eps=1e-05, momentum=0.1, affine=True, track_running_stats=True)\n",
              "  (relu): ReLU(inplace=True)\n",
              "  (maxpool): MaxPool2d(kernel_size=3, stride=2, padding=1, dilation=1, ceil_mode=False)\n",
              "  (layer1): Sequential(\n",
              "    (0): Bottleneck(\n",
              "      (conv1): Conv2d(64, 64, kernel_size=(1, 1), stride=(1, 1), bias=False)\n",
              "      (bn1): BatchNorm2d(64, eps=1e-05, momentum=0.1, affine=True, track_running_stats=True)\n",
              "      (conv2): Conv2d(64, 64, kernel_size=(3, 3), stride=(1, 1), padding=(1, 1), bias=False)\n",
              "      (bn2): BatchNorm2d(64, eps=1e-05, momentum=0.1, affine=True, track_running_stats=True)\n",
              "      (conv3): Conv2d(64, 256, kernel_size=(1, 1), stride=(1, 1), bias=False)\n",
              "      (bn3): BatchNorm2d(256, eps=1e-05, momentum=0.1, affine=True, track_running_stats=True)\n",
              "      (relu): ReLU(inplace=True)\n",
              "      (downsample): Sequential(\n",
              "        (0): Conv2d(64, 256, kernel_size=(1, 1), stride=(1, 1), bias=False)\n",
              "        (1): BatchNorm2d(256, eps=1e-05, momentum=0.1, affine=True, track_running_stats=True)\n",
              "      )\n",
              "    )\n",
              "    (1): Bottleneck(\n",
              "      (conv1): Conv2d(256, 64, kernel_size=(1, 1), stride=(1, 1), bias=False)\n",
              "      (bn1): BatchNorm2d(64, eps=1e-05, momentum=0.1, affine=True, track_running_stats=True)\n",
              "      (conv2): Conv2d(64, 64, kernel_size=(3, 3), stride=(1, 1), padding=(1, 1), bias=False)\n",
              "      (bn2): BatchNorm2d(64, eps=1e-05, momentum=0.1, affine=True, track_running_stats=True)\n",
              "      (conv3): Conv2d(64, 256, kernel_size=(1, 1), stride=(1, 1), bias=False)\n",
              "      (bn3): BatchNorm2d(256, eps=1e-05, momentum=0.1, affine=True, track_running_stats=True)\n",
              "      (relu): ReLU(inplace=True)\n",
              "    )\n",
              "    (2): Bottleneck(\n",
              "      (conv1): Conv2d(256, 64, kernel_size=(1, 1), stride=(1, 1), bias=False)\n",
              "      (bn1): BatchNorm2d(64, eps=1e-05, momentum=0.1, affine=True, track_running_stats=True)\n",
              "      (conv2): Conv2d(64, 64, kernel_size=(3, 3), stride=(1, 1), padding=(1, 1), bias=False)\n",
              "      (bn2): BatchNorm2d(64, eps=1e-05, momentum=0.1, affine=True, track_running_stats=True)\n",
              "      (conv3): Conv2d(64, 256, kernel_size=(1, 1), stride=(1, 1), bias=False)\n",
              "      (bn3): BatchNorm2d(256, eps=1e-05, momentum=0.1, affine=True, track_running_stats=True)\n",
              "      (relu): ReLU(inplace=True)\n",
              "    )\n",
              "  )\n",
              "  (layer2): Sequential(\n",
              "    (0): Bottleneck(\n",
              "      (conv1): Conv2d(256, 128, kernel_size=(1, 1), stride=(1, 1), bias=False)\n",
              "      (bn1): BatchNorm2d(128, eps=1e-05, momentum=0.1, affine=True, track_running_stats=True)\n",
              "      (conv2): Conv2d(128, 128, kernel_size=(3, 3), stride=(2, 2), padding=(1, 1), bias=False)\n",
              "      (bn2): BatchNorm2d(128, eps=1e-05, momentum=0.1, affine=True, track_running_stats=True)\n",
              "      (conv3): Conv2d(128, 512, kernel_size=(1, 1), stride=(1, 1), bias=False)\n",
              "      (bn3): BatchNorm2d(512, eps=1e-05, momentum=0.1, affine=True, track_running_stats=True)\n",
              "      (relu): ReLU(inplace=True)\n",
              "      (downsample): Sequential(\n",
              "        (0): Conv2d(256, 512, kernel_size=(1, 1), stride=(2, 2), bias=False)\n",
              "        (1): BatchNorm2d(512, eps=1e-05, momentum=0.1, affine=True, track_running_stats=True)\n",
              "      )\n",
              "    )\n",
              "    (1): Bottleneck(\n",
              "      (conv1): Conv2d(512, 128, kernel_size=(1, 1), stride=(1, 1), bias=False)\n",
              "      (bn1): BatchNorm2d(128, eps=1e-05, momentum=0.1, affine=True, track_running_stats=True)\n",
              "      (conv2): Conv2d(128, 128, kernel_size=(3, 3), stride=(1, 1), padding=(1, 1), bias=False)\n",
              "      (bn2): BatchNorm2d(128, eps=1e-05, momentum=0.1, affine=True, track_running_stats=True)\n",
              "      (conv3): Conv2d(128, 512, kernel_size=(1, 1), stride=(1, 1), bias=False)\n",
              "      (bn3): BatchNorm2d(512, eps=1e-05, momentum=0.1, affine=True, track_running_stats=True)\n",
              "      (relu): ReLU(inplace=True)\n",
              "    )\n",
              "    (2): Bottleneck(\n",
              "      (conv1): Conv2d(512, 128, kernel_size=(1, 1), stride=(1, 1), bias=False)\n",
              "      (bn1): BatchNorm2d(128, eps=1e-05, momentum=0.1, affine=True, track_running_stats=True)\n",
              "      (conv2): Conv2d(128, 128, kernel_size=(3, 3), stride=(1, 1), padding=(1, 1), bias=False)\n",
              "      (bn2): BatchNorm2d(128, eps=1e-05, momentum=0.1, affine=True, track_running_stats=True)\n",
              "      (conv3): Conv2d(128, 512, kernel_size=(1, 1), stride=(1, 1), bias=False)\n",
              "      (bn3): BatchNorm2d(512, eps=1e-05, momentum=0.1, affine=True, track_running_stats=True)\n",
              "      (relu): ReLU(inplace=True)\n",
              "    )\n",
              "    (3): Bottleneck(\n",
              "      (conv1): Conv2d(512, 128, kernel_size=(1, 1), stride=(1, 1), bias=False)\n",
              "      (bn1): BatchNorm2d(128, eps=1e-05, momentum=0.1, affine=True, track_running_stats=True)\n",
              "      (conv2): Conv2d(128, 128, kernel_size=(3, 3), stride=(1, 1), padding=(1, 1), bias=False)\n",
              "      (bn2): BatchNorm2d(128, eps=1e-05, momentum=0.1, affine=True, track_running_stats=True)\n",
              "      (conv3): Conv2d(128, 512, kernel_size=(1, 1), stride=(1, 1), bias=False)\n",
              "      (bn3): BatchNorm2d(512, eps=1e-05, momentum=0.1, affine=True, track_running_stats=True)\n",
              "      (relu): ReLU(inplace=True)\n",
              "    )\n",
              "  )\n",
              "  (layer3): Sequential(\n",
              "    (0): Bottleneck(\n",
              "      (conv1): Conv2d(512, 256, kernel_size=(1, 1), stride=(1, 1), bias=False)\n",
              "      (bn1): BatchNorm2d(256, eps=1e-05, momentum=0.1, affine=True, track_running_stats=True)\n",
              "      (conv2): Conv2d(256, 256, kernel_size=(3, 3), stride=(2, 2), padding=(1, 1), bias=False)\n",
              "      (bn2): BatchNorm2d(256, eps=1e-05, momentum=0.1, affine=True, track_running_stats=True)\n",
              "      (conv3): Conv2d(256, 1024, kernel_size=(1, 1), stride=(1, 1), bias=False)\n",
              "      (bn3): BatchNorm2d(1024, eps=1e-05, momentum=0.1, affine=True, track_running_stats=True)\n",
              "      (relu): ReLU(inplace=True)\n",
              "      (downsample): Sequential(\n",
              "        (0): Conv2d(512, 1024, kernel_size=(1, 1), stride=(2, 2), bias=False)\n",
              "        (1): BatchNorm2d(1024, eps=1e-05, momentum=0.1, affine=True, track_running_stats=True)\n",
              "      )\n",
              "    )\n",
              "    (1): Bottleneck(\n",
              "      (conv1): Conv2d(1024, 256, kernel_size=(1, 1), stride=(1, 1), bias=False)\n",
              "      (bn1): BatchNorm2d(256, eps=1e-05, momentum=0.1, affine=True, track_running_stats=True)\n",
              "      (conv2): Conv2d(256, 256, kernel_size=(3, 3), stride=(1, 1), padding=(1, 1), bias=False)\n",
              "      (bn2): BatchNorm2d(256, eps=1e-05, momentum=0.1, affine=True, track_running_stats=True)\n",
              "      (conv3): Conv2d(256, 1024, kernel_size=(1, 1), stride=(1, 1), bias=False)\n",
              "      (bn3): BatchNorm2d(1024, eps=1e-05, momentum=0.1, affine=True, track_running_stats=True)\n",
              "      (relu): ReLU(inplace=True)\n",
              "    )\n",
              "    (2): Bottleneck(\n",
              "      (conv1): Conv2d(1024, 256, kernel_size=(1, 1), stride=(1, 1), bias=False)\n",
              "      (bn1): BatchNorm2d(256, eps=1e-05, momentum=0.1, affine=True, track_running_stats=True)\n",
              "      (conv2): Conv2d(256, 256, kernel_size=(3, 3), stride=(1, 1), padding=(1, 1), bias=False)\n",
              "      (bn2): BatchNorm2d(256, eps=1e-05, momentum=0.1, affine=True, track_running_stats=True)\n",
              "      (conv3): Conv2d(256, 1024, kernel_size=(1, 1), stride=(1, 1), bias=False)\n",
              "      (bn3): BatchNorm2d(1024, eps=1e-05, momentum=0.1, affine=True, track_running_stats=True)\n",
              "      (relu): ReLU(inplace=True)\n",
              "    )\n",
              "    (3): Bottleneck(\n",
              "      (conv1): Conv2d(1024, 256, kernel_size=(1, 1), stride=(1, 1), bias=False)\n",
              "      (bn1): BatchNorm2d(256, eps=1e-05, momentum=0.1, affine=True, track_running_stats=True)\n",
              "      (conv2): Conv2d(256, 256, kernel_size=(3, 3), stride=(1, 1), padding=(1, 1), bias=False)\n",
              "      (bn2): BatchNorm2d(256, eps=1e-05, momentum=0.1, affine=True, track_running_stats=True)\n",
              "      (conv3): Conv2d(256, 1024, kernel_size=(1, 1), stride=(1, 1), bias=False)\n",
              "      (bn3): BatchNorm2d(1024, eps=1e-05, momentum=0.1, affine=True, track_running_stats=True)\n",
              "      (relu): ReLU(inplace=True)\n",
              "    )\n",
              "    (4): Bottleneck(\n",
              "      (conv1): Conv2d(1024, 256, kernel_size=(1, 1), stride=(1, 1), bias=False)\n",
              "      (bn1): BatchNorm2d(256, eps=1e-05, momentum=0.1, affine=True, track_running_stats=True)\n",
              "      (conv2): Conv2d(256, 256, kernel_size=(3, 3), stride=(1, 1), padding=(1, 1), bias=False)\n",
              "      (bn2): BatchNorm2d(256, eps=1e-05, momentum=0.1, affine=True, track_running_stats=True)\n",
              "      (conv3): Conv2d(256, 1024, kernel_size=(1, 1), stride=(1, 1), bias=False)\n",
              "      (bn3): BatchNorm2d(1024, eps=1e-05, momentum=0.1, affine=True, track_running_stats=True)\n",
              "      (relu): ReLU(inplace=True)\n",
              "    )\n",
              "    (5): Bottleneck(\n",
              "      (conv1): Conv2d(1024, 256, kernel_size=(1, 1), stride=(1, 1), bias=False)\n",
              "      (bn1): BatchNorm2d(256, eps=1e-05, momentum=0.1, affine=True, track_running_stats=True)\n",
              "      (conv2): Conv2d(256, 256, kernel_size=(3, 3), stride=(1, 1), padding=(1, 1), bias=False)\n",
              "      (bn2): BatchNorm2d(256, eps=1e-05, momentum=0.1, affine=True, track_running_stats=True)\n",
              "      (conv3): Conv2d(256, 1024, kernel_size=(1, 1), stride=(1, 1), bias=False)\n",
              "      (bn3): BatchNorm2d(1024, eps=1e-05, momentum=0.1, affine=True, track_running_stats=True)\n",
              "      (relu): ReLU(inplace=True)\n",
              "    )\n",
              "  )\n",
              "  (layer4): Sequential(\n",
              "    (0): Bottleneck(\n",
              "      (conv1): Conv2d(1024, 512, kernel_size=(1, 1), stride=(1, 1), bias=False)\n",
              "      (bn1): BatchNorm2d(512, eps=1e-05, momentum=0.1, affine=True, track_running_stats=True)\n",
              "      (conv2): Conv2d(512, 512, kernel_size=(3, 3), stride=(2, 2), padding=(1, 1), bias=False)\n",
              "      (bn2): BatchNorm2d(512, eps=1e-05, momentum=0.1, affine=True, track_running_stats=True)\n",
              "      (conv3): Conv2d(512, 2048, kernel_size=(1, 1), stride=(1, 1), bias=False)\n",
              "      (bn3): BatchNorm2d(2048, eps=1e-05, momentum=0.1, affine=True, track_running_stats=True)\n",
              "      (relu): ReLU(inplace=True)\n",
              "      (downsample): Sequential(\n",
              "        (0): Conv2d(1024, 2048, kernel_size=(1, 1), stride=(2, 2), bias=False)\n",
              "        (1): BatchNorm2d(2048, eps=1e-05, momentum=0.1, affine=True, track_running_stats=True)\n",
              "      )\n",
              "    )\n",
              "    (1): Bottleneck(\n",
              "      (conv1): Conv2d(2048, 512, kernel_size=(1, 1), stride=(1, 1), bias=False)\n",
              "      (bn1): BatchNorm2d(512, eps=1e-05, momentum=0.1, affine=True, track_running_stats=True)\n",
              "      (conv2): Conv2d(512, 512, kernel_size=(3, 3), stride=(1, 1), padding=(1, 1), bias=False)\n",
              "      (bn2): BatchNorm2d(512, eps=1e-05, momentum=0.1, affine=True, track_running_stats=True)\n",
              "      (conv3): Conv2d(512, 2048, kernel_size=(1, 1), stride=(1, 1), bias=False)\n",
              "      (bn3): BatchNorm2d(2048, eps=1e-05, momentum=0.1, affine=True, track_running_stats=True)\n",
              "      (relu): ReLU(inplace=True)\n",
              "    )\n",
              "    (2): Bottleneck(\n",
              "      (conv1): Conv2d(2048, 512, kernel_size=(1, 1), stride=(1, 1), bias=False)\n",
              "      (bn1): BatchNorm2d(512, eps=1e-05, momentum=0.1, affine=True, track_running_stats=True)\n",
              "      (conv2): Conv2d(512, 512, kernel_size=(3, 3), stride=(1, 1), padding=(1, 1), bias=False)\n",
              "      (bn2): BatchNorm2d(512, eps=1e-05, momentum=0.1, affine=True, track_running_stats=True)\n",
              "      (conv3): Conv2d(512, 2048, kernel_size=(1, 1), stride=(1, 1), bias=False)\n",
              "      (bn3): BatchNorm2d(2048, eps=1e-05, momentum=0.1, affine=True, track_running_stats=True)\n",
              "      (relu): ReLU(inplace=True)\n",
              "    )\n",
              "  )\n",
              "  (avgpool): AdaptiveAvgPool2d(output_size=(1, 1))\n",
              "  (fc): Sequential(\n",
              "    (dropout1): Dropout(p=0.5, inplace=False)\n",
              "    (fc1): Linear(in_features=2048, out_features=4096, bias=True)\n",
              "    (relu1): ReLU(inplace=True)\n",
              "    (dropout2): Dropout(p=0.5, inplace=False)\n",
              "    (fc2): Linear(in_features=4096, out_features=1024, bias=True)\n",
              "    (relu2): ReLU(inplace=True)\n",
              "    (dropout3): Dropout(p=0.5, inplace=False)\n",
              "    (fc4): Linear(in_features=1024, out_features=7, bias=True)\n",
              "  )\n",
              ")"
            ]
          },
          "metadata": {},
          "execution_count": 58
        }
      ],
      "source": [
        "from collections import OrderedDict\n",
        "\n",
        "model = models.resnet50(pretrained=True)\n",
        "\n",
        "num_in_features = model.fc.in_features\n",
        "#we can get the number of input features as follows\n",
        "# num_in_features = model.get_classifier().\n",
        "# for param in model.parameters():\n",
        "#   param.requires_grad = False\n",
        "\n",
        "# #let's also add some fully connected layer to demonstrate representation learning\n",
        "model.fc = nn.Sequential(OrderedDict([\n",
        "    ('dropout1', nn.Dropout(p=0.5)), \n",
        "    ('fc1', nn.Linear(num_in_features, 4096)), \n",
        "    ('relu1', nn.ReLU(inplace=True)), \n",
        "    ('dropout2', nn.Dropout(p=0.5)), \n",
        "    ('fc2', nn.Linear(4096, 1024)), \n",
        "    ('relu2', nn.ReLU(inplace=True)), \n",
        "    ('dropout3', nn.Dropout(p=0.5)), \n",
        "    ('fc4', nn.Linear(1024, 7)), \n",
        "]))\n",
        "model.to(device)"
      ]
    },
    {
      "cell_type": "code",
      "execution_count": null,
      "metadata": {
        "id": "mpHoVI9VwEuP"
      },
      "outputs": [],
      "source": [
        "#accuracy of the model\n",
        "from tqdm import tqdm\n",
        "def multiclass_accuracy(y_pred,y_true):\n",
        "    top_p,top_class = y_pred.topk(1,dim = 1)\n",
        "    equals = top_class == y_true.view(*top_class.shape)\n",
        "    return torch.mean(equals.type(torch.FloatTensor))"
      ]
    },
    {
      "cell_type": "code",
      "execution_count": null,
      "metadata": {
        "id": "5gmlWz2fwy9Q"
      },
      "outputs": [],
      "source": [
        "#building the train and eval functions (training the model on the training and on the validation set)\n",
        "def train_model(model, dataloader, optimizer, current_epoch):\n",
        "\n",
        "  model.train()\n",
        "  total_loss = 0.0\n",
        "  total_acc = 0.0\n",
        "  tk = tqdm(dataloader, desc='EPOCH' + '[TRAIN]' + str(current_epoch + 1) + \"/\" + str(epochs))\n",
        "\n",
        "  for t, data in enumerate(tk):\n",
        "    images, labels = data\n",
        "    images, labels = images.to(device), labels.to(device)\n",
        "\n",
        "    optimizer.zero_grad()\n",
        "    logits = model(images)\n",
        "    loss = nn.CrossEntropyLoss()(logits,  labels)\n",
        "    loss.backward()\n",
        "    optimizer.step()\n",
        "\n",
        "    total_loss += loss.item()\n",
        "    total_acc += multiclass_accuracy(logits, labels)\n",
        "    tk.set_postfix({'loss': float(total_loss/(t+1)),'acc': float(total_acc/(t+1))})\n",
        "  return total_loss/len(dataloader), total_acc / len(dataloader)\n",
        "\n",
        "def eval_model(model, dataloader, current_epoch):\n",
        "\n",
        "  model.eval()\n",
        "  total_loss = 0.0\n",
        "  total_acc = 0.0\n",
        "  tk = tqdm(dataloader, desc='EPOCH' + '[VALID]' + str(current_epoch + 1) + \"/\" + str(epochs))\n",
        "\n",
        "  for t, data in enumerate(tk):\n",
        "    images, labels = data\n",
        "    images, labels = images.to(device), labels.to(device)\n",
        "\n",
        "    logits = model(images)\n",
        "    loss = nn.CrossEntropyLoss()(logits,  labels)\n",
        "\n",
        "    total_loss += loss.item()\n",
        "    total_acc += multiclass_accuracy(logits, labels)\n",
        "    tk.set_postfix({'loss': float(total_loss/(t+1)),'acc': float(total_acc/(t+1))})\n",
        "  return total_loss/len(dataloader), total_acc / len(dataloader)\n",
        "\n",
        "def test_model(model, dataloader, current_epoch=1):\n",
        "\n",
        "  model.eval()\n",
        "  total_loss = 0.0\n",
        "  total_acc = 0.0\n",
        "  tk = tqdm(dataloader, desc='EPOCH' + '[TEST]' + str(current_epoch) + \"/\" + str(1))\n",
        "\n",
        "  for t, data in enumerate(tk):\n",
        "    images, labels = data\n",
        "    images, labels = images.to(device), labels.to(device)\n",
        "\n",
        "    logits = model(images)\n",
        "    loss = nn.CrossEntropyLoss()(logits,  labels)\n",
        "\n",
        "    total_loss += loss.item()\n",
        "    total_acc += multiclass_accuracy(logits, labels)\n",
        "    tk.set_postfix({'loss': float(total_loss/(t+1)),'acc': float(total_acc/(t+1))})\n",
        "  return total_loss/len(dataloader), total_acc / len(dataloader)"
      ]
    },
    {
      "cell_type": "code",
      "execution_count": null,
      "metadata": {
        "id": "rzj7fwZoxLN_"
      },
      "outputs": [],
      "source": [
        "#now let's train the model\n",
        "from torch import optim\n",
        "# optimizer = optim.Adam(model.parameters(), lr=lr)\n",
        "optimizer = optim.SGD(model.parameters(), lr=lr, momentum=0.9, weight_decay=1e-4, nesterov=True) # gives much better accuracy"
      ]
    },
    {
      "cell_type": "code",
      "execution_count": null,
      "metadata": {
        "id": "AGamEDaZyPxv",
        "colab": {
          "base_uri": "https://localhost:8080/"
        },
        "outputId": "b644eb06-a54d-4143-dac8-728c90a27c3f"
      },
      "outputs": [
        {
          "output_type": "stream",
          "name": "stderr",
          "text": [
            "EPOCH[TRAIN]1/50: 100%|██████████| 225/225 [02:47<00:00,  1.34it/s, loss=1.81, acc=0.244]\n",
            "EPOCH[VALID]1/50: 100%|██████████| 29/29 [00:11<00:00,  2.57it/s, loss=1.74, acc=0.239]\n"
          ]
        },
        {
          "output_type": "stream",
          "name": "stdout",
          "text": [
            "SAVED BEST WEIGHTS\n"
          ]
        },
        {
          "output_type": "stream",
          "name": "stderr",
          "text": [
            "EPOCH[TRAIN]2/50: 100%|██████████| 225/225 [02:48<00:00,  1.33it/s, loss=1.69, acc=0.3]\n",
            "EPOCH[VALID]2/50: 100%|██████████| 29/29 [00:11<00:00,  2.48it/s, loss=1.61, acc=0.387]\n"
          ]
        },
        {
          "output_type": "stream",
          "name": "stdout",
          "text": [
            "SAVED BEST WEIGHTS\n"
          ]
        },
        {
          "output_type": "stream",
          "name": "stderr",
          "text": [
            "EPOCH[TRAIN]3/50: 100%|██████████| 225/225 [02:47<00:00,  1.34it/s, loss=1.59, acc=0.374]\n",
            "EPOCH[VALID]3/50: 100%|██████████| 29/29 [00:11<00:00,  2.58it/s, loss=1.48, acc=0.447]\n"
          ]
        },
        {
          "output_type": "stream",
          "name": "stdout",
          "text": [
            "SAVED BEST WEIGHTS\n"
          ]
        },
        {
          "output_type": "stream",
          "name": "stderr",
          "text": [
            "EPOCH[TRAIN]4/50: 100%|██████████| 225/225 [02:48<00:00,  1.34it/s, loss=1.48, acc=0.423]\n",
            "EPOCH[VALID]4/50: 100%|██████████| 29/29 [00:11<00:00,  2.57it/s, loss=1.38, acc=0.478]\n"
          ]
        },
        {
          "output_type": "stream",
          "name": "stdout",
          "text": [
            "SAVED BEST WEIGHTS\n"
          ]
        },
        {
          "output_type": "stream",
          "name": "stderr",
          "text": [
            "EPOCH[TRAIN]5/50: 100%|██████████| 225/225 [02:47<00:00,  1.34it/s, loss=1.41, acc=0.458]\n",
            "EPOCH[VALID]5/50: 100%|██████████| 29/29 [00:11<00:00,  2.59it/s, loss=1.29, acc=0.502]\n"
          ]
        },
        {
          "output_type": "stream",
          "name": "stdout",
          "text": [
            "SAVED BEST WEIGHTS\n"
          ]
        },
        {
          "output_type": "stream",
          "name": "stderr",
          "text": [
            "EPOCH[TRAIN]6/50: 100%|██████████| 225/225 [02:48<00:00,  1.34it/s, loss=1.36, acc=0.474]\n",
            "EPOCH[VALID]6/50: 100%|██████████| 29/29 [00:11<00:00,  2.59it/s, loss=1.25, acc=0.522]\n"
          ]
        },
        {
          "output_type": "stream",
          "name": "stdout",
          "text": [
            "SAVED BEST WEIGHTS\n"
          ]
        },
        {
          "output_type": "stream",
          "name": "stderr",
          "text": [
            "EPOCH[TRAIN]7/50: 100%|██████████| 225/225 [02:47<00:00,  1.34it/s, loss=1.32, acc=0.491]\n",
            "EPOCH[VALID]7/50: 100%|██████████| 29/29 [00:11<00:00,  2.60it/s, loss=1.22, acc=0.532]\n"
          ]
        },
        {
          "output_type": "stream",
          "name": "stdout",
          "text": [
            "SAVED BEST WEIGHTS\n"
          ]
        },
        {
          "output_type": "stream",
          "name": "stderr",
          "text": [
            "EPOCH[TRAIN]8/50: 100%|██████████| 225/225 [02:48<00:00,  1.34it/s, loss=1.29, acc=0.506]\n",
            "EPOCH[VALID]8/50: 100%|██████████| 29/29 [00:11<00:00,  2.59it/s, loss=1.19, acc=0.547]\n"
          ]
        },
        {
          "output_type": "stream",
          "name": "stdout",
          "text": [
            "SAVED BEST WEIGHTS\n"
          ]
        },
        {
          "output_type": "stream",
          "name": "stderr",
          "text": [
            "EPOCH[TRAIN]9/50: 100%|██████████| 225/225 [02:47<00:00,  1.34it/s, loss=1.26, acc=0.519]\n",
            "EPOCH[VALID]9/50: 100%|██████████| 29/29 [00:11<00:00,  2.59it/s, loss=1.17, acc=0.551]\n"
          ]
        },
        {
          "output_type": "stream",
          "name": "stdout",
          "text": [
            "SAVED BEST WEIGHTS\n"
          ]
        },
        {
          "output_type": "stream",
          "name": "stderr",
          "text": [
            "EPOCH[TRAIN]10/50: 100%|██████████| 225/225 [02:47<00:00,  1.35it/s, loss=1.23, acc=0.529]\n",
            "EPOCH[VALID]10/50: 100%|██████████| 29/29 [00:11<00:00,  2.60it/s, loss=1.14, acc=0.556]\n"
          ]
        },
        {
          "output_type": "stream",
          "name": "stdout",
          "text": [
            "SAVED BEST WEIGHTS\n"
          ]
        },
        {
          "output_type": "stream",
          "name": "stderr",
          "text": [
            "EPOCH[TRAIN]11/50: 100%|██████████| 225/225 [02:47<00:00,  1.34it/s, loss=1.21, acc=0.536]\n",
            "EPOCH[VALID]11/50: 100%|██████████| 29/29 [00:11<00:00,  2.56it/s, loss=1.13, acc=0.561]\n"
          ]
        },
        {
          "output_type": "stream",
          "name": "stdout",
          "text": [
            "SAVED BEST WEIGHTS\n"
          ]
        },
        {
          "output_type": "stream",
          "name": "stderr",
          "text": [
            "EPOCH[TRAIN]12/50: 100%|██████████| 225/225 [02:47<00:00,  1.35it/s, loss=1.19, acc=0.548]\n",
            "EPOCH[VALID]12/50: 100%|██████████| 29/29 [00:11<00:00,  2.57it/s, loss=1.11, acc=0.576]\n"
          ]
        },
        {
          "output_type": "stream",
          "name": "stdout",
          "text": [
            "SAVED BEST WEIGHTS\n"
          ]
        },
        {
          "output_type": "stream",
          "name": "stderr",
          "text": [
            "EPOCH[TRAIN]13/50: 100%|██████████| 225/225 [02:48<00:00,  1.34it/s, loss=1.17, acc=0.557]\n",
            "EPOCH[VALID]13/50: 100%|██████████| 29/29 [00:11<00:00,  2.58it/s, loss=1.09, acc=0.577]\n"
          ]
        },
        {
          "output_type": "stream",
          "name": "stdout",
          "text": [
            "SAVED BEST WEIGHTS\n"
          ]
        },
        {
          "output_type": "stream",
          "name": "stderr",
          "text": [
            "EPOCH[TRAIN]14/50: 100%|██████████| 225/225 [02:47<00:00,  1.34it/s, loss=1.16, acc=0.561]\n",
            "EPOCH[VALID]14/50: 100%|██████████| 29/29 [00:11<00:00,  2.59it/s, loss=1.08, acc=0.588]\n"
          ]
        },
        {
          "output_type": "stream",
          "name": "stdout",
          "text": [
            "SAVED BEST WEIGHTS\n"
          ]
        },
        {
          "output_type": "stream",
          "name": "stderr",
          "text": [
            "EPOCH[TRAIN]15/50: 100%|██████████| 225/225 [02:47<00:00,  1.34it/s, loss=1.14, acc=0.567]\n",
            "EPOCH[VALID]15/50: 100%|██████████| 29/29 [00:11<00:00,  2.57it/s, loss=1.07, acc=0.589]\n"
          ]
        },
        {
          "output_type": "stream",
          "name": "stdout",
          "text": [
            "SAVED BEST WEIGHTS\n"
          ]
        },
        {
          "output_type": "stream",
          "name": "stderr",
          "text": [
            "EPOCH[TRAIN]16/50: 100%|██████████| 225/225 [02:47<00:00,  1.34it/s, loss=1.13, acc=0.573]\n",
            "EPOCH[VALID]16/50: 100%|██████████| 29/29 [00:11<00:00,  2.58it/s, loss=1.06, acc=0.597]\n"
          ]
        },
        {
          "output_type": "stream",
          "name": "stdout",
          "text": [
            "SAVED BEST WEIGHTS\n"
          ]
        },
        {
          "output_type": "stream",
          "name": "stderr",
          "text": [
            "EPOCH[TRAIN]17/50: 100%|██████████| 225/225 [02:47<00:00,  1.34it/s, loss=1.1, acc=0.587]\n",
            "EPOCH[VALID]17/50: 100%|██████████| 29/29 [00:11<00:00,  2.58it/s, loss=1.05, acc=0.604]\n"
          ]
        },
        {
          "output_type": "stream",
          "name": "stdout",
          "text": [
            "SAVED BEST WEIGHTS\n"
          ]
        },
        {
          "output_type": "stream",
          "name": "stderr",
          "text": [
            "EPOCH[TRAIN]18/50: 100%|██████████| 225/225 [02:47<00:00,  1.34it/s, loss=1.1, acc=0.586]\n",
            "EPOCH[VALID]18/50: 100%|██████████| 29/29 [00:11<00:00,  2.59it/s, loss=1.04, acc=0.606]\n"
          ]
        },
        {
          "output_type": "stream",
          "name": "stdout",
          "text": [
            "SAVED BEST WEIGHTS\n"
          ]
        },
        {
          "output_type": "stream",
          "name": "stderr",
          "text": [
            "EPOCH[TRAIN]19/50: 100%|██████████| 225/225 [02:47<00:00,  1.35it/s, loss=1.08, acc=0.593]\n",
            "EPOCH[VALID]19/50: 100%|██████████| 29/29 [00:11<00:00,  2.58it/s, loss=1.03, acc=0.603]\n"
          ]
        },
        {
          "output_type": "stream",
          "name": "stdout",
          "text": [
            "SAVED BEST WEIGHTS\n"
          ]
        },
        {
          "output_type": "stream",
          "name": "stderr",
          "text": [
            "EPOCH[TRAIN]20/50: 100%|██████████| 225/225 [02:47<00:00,  1.34it/s, loss=1.07, acc=0.599]\n",
            "EPOCH[VALID]20/50: 100%|██████████| 29/29 [00:11<00:00,  2.60it/s, loss=1.03, acc=0.601]\n"
          ]
        },
        {
          "output_type": "stream",
          "name": "stdout",
          "text": [
            "SAVED BEST WEIGHTS\n"
          ]
        },
        {
          "output_type": "stream",
          "name": "stderr",
          "text": [
            "EPOCH[TRAIN]21/50: 100%|██████████| 225/225 [02:46<00:00,  1.35it/s, loss=1.06, acc=0.603]\n",
            "EPOCH[VALID]21/50: 100%|██████████| 29/29 [00:11<00:00,  2.54it/s, loss=1.03, acc=0.605]\n",
            "EPOCH[TRAIN]22/50: 100%|██████████| 225/225 [02:46<00:00,  1.35it/s, loss=1.05, acc=0.607]\n",
            "EPOCH[VALID]22/50: 100%|██████████| 29/29 [00:11<00:00,  2.61it/s, loss=1.01, acc=0.621]\n"
          ]
        },
        {
          "output_type": "stream",
          "name": "stdout",
          "text": [
            "SAVED BEST WEIGHTS\n"
          ]
        },
        {
          "output_type": "stream",
          "name": "stderr",
          "text": [
            "EPOCH[TRAIN]23/50: 100%|██████████| 225/225 [02:47<00:00,  1.34it/s, loss=1.04, acc=0.613]\n",
            "EPOCH[VALID]23/50: 100%|██████████| 29/29 [00:11<00:00,  2.58it/s, loss=1.01, acc=0.623]\n",
            "EPOCH[TRAIN]24/50: 100%|██████████| 225/225 [02:46<00:00,  1.35it/s, loss=1.02, acc=0.616]\n",
            "EPOCH[VALID]24/50: 100%|██████████| 29/29 [00:11<00:00,  2.59it/s, loss=1.02, acc=0.619]\n",
            "EPOCH[TRAIN]25/50: 100%|██████████| 225/225 [02:47<00:00,  1.34it/s, loss=1.01, acc=0.625]\n",
            "EPOCH[VALID]25/50: 100%|██████████| 29/29 [00:11<00:00,  2.59it/s, loss=1.01, acc=0.616]\n"
          ]
        },
        {
          "output_type": "stream",
          "name": "stdout",
          "text": [
            "SAVED BEST WEIGHTS\n"
          ]
        },
        {
          "output_type": "stream",
          "name": "stderr",
          "text": [
            "EPOCH[TRAIN]26/50: 100%|██████████| 225/225 [02:47<00:00,  1.34it/s, loss=0.999, acc=0.627]\n",
            "EPOCH[VALID]26/50: 100%|██████████| 29/29 [00:11<00:00,  2.59it/s, loss=0.999, acc=0.625]\n"
          ]
        },
        {
          "output_type": "stream",
          "name": "stdout",
          "text": [
            "SAVED BEST WEIGHTS\n"
          ]
        },
        {
          "output_type": "stream",
          "name": "stderr",
          "text": [
            "EPOCH[TRAIN]27/50: 100%|██████████| 225/225 [02:47<00:00,  1.35it/s, loss=0.984, acc=0.633]\n",
            "EPOCH[VALID]27/50: 100%|██████████| 29/29 [00:11<00:00,  2.57it/s, loss=0.998, acc=0.635]\n"
          ]
        },
        {
          "output_type": "stream",
          "name": "stdout",
          "text": [
            "SAVED BEST WEIGHTS\n"
          ]
        },
        {
          "output_type": "stream",
          "name": "stderr",
          "text": [
            "EPOCH[TRAIN]28/50: 100%|██████████| 225/225 [02:47<00:00,  1.35it/s, loss=0.976, acc=0.632]\n",
            "EPOCH[VALID]28/50: 100%|██████████| 29/29 [00:11<00:00,  2.51it/s, loss=1.01, acc=0.623]\n",
            "EPOCH[TRAIN]29/50: 100%|██████████| 225/225 [02:46<00:00,  1.35it/s, loss=0.966, acc=0.639]\n",
            "EPOCH[VALID]29/50: 100%|██████████| 29/29 [00:11<00:00,  2.57it/s, loss=0.987, acc=0.634]\n"
          ]
        },
        {
          "output_type": "stream",
          "name": "stdout",
          "text": [
            "SAVED BEST WEIGHTS\n"
          ]
        },
        {
          "output_type": "stream",
          "name": "stderr",
          "text": [
            "EPOCH[TRAIN]30/50: 100%|██████████| 225/225 [02:48<00:00,  1.33it/s, loss=0.955, acc=0.643]\n",
            "EPOCH[VALID]30/50: 100%|██████████| 29/29 [00:11<00:00,  2.59it/s, loss=0.988, acc=0.637]\n",
            "EPOCH[TRAIN]31/50: 100%|██████████| 225/225 [02:47<00:00,  1.34it/s, loss=0.937, acc=0.652]\n",
            "EPOCH[VALID]31/50: 100%|██████████| 29/29 [00:11<00:00,  2.58it/s, loss=1.01, acc=0.624]\n",
            "EPOCH[TRAIN]32/50: 100%|██████████| 225/225 [02:47<00:00,  1.34it/s, loss=0.923, acc=0.654]\n",
            "EPOCH[VALID]32/50: 100%|██████████| 29/29 [00:11<00:00,  2.57it/s, loss=1, acc=0.629]\n",
            "EPOCH[TRAIN]33/50: 100%|██████████| 225/225 [02:47<00:00,  1.35it/s, loss=0.928, acc=0.655]\n",
            "EPOCH[VALID]33/50: 100%|██████████| 29/29 [00:11<00:00,  2.59it/s, loss=1, acc=0.639]\n",
            "EPOCH[TRAIN]34/50: 100%|██████████| 225/225 [02:47<00:00,  1.35it/s, loss=0.908, acc=0.663]\n",
            "EPOCH[VALID]34/50: 100%|██████████| 29/29 [00:11<00:00,  2.60it/s, loss=1.01, acc=0.632]\n",
            "EPOCH[TRAIN]35/50: 100%|██████████| 225/225 [02:46<00:00,  1.35it/s, loss=0.894, acc=0.67]\n",
            "EPOCH[VALID]35/50: 100%|██████████| 29/29 [00:11<00:00,  2.58it/s, loss=1, acc=0.634]\n",
            "EPOCH[TRAIN]36/50: 100%|██████████| 225/225 [02:46<00:00,  1.35it/s, loss=0.881, acc=0.67]\n",
            "EPOCH[VALID]36/50: 100%|██████████| 29/29 [00:11<00:00,  2.62it/s, loss=0.996, acc=0.636]\n",
            "EPOCH[TRAIN]37/50: 100%|██████████| 225/225 [02:47<00:00,  1.35it/s, loss=0.877, acc=0.677]\n",
            "EPOCH[VALID]37/50: 100%|██████████| 29/29 [00:11<00:00,  2.61it/s, loss=1.01, acc=0.632]\n",
            "EPOCH[TRAIN]38/50: 100%|██████████| 225/225 [02:46<00:00,  1.35it/s, loss=0.861, acc=0.681]\n",
            "EPOCH[VALID]38/50: 100%|██████████| 29/29 [00:11<00:00,  2.61it/s, loss=0.993, acc=0.643]\n",
            "EPOCH[TRAIN]39/50: 100%|██████████| 225/225 [02:46<00:00,  1.35it/s, loss=0.851, acc=0.685]\n",
            "EPOCH[VALID]39/50: 100%|██████████| 29/29 [00:11<00:00,  2.59it/s, loss=1.02, acc=0.629]\n",
            "EPOCH[TRAIN]40/50: 100%|██████████| 225/225 [02:46<00:00,  1.35it/s, loss=0.841, acc=0.686]\n",
            "EPOCH[VALID]40/50: 100%|██████████| 29/29 [00:11<00:00,  2.61it/s, loss=1.01, acc=0.634]\n",
            "EPOCH[TRAIN]41/50: 100%|██████████| 225/225 [02:47<00:00,  1.35it/s, loss=0.832, acc=0.688]\n",
            "EPOCH[VALID]41/50: 100%|██████████| 29/29 [00:11<00:00,  2.59it/s, loss=1.03, acc=0.642]\n",
            "EPOCH[TRAIN]42/50: 100%|██████████| 225/225 [02:47<00:00,  1.34it/s, loss=0.812, acc=0.697]\n",
            "EPOCH[VALID]42/50: 100%|██████████| 29/29 [00:11<00:00,  2.60it/s, loss=1.01, acc=0.644]\n",
            "EPOCH[TRAIN]43/50: 100%|██████████| 225/225 [02:46<00:00,  1.35it/s, loss=0.804, acc=0.702]\n",
            "EPOCH[VALID]43/50: 100%|██████████| 29/29 [00:11<00:00,  2.57it/s, loss=1.02, acc=0.645]\n",
            "EPOCH[TRAIN]44/50: 100%|██████████| 225/225 [02:47<00:00,  1.35it/s, loss=0.796, acc=0.704]\n",
            "EPOCH[VALID]44/50: 100%|██████████| 29/29 [00:11<00:00,  2.60it/s, loss=1.02, acc=0.647]\n",
            "EPOCH[TRAIN]45/50: 100%|██████████| 225/225 [02:47<00:00,  1.35it/s, loss=0.782, acc=0.71]\n",
            "EPOCH[VALID]45/50: 100%|██████████| 29/29 [00:11<00:00,  2.60it/s, loss=1.04, acc=0.638]\n",
            "EPOCH[TRAIN]46/50: 100%|██████████| 225/225 [02:47<00:00,  1.34it/s, loss=0.773, acc=0.713]\n",
            "EPOCH[VALID]46/50: 100%|██████████| 29/29 [00:11<00:00,  2.57it/s, loss=1.04, acc=0.64]\n",
            "EPOCH[TRAIN]47/50: 100%|██████████| 225/225 [02:47<00:00,  1.35it/s, loss=0.758, acc=0.718]\n",
            "EPOCH[VALID]47/50: 100%|██████████| 29/29 [00:11<00:00,  2.58it/s, loss=1.04, acc=0.646]\n",
            "EPOCH[TRAIN]48/50: 100%|██████████| 225/225 [02:47<00:00,  1.35it/s, loss=0.744, acc=0.725]\n",
            "EPOCH[VALID]48/50: 100%|██████████| 29/29 [00:11<00:00,  2.62it/s, loss=1.04, acc=0.648]\n",
            "EPOCH[TRAIN]49/50: 100%|██████████| 225/225 [02:47<00:00,  1.35it/s, loss=0.733, acc=0.732]\n",
            "EPOCH[VALID]49/50: 100%|██████████| 29/29 [00:11<00:00,  2.61it/s, loss=1.07, acc=0.642]\n",
            "EPOCH[TRAIN]50/50: 100%|██████████| 225/225 [02:46<00:00,  1.35it/s, loss=0.726, acc=0.736]\n",
            "EPOCH[VALID]50/50: 100%|██████████| 29/29 [00:11<00:00,  2.59it/s, loss=1.06, acc=0.644]"
          ]
        },
        {
          "output_type": "stream",
          "name": "stdout",
          "text": [
            "\n",
            "\n",
            "accuracy on the training set:  0.7364245653152466\n",
            "accuracy on the validation set:  0.6443965435028076\n"
          ]
        },
        {
          "output_type": "stream",
          "name": "stderr",
          "text": [
            "\n"
          ]
        }
      ],
      "source": [
        "best_valid_loss = np.Inf\n",
        "train_losses = []\n",
        "validation_losses = []\n",
        "model_path = '/content/drive/MyDrive/ML Project Folder/Models'\n",
        "for i in range(epochs):\n",
        "  train_loss, train_acc = train_model(model, trainloader, optimizer, i)\n",
        "  valid_loss, valid_acc = eval_model(model, validloader, i)\n",
        "  train_losses.append(train_loss)\n",
        "  validation_losses.append(valid_loss)\n",
        "\n",
        "  if valid_loss < best_valid_loss:\n",
        "    torch.save(model.state_dict(), os.path.join(model_path, 'best-resnet.h5'))\n",
        "    print('SAVED BEST WEIGHTS')\n",
        "    best_valid_loss = valid_loss\n",
        "print()\n",
        "print()\n",
        "print('accuracy on the training set: ', float(train_acc))\n",
        "print('accuracy on the validation set: ', float(valid_acc))"
      ]
    },
    {
      "cell_type": "code",
      "execution_count": null,
      "metadata": {
        "id": "kCVDIV3QThFV"
      },
      "outputs": [],
      "source": [
        "def plot_the_loss_curve(epochs, training_losses, validation_losses):\n",
        "  \"\"\"Plot a curve of loss vs. epoch.\"\"\"\n",
        "  epochs = list(range(1, epochs + 1))\n",
        "  plt.figure(figsize=(10, 5))\n",
        "  plt.xlabel(\"Epoch\")\n",
        "  plt.ylabel(\"Cross Entropy losses\")\n",
        "\n",
        "  plt.plot(epochs[1:], training_losses[1:], label=\"Training Loss\")\n",
        "  plt.plot(epochs[1:], validation_losses[1:], label=\"Validation Loss\")\n",
        "  plt.legend()\n",
        "  \n",
        "  # We're not going to plot the first epoch, since the loss on the first epoch\n",
        "  # is often substantially greater than the loss for other epochs.\n",
        "  merged_losses = training_losses[1:] + validation_losses[1:]\n",
        "  highest_loss = max(merged_losses)\n",
        "  lowest_loss = min(merged_losses)\n",
        "  delta = highest_loss - lowest_loss\n",
        "\n",
        "  top_of_y_axis = highest_loss + (delta * 0.05)\n",
        "  bottom_of_y_axis = lowest_loss - (delta * 0.05)\n",
        "  plt.title('loss curve') \n",
        "  plt.ylim([bottom_of_y_axis, top_of_y_axis])\n",
        "  plt.show()  "
      ]
    },
    {
      "cell_type": "code",
      "execution_count": null,
      "metadata": {
        "id": "OUOT2OUi8D57",
        "colab": {
          "base_uri": "https://localhost:8080/",
          "height": 367
        },
        "outputId": "a5e9fd8b-45c9-42a2-e5b3-18aa6ce9d284"
      },
      "outputs": [
        {
          "output_type": "stream",
          "name": "stdout",
          "text": [
            "0.9670953660541111\n"
          ]
        },
        {
          "output_type": "display_data",
          "data": {
            "text/plain": [
              "<Figure size 720x360 with 1 Axes>"
            ],
            "image/png": "[encoded data removed]"
          },
          "metadata": {
            "needs_background": "light"
          }
        }
      ],
      "source": [
        "plot_the_loss_curve(epochs, train_losses, validation_losses)"
      ]
    }
  ],
  "metadata": {
    "accelerator": "GPU",
    "colab": {
      "collapsed_sections": [],
      "name": "Resnet_50 (Transfer learning).ipynb",
      "provenance": [],
      "include_colab_link": true
    },
    "kernelspec": {
      "display_name": "Python 3",
      "name": "python3"
    },
    "language_info": {
      "name": "python"
    }
  },
  "nbformat": 4,
  "nbformat_minor": 0
}