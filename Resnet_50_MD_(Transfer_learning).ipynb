{
  "cells": [
    {
      "cell_type": "markdown",
      "metadata": {
        "id": "view-in-github",
        "colab_type": "text"
      },
      "source": [
        "<a href=\"https://colab.research.google.com/github/abbasmammadov/Facial-Expression-Recognition/blob/main/Resnet_50_MD_(Transfer_learning).ipynb\" target=\"_parent\"><img src=\"https://colab.research.google.com/assets/colab-badge.svg\" alt=\"Open In Colab\"/></a>"
      ]
    },
    {
      "cell_type": "code",
      "execution_count": null,
      "metadata": {
        "colab": {
          "base_uri": "https://localhost:8080/"
        },
        "id": "_hbOvpcyD-7H",
        "outputId": "21ffb533-0bab-4f71-f14e-a6e77b4efceb"
      },
      "outputs": [
        {
          "output_type": "stream",
          "name": "stdout",
          "text": [
            "Drive already mounted at /content/drive; to attempt to forcibly remount, call drive.mount(\"/content/drive\", force_remount=True).\n"
          ]
        }
      ],
      "source": [
        "#mount your drive first - you can do it once\n",
        "from google.colab import drive\n",
        "drive.mount('/content/drive')"
      ]
    },
    {
      "cell_type": "code",
      "execution_count": null,
      "metadata": {
        "id": "1O_7o8yiL7fZ"
      },
      "outputs": [],
      "source": [
        "#importing necessary modules\n",
        "import numpy as np\n",
        "import pandas as pd\n",
        "import torch\n",
        "import torch.nn as nn\n",
        "import torch.nn.functional as F\n",
        "import torch.optim as optim\n",
        "from torch.utils.data import DataLoader, Dataset\n",
        "from PIL import Image\n",
        "import os\n",
        "import torchvision.datasets as dset\n",
        "import torchvision.transforms as T"
      ]
    },
    {
      "cell_type": "code",
      "execution_count": null,
      "metadata": {
        "id": "1AtbkaA7Ozsy",
        "colab": {
          "base_uri": "https://localhost:8080/"
        },
        "outputId": "c4a1354d-57c3-47e3-d2a4-e794c8ea46a1"
      },
      "outputs": [
        {
          "output_type": "stream",
          "name": "stdout",
          "text": [
            "GPU available\n"
          ]
        }
      ],
      "source": [
        "#hyperparameters start form \n",
        "lr = 1e-3\n",
        "batch_size = 128\n",
        "epochs = 45\n",
        "\n",
        "#device\n",
        "device = 'cpu'\n",
        "if torch.cuda.is_available():\n",
        "  device = 'cuda'\n",
        "  print('GPU available')\n",
        "else:\n",
        "  print('training is done on CPU')"
      ]
    },
    {
      "cell_type": "code",
      "execution_count": null,
      "metadata": {
        "id": "mDauIl3KPaE4"
      },
      "outputs": [],
      "source": [
        "#now let's load the dataset into the 'dataloader' package of pytorch\n",
        "from torchvision.datasets import ImageFolder\n",
        "import torchvision.transforms as T"
      ]
    },
    {
      "cell_type": "code",
      "execution_count": null,
      "metadata": {
        "id": "3Mn5MAN8SsUR"
      },
      "outputs": [],
      "source": [
        "#first step is creating an augmentation cell using transforms of pytorch\n",
        "train_augs = T.Compose([T.RandomHorizontalFlip(p=0.5), \n",
        "                        T.RandomRotation(degrees=(-10, +10)),\n",
        "                        T.RandomAffine(degrees=(-10, +10), translate=(0.1, 0.1)),\n",
        "                        T.Resize((48, 48)),\n",
        "                        T.ToTensor()])\n",
        "\n",
        "valid_augs = T.Compose([T.ToTensor()])\n",
        "\n",
        "test_augs = T.Compose([T.ToTensor()])"
      ]
    },
    {
      "cell_type": "code",
      "execution_count": null,
      "metadata": {
        "id": "xJKiovhRb1Yz"
      },
      "outputs": [],
      "source": [
        "data_path = '/content/drive/MyDrive/datasets'\n",
        "train_path = os.path.join(data_path, 'train')\n",
        "validation_path = os.path.join(data_path, 'validation')\n",
        "test_path = os.path.join(data_path, 'test')"
      ]
    },
    {
      "cell_type": "code",
      "execution_count": null,
      "metadata": {
        "id": "-iRhgKwIS3jX",
        "colab": {
          "base_uri": "https://localhost:8080/"
        },
        "outputId": "474d8389-060f-4d41-b0bf-3737dd18e5c6"
      },
      "outputs": [
        {
          "output_type": "stream",
          "name": "stdout",
          "text": [
            "Total no. of examples in trainset : 49297\n",
            "Total no. of examples in validset : 3599\n",
            "Total no. of examples in testset : 3589\n"
          ]
        }
      ],
      "source": [
        "trainset = ImageFolder(train_path, transform=train_augs)\n",
        "validset = ImageFolder(validation_path, transform=valid_augs)\n",
        "testset = ImageFolder(test_path, transform=test_augs)\n",
        "print(f\"Total no. of examples in trainset : {len(trainset)}\")\n",
        "print(f\"Total no. of examples in validset : {len(validset)}\")\n",
        "print(f\"Total no. of examples in testset : {len(testset)}\")"
      ]
    },
    {
      "cell_type": "code",
      "execution_count": null,
      "metadata": {
        "id": "SrM66qzviRg6",
        "colab": {
          "base_uri": "https://localhost:8080/"
        },
        "outputId": "6810ac95-95e4-4c4a-d804-08caec8ad3a0"
      },
      "outputs": [
        {
          "output_type": "stream",
          "name": "stdout",
          "text": [
            "{'anger': 0, 'disgust': 1, 'fear': 2, 'happy': 3, 'neutral': 4, 'sad': 5, 'surprise': 6}\n"
          ]
        }
      ],
      "source": [
        "print(trainset.class_to_idx)"
      ]
    },
    {
      "cell_type": "code",
      "execution_count": null,
      "metadata": {
        "id": "4KPvBCwgiWqI",
        "colab": {
          "base_uri": "https://localhost:8080/",
          "height": 316
        },
        "outputId": "563587a2-b515-420e-d811-b2609ada9bbd"
      },
      "outputs": [
        {
          "output_type": "stream",
          "name": "stdout",
          "text": [
            "chosen index:  5167\n"
          ]
        },
        {
          "output_type": "execute_result",
          "data": {
            "text/plain": [
              "Text(0.5, 1.0, '0')"
            ]
          },
          "metadata": {},
          "execution_count": 30
        },
        {
          "output_type": "display_data",
          "data": {
            "text/plain": [
              "<Figure size 432x288 with 1 Axes>"
            ],
            "image/png": "[encoded data removed]"
          },
          "metadata": {
            "needs_background": "light"
          }
        }
      ],
      "source": [
        "#we can view some images and their labels\n",
        "import matplotlib.pyplot as plt\n",
        "idx = np.random.randint(low=0, high=len(trainset)-1)\n",
        "print('chosen index: ', idx)\n",
        "image, label = trainset[idx] # the image has format of h, w, c -> so it have to be reshaped\n",
        "plt.imshow(image.permute(1, 2, 0))\n",
        "plt.title(label)"
      ]
    },
    {
      "cell_type": "code",
      "execution_count": null,
      "metadata": {
        "id": "5BU0SeIctamL",
        "colab": {
          "base_uri": "https://localhost:8080/"
        },
        "outputId": "02120b4e-736a-4cd5-e579-0004569e853e"
      },
      "outputs": [
        {
          "output_type": "stream",
          "name": "stdout",
          "text": [
            "total batches in trainloader:  386 , validloader:  29 , and testloader 3589\n"
          ]
        }
      ],
      "source": [
        "#now let's read the dataset using pytorch's dataloader\n",
        "trainloader = DataLoader(trainset, batch_size=batch_size, shuffle=True)\n",
        "validloader = DataLoader(validset, batch_size=batch_size)\n",
        "testloader = DataLoader(testset)\n",
        "print('total batches in trainloader: ', len(trainloader), ', validloader: ', len(validloader), ', and testloader', len(testloader))"
      ]
    },
    {
      "cell_type": "code",
      "execution_count": null,
      "metadata": {
        "id": "HPjkKbNXsyhM",
        "colab": {
          "base_uri": "https://localhost:8080/"
        },
        "outputId": "7530ac9b-4a79-4233-9b5e-07acbb196da1"
      },
      "outputs": [
        {
          "output_type": "stream",
          "name": "stdout",
          "text": [
            "shape of a batch of images: torch.Size([128, 3, 48, 48])\n",
            "shape of a batch of labels: torch.Size([128])\n"
          ]
        }
      ],
      "source": [
        "#checking the shapes of each batch\n",
        "for images, labels in trainloader:\n",
        "  break\n",
        "print(f'shape of a batch of images: {images.shape}')\n",
        "print(f'shape of a batch of labels: {labels.shape}')"
      ]
    },
    {
      "cell_type": "code",
      "execution_count": null,
      "metadata": {
        "id": "gfjbdWSG1s4x"
      },
      "outputs": [],
      "source": [
        "from torchvision import models"
      ]
    },
    {
      "cell_type": "code",
      "execution_count": null,
      "metadata": {
        "id": "mSG4M3c2wAiw",
        "colab": {
          "base_uri": "https://localhost:8080/"
        },
        "outputId": "371f2009-5be0-428a-ac4d-eeb976bbd03c"
      },
      "outputs": [
        {
          "output_type": "execute_result",
          "data": {
            "text/plain": [
              "ResNet(\n",
              "  (conv1): Conv2d(3, 64, kernel_size=(7, 7), stride=(2, 2), padding=(3, 3), bias=False)\n",
              "  (bn1): BatchNorm2d(64, eps=1e-05, momentum=0.1, affine=True, track_running_stats=True)\n",
              "  (relu): ReLU(inplace=True)\n",
              "  (maxpool): MaxPool2d(kernel_size=3, stride=2, padding=1, dilation=1, ceil_mode=False)\n",
              "  (layer1): Sequential(\n",
              "    (0): Bottleneck(\n",
              "      (conv1): Conv2d(64, 64, kernel_size=(1, 1), stride=(1, 1), bias=False)\n",
              "      (bn1): BatchNorm2d(64, eps=1e-05, momentum=0.1, affine=True, track_running_stats=True)\n",
              "      (conv2): Conv2d(64, 64, kernel_size=(3, 3), stride=(1, 1), padding=(1, 1), bias=False)\n",
              "      (bn2): BatchNorm2d(64, eps=1e-05, momentum=0.1, affine=True, track_running_stats=True)\n",
              "      (conv3): Conv2d(64, 256, kernel_size=(1, 1), stride=(1, 1), bias=False)\n",
              "      (bn3): BatchNorm2d(256, eps=1e-05, momentum=0.1, affine=True, track_running_stats=True)\n",
              "      (relu): ReLU(inplace=True)\n",
              "      (downsample): Sequential(\n",
              "        (0): Conv2d(64, 256, kernel_size=(1, 1), stride=(1, 1), bias=False)\n",
              "        (1): BatchNorm2d(256, eps=1e-05, momentum=0.1, affine=True, track_running_stats=True)\n",
              "      )\n",
              "    )\n",
              "    (1): Bottleneck(\n",
              "      (conv1): Conv2d(256, 64, kernel_size=(1, 1), stride=(1, 1), bias=False)\n",
              "      (bn1): BatchNorm2d(64, eps=1e-05, momentum=0.1, affine=True, track_running_stats=True)\n",
              "      (conv2): Conv2d(64, 64, kernel_size=(3, 3), stride=(1, 1), padding=(1, 1), bias=False)\n",
              "      (bn2): BatchNorm2d(64, eps=1e-05, momentum=0.1, affine=True, track_running_stats=True)\n",
              "      (conv3): Conv2d(64, 256, kernel_size=(1, 1), stride=(1, 1), bias=False)\n",
              "      (bn3): BatchNorm2d(256, eps=1e-05, momentum=0.1, affine=True, track_running_stats=True)\n",
              "      (relu): ReLU(inplace=True)\n",
              "    )\n",
              "    (2): Bottleneck(\n",
              "      (conv1): Conv2d(256, 64, kernel_size=(1, 1), stride=(1, 1), bias=False)\n",
              "      (bn1): BatchNorm2d(64, eps=1e-05, momentum=0.1, affine=True, track_running_stats=True)\n",
              "      (conv2): Conv2d(64, 64, kernel_size=(3, 3), stride=(1, 1), padding=(1, 1), bias=False)\n",
              "      (bn2): BatchNorm2d(64, eps=1e-05, momentum=0.1, affine=True, track_running_stats=True)\n",
              "      (conv3): Conv2d(64, 256, kernel_size=(1, 1), stride=(1, 1), bias=False)\n",
              "      (bn3): BatchNorm2d(256, eps=1e-05, momentum=0.1, affine=True, track_running_stats=True)\n",
              "      (relu): ReLU(inplace=True)\n",
              "    )\n",
              "  )\n",
              "  (layer2): Sequential(\n",
              "    (0): Bottleneck(\n",
              "      (conv1): Conv2d(256, 128, kernel_size=(1, 1), stride=(1, 1), bias=False)\n",
              "      (bn1): BatchNorm2d(128, eps=1e-05, momentum=0.1, affine=True, track_running_stats=True)\n",
              "      (conv2): Conv2d(128, 128, kernel_size=(3, 3), stride=(2, 2), padding=(1, 1), bias=False)\n",
              "      (bn2): BatchNorm2d(128, eps=1e-05, momentum=0.1, affine=True, track_running_stats=True)\n",
              "      (conv3): Conv2d(128, 512, kernel_size=(1, 1), stride=(1, 1), bias=False)\n",
              "      (bn3): BatchNorm2d(512, eps=1e-05, momentum=0.1, affine=True, track_running_stats=True)\n",
              "      (relu): ReLU(inplace=True)\n",
              "      (downsample): Sequential(\n",
              "        (0): Conv2d(256, 512, kernel_size=(1, 1), stride=(2, 2), bias=False)\n",
              "        (1): BatchNorm2d(512, eps=1e-05, momentum=0.1, affine=True, track_running_stats=True)\n",
              "      )\n",
              "    )\n",
              "    (1): Bottleneck(\n",
              "      (conv1): Conv2d(512, 128, kernel_size=(1, 1), stride=(1, 1), bias=False)\n",
              "      (bn1): BatchNorm2d(128, eps=1e-05, momentum=0.1, affine=True, track_running_stats=True)\n",
              "      (conv2): Conv2d(128, 128, kernel_size=(3, 3), stride=(1, 1), padding=(1, 1), bias=False)\n",
              "      (bn2): BatchNorm2d(128, eps=1e-05, momentum=0.1, affine=True, track_running_stats=True)\n",
              "      (conv3): Conv2d(128, 512, kernel_size=(1, 1), stride=(1, 1), bias=False)\n",
              "      (bn3): BatchNorm2d(512, eps=1e-05, momentum=0.1, affine=True, track_running_stats=True)\n",
              "      (relu): ReLU(inplace=True)\n",
              "    )\n",
              "    (2): Bottleneck(\n",
              "      (conv1): Conv2d(512, 128, kernel_size=(1, 1), stride=(1, 1), bias=False)\n",
              "      (bn1): BatchNorm2d(128, eps=1e-05, momentum=0.1, affine=True, track_running_stats=True)\n",
              "      (conv2): Conv2d(128, 128, kernel_size=(3, 3), stride=(1, 1), padding=(1, 1), bias=False)\n",
              "      (bn2): BatchNorm2d(128, eps=1e-05, momentum=0.1, affine=True, track_running_stats=True)\n",
              "      (conv3): Conv2d(128, 512, kernel_size=(1, 1), stride=(1, 1), bias=False)\n",
              "      (bn3): BatchNorm2d(512, eps=1e-05, momentum=0.1, affine=True, track_running_stats=True)\n",
              "      (relu): ReLU(inplace=True)\n",
              "    )\n",
              "    (3): Bottleneck(\n",
              "      (conv1): Conv2d(512, 128, kernel_size=(1, 1), stride=(1, 1), bias=False)\n",
              "      (bn1): BatchNorm2d(128, eps=1e-05, momentum=0.1, affine=True, track_running_stats=True)\n",
              "      (conv2): Conv2d(128, 128, kernel_size=(3, 3), stride=(1, 1), padding=(1, 1), bias=False)\n",
              "      (bn2): BatchNorm2d(128, eps=1e-05, momentum=0.1, affine=True, track_running_stats=True)\n",
              "      (conv3): Conv2d(128, 512, kernel_size=(1, 1), stride=(1, 1), bias=False)\n",
              "      (bn3): BatchNorm2d(512, eps=1e-05, momentum=0.1, affine=True, track_running_stats=True)\n",
              "      (relu): ReLU(inplace=True)\n",
              "    )\n",
              "  )\n",
              "  (layer3): Sequential(\n",
              "    (0): Bottleneck(\n",
              "      (conv1): Conv2d(512, 256, kernel_size=(1, 1), stride=(1, 1), bias=False)\n",
              "      (bn1): BatchNorm2d(256, eps=1e-05, momentum=0.1, affine=True, track_running_stats=True)\n",
              "      (conv2): Conv2d(256, 256, kernel_size=(3, 3), stride=(2, 2), padding=(1, 1), bias=False)\n",
              "      (bn2): BatchNorm2d(256, eps=1e-05, momentum=0.1, affine=True, track_running_stats=True)\n",
              "      (conv3): Conv2d(256, 1024, kernel_size=(1, 1), stride=(1, 1), bias=False)\n",
              "      (bn3): BatchNorm2d(1024, eps=1e-05, momentum=0.1, affine=True, track_running_stats=True)\n",
              "      (relu): ReLU(inplace=True)\n",
              "      (downsample): Sequential(\n",
              "        (0): Conv2d(512, 1024, kernel_size=(1, 1), stride=(2, 2), bias=False)\n",
              "        (1): BatchNorm2d(1024, eps=1e-05, momentum=0.1, affine=True, track_running_stats=True)\n",
              "      )\n",
              "    )\n",
              "    (1): Bottleneck(\n",
              "      (conv1): Conv2d(1024, 256, kernel_size=(1, 1), stride=(1, 1), bias=False)\n",
              "      (bn1): BatchNorm2d(256, eps=1e-05, momentum=0.1, affine=True, track_running_stats=True)\n",
              "      (conv2): Conv2d(256, 256, kernel_size=(3, 3), stride=(1, 1), padding=(1, 1), bias=False)\n",
              "      (bn2): BatchNorm2d(256, eps=1e-05, momentum=0.1, affine=True, track_running_stats=True)\n",
              "      (conv3): Conv2d(256, 1024, kernel_size=(1, 1), stride=(1, 1), bias=False)\n",
              "      (bn3): BatchNorm2d(1024, eps=1e-05, momentum=0.1, affine=True, track_running_stats=True)\n",
              "      (relu): ReLU(inplace=True)\n",
              "    )\n",
              "    (2): Bottleneck(\n",
              "      (conv1): Conv2d(1024, 256, kernel_size=(1, 1), stride=(1, 1), bias=False)\n",
              "      (bn1): BatchNorm2d(256, eps=1e-05, momentum=0.1, affine=True, track_running_stats=True)\n",
              "      (conv2): Conv2d(256, 256, kernel_size=(3, 3), stride=(1, 1), padding=(1, 1), bias=False)\n",
              "      (bn2): BatchNorm2d(256, eps=1e-05, momentum=0.1, affine=True, track_running_stats=True)\n",
              "      (conv3): Conv2d(256, 1024, kernel_size=(1, 1), stride=(1, 1), bias=False)\n",
              "      (bn3): BatchNorm2d(1024, eps=1e-05, momentum=0.1, affine=True, track_running_stats=True)\n",
              "      (relu): ReLU(inplace=True)\n",
              "    )\n",
              "    (3): Bottleneck(\n",
              "      (conv1): Conv2d(1024, 256, kernel_size=(1, 1), stride=(1, 1), bias=False)\n",
              "      (bn1): BatchNorm2d(256, eps=1e-05, momentum=0.1, affine=True, track_running_stats=True)\n",
              "      (conv2): Conv2d(256, 256, kernel_size=(3, 3), stride=(1, 1), padding=(1, 1), bias=False)\n",
              "      (bn2): BatchNorm2d(256, eps=1e-05, momentum=0.1, affine=True, track_running_stats=True)\n",
              "      (conv3): Conv2d(256, 1024, kernel_size=(1, 1), stride=(1, 1), bias=False)\n",
              "      (bn3): BatchNorm2d(1024, eps=1e-05, momentum=0.1, affine=True, track_running_stats=True)\n",
              "      (relu): ReLU(inplace=True)\n",
              "    )\n",
              "    (4): Bottleneck(\n",
              "      (conv1): Conv2d(1024, 256, kernel_size=(1, 1), stride=(1, 1), bias=False)\n",
              "      (bn1): BatchNorm2d(256, eps=1e-05, momentum=0.1, affine=True, track_running_stats=True)\n",
              "      (conv2): Conv2d(256, 256, kernel_size=(3, 3), stride=(1, 1), padding=(1, 1), bias=False)\n",
              "      (bn2): BatchNorm2d(256, eps=1e-05, momentum=0.1, affine=True, track_running_stats=True)\n",
              "      (conv3): Conv2d(256, 1024, kernel_size=(1, 1), stride=(1, 1), bias=False)\n",
              "      (bn3): BatchNorm2d(1024, eps=1e-05, momentum=0.1, affine=True, track_running_stats=True)\n",
              "      (relu): ReLU(inplace=True)\n",
              "    )\n",
              "    (5): Bottleneck(\n",
              "      (conv1): Conv2d(1024, 256, kernel_size=(1, 1), stride=(1, 1), bias=False)\n",
              "      (bn1): BatchNorm2d(256, eps=1e-05, momentum=0.1, affine=True, track_running_stats=True)\n",
              "      (conv2): Conv2d(256, 256, kernel_size=(3, 3), stride=(1, 1), padding=(1, 1), bias=False)\n",
              "      (bn2): BatchNorm2d(256, eps=1e-05, momentum=0.1, affine=True, track_running_stats=True)\n",
              "      (conv3): Conv2d(256, 1024, kernel_size=(1, 1), stride=(1, 1), bias=False)\n",
              "      (bn3): BatchNorm2d(1024, eps=1e-05, momentum=0.1, affine=True, track_running_stats=True)\n",
              "      (relu): ReLU(inplace=True)\n",
              "    )\n",
              "  )\n",
              "  (layer4): Sequential(\n",
              "    (0): Bottleneck(\n",
              "      (conv1): Conv2d(1024, 512, kernel_size=(1, 1), stride=(1, 1), bias=False)\n",
              "      (bn1): BatchNorm2d(512, eps=1e-05, momentum=0.1, affine=True, track_running_stats=True)\n",
              "      (conv2): Conv2d(512, 512, kernel_size=(3, 3), stride=(2, 2), padding=(1, 1), bias=False)\n",
              "      (bn2): BatchNorm2d(512, eps=1e-05, momentum=0.1, affine=True, track_running_stats=True)\n",
              "      (conv3): Conv2d(512, 2048, kernel_size=(1, 1), stride=(1, 1), bias=False)\n",
              "      (bn3): BatchNorm2d(2048, eps=1e-05, momentum=0.1, affine=True, track_running_stats=True)\n",
              "      (relu): ReLU(inplace=True)\n",
              "      (downsample): Sequential(\n",
              "        (0): Conv2d(1024, 2048, kernel_size=(1, 1), stride=(2, 2), bias=False)\n",
              "        (1): BatchNorm2d(2048, eps=1e-05, momentum=0.1, affine=True, track_running_stats=True)\n",
              "      )\n",
              "    )\n",
              "    (1): Bottleneck(\n",
              "      (conv1): Conv2d(2048, 512, kernel_size=(1, 1), stride=(1, 1), bias=False)\n",
              "      (bn1): BatchNorm2d(512, eps=1e-05, momentum=0.1, affine=True, track_running_stats=True)\n",
              "      (conv2): Conv2d(512, 512, kernel_size=(3, 3), stride=(1, 1), padding=(1, 1), bias=False)\n",
              "      (bn2): BatchNorm2d(512, eps=1e-05, momentum=0.1, affine=True, track_running_stats=True)\n",
              "      (conv3): Conv2d(512, 2048, kernel_size=(1, 1), stride=(1, 1), bias=False)\n",
              "      (bn3): BatchNorm2d(2048, eps=1e-05, momentum=0.1, affine=True, track_running_stats=True)\n",
              "      (relu): ReLU(inplace=True)\n",
              "    )\n",
              "    (2): Bottleneck(\n",
              "      (conv1): Conv2d(2048, 512, kernel_size=(1, 1), stride=(1, 1), bias=False)\n",
              "      (bn1): BatchNorm2d(512, eps=1e-05, momentum=0.1, affine=True, track_running_stats=True)\n",
              "      (conv2): Conv2d(512, 512, kernel_size=(3, 3), stride=(1, 1), padding=(1, 1), bias=False)\n",
              "      (bn2): BatchNorm2d(512, eps=1e-05, momentum=0.1, affine=True, track_running_stats=True)\n",
              "      (conv3): Conv2d(512, 2048, kernel_size=(1, 1), stride=(1, 1), bias=False)\n",
              "      (bn3): BatchNorm2d(2048, eps=1e-05, momentum=0.1, affine=True, track_running_stats=True)\n",
              "      (relu): ReLU(inplace=True)\n",
              "    )\n",
              "  )\n",
              "  (avgpool): AdaptiveAvgPool2d(output_size=(1, 1))\n",
              "  (fc): Sequential(\n",
              "    (dropout1): Dropout(p=0.5, inplace=False)\n",
              "    (fc1): Linear(in_features=2048, out_features=4096, bias=True)\n",
              "    (relu1): ReLU(inplace=True)\n",
              "    (dropout2): Dropout(p=0.5, inplace=False)\n",
              "    (fc2): Linear(in_features=4096, out_features=1024, bias=True)\n",
              "    (relu2): ReLU(inplace=True)\n",
              "    (dropout3): Dropout(p=0.5, inplace=False)\n",
              "    (fc4): Linear(in_features=1024, out_features=7, bias=True)\n",
              "  )\n",
              ")"
            ]
          },
          "metadata": {},
          "execution_count": 34
        }
      ],
      "source": [
        "from collections import OrderedDict\n",
        "\n",
        "model = models.resnet50(pretrained=True)\n",
        "\n",
        "num_in_features = model.fc.in_features\n",
        "#we can get the number of input features as follows\n",
        "# num_in_features = model.get_classifier().\n",
        "# for param in model.parameters():\n",
        "#   param.requires_grad = False\n",
        "\n",
        "# #let's also add some fully connected layer to demonstrate representation learning\n",
        "model.fc = nn.Sequential(OrderedDict([\n",
        "    ('dropout1', nn.Dropout(p=0.5)), \n",
        "    ('fc1', nn.Linear(num_in_features, 4096)), \n",
        "    ('relu1', nn.ReLU(inplace=True)), \n",
        "    ('dropout2', nn.Dropout(p=0.5)), \n",
        "    ('fc2', nn.Linear(4096, 1024)), \n",
        "    ('relu2', nn.ReLU(inplace=True)), \n",
        "    ('dropout3', nn.Dropout(p=0.5)), \n",
        "    ('fc4', nn.Linear(1024, 7)), \n",
        "]))\n",
        "model.to(device)"
      ]
    },
    {
      "cell_type": "code",
      "execution_count": null,
      "metadata": {
        "id": "mpHoVI9VwEuP"
      },
      "outputs": [],
      "source": [
        "#accuracy of the model\n",
        "from tqdm import tqdm\n",
        "def multiclass_accuracy(y_pred,y_true):\n",
        "    top_p,top_class = y_pred.topk(1,dim = 1)\n",
        "    equals = top_class == y_true.view(*top_class.shape)\n",
        "    return torch.mean(equals.type(torch.FloatTensor))"
      ]
    },
    {
      "cell_type": "code",
      "execution_count": null,
      "metadata": {
        "id": "5gmlWz2fwy9Q"
      },
      "outputs": [],
      "source": [
        "#building the train and eval functions (training the model on the training and on the validation set)\n",
        "def train_model(model, dataloader, optimizer, current_epoch):\n",
        "\n",
        "  model.train()\n",
        "  total_loss = 0.0\n",
        "  total_acc = 0.0\n",
        "  tk = tqdm(dataloader, desc='EPOCH' + '[TRAIN]' + str(current_epoch + 1) + \"/\" + str(epochs))\n",
        "\n",
        "  for t, data in enumerate(tk):\n",
        "    images, labels = data\n",
        "    images, labels = images.to(device), labels.to(device)\n",
        "\n",
        "    optimizer.zero_grad()\n",
        "    logits = model(images)\n",
        "    loss = nn.CrossEntropyLoss()(logits,  labels)\n",
        "    loss.backward()\n",
        "    optimizer.step()\n",
        "\n",
        "    total_loss += loss.item()\n",
        "    total_acc += multiclass_accuracy(logits, labels)\n",
        "    tk.set_postfix({'loss': float(total_loss/(t+1)),'acc': float(total_acc/(t+1))})\n",
        "  return total_loss/len(dataloader), total_acc / len(dataloader)\n",
        "\n",
        "def eval_model(model, dataloader, current_epoch):\n",
        "\n",
        "  model.eval()\n",
        "  total_loss = 0.0\n",
        "  total_acc = 0.0\n",
        "  tk = tqdm(dataloader, desc='EPOCH' + '[VALID]' + str(current_epoch + 1) + \"/\" + str(epochs))\n",
        "\n",
        "  for t, data in enumerate(tk):\n",
        "    images, labels = data\n",
        "    images, labels = images.to(device), labels.to(device)\n",
        "\n",
        "    logits = model(images)\n",
        "    loss = nn.CrossEntropyLoss()(logits,  labels)\n",
        "\n",
        "    total_loss += loss.item()\n",
        "    total_acc += multiclass_accuracy(logits, labels)\n",
        "    tk.set_postfix({'loss': float(total_loss/(t+1)),'acc': float(total_acc/(t+1))})\n",
        "  return total_loss/len(dataloader), total_acc / len(dataloader)\n",
        "\n",
        "def test_model(model, dataloader, current_epoch=1):\n",
        "\n",
        "  model.eval()\n",
        "  total_loss = 0.0\n",
        "  total_acc = 0.0\n",
        "  tk = tqdm(dataloader, desc='EPOCH' + '[TEST]' + str(current_epoch) + \"/\" + str(1))\n",
        "\n",
        "  for t, data in enumerate(tk):\n",
        "    images, labels = data\n",
        "    images, labels = images.to(device), labels.to(device)\n",
        "\n",
        "    logits = model(images)\n",
        "    loss = nn.CrossEntropyLoss()(logits,  labels)\n",
        "\n",
        "    total_loss += loss.item()\n",
        "    total_acc += multiclass_accuracy(logits, labels)\n",
        "    tk.set_postfix({'loss': float(total_loss/(t+1)),'acc': float(total_acc/(t+1))})\n",
        "  return total_loss/len(dataloader), total_acc / len(dataloader)"
      ]
    },
    {
      "cell_type": "code",
      "execution_count": null,
      "metadata": {
        "id": "rzj7fwZoxLN_"
      },
      "outputs": [],
      "source": [
        "#now let's train the model\n",
        "from torch import optim\n",
        "optimizer = optim.Adam(model.parameters(), lr=lr)\n",
        "# optimizer = optim.SGD(model.parameters(), lr=lr, momentum=0.9, weight_decay=1e-4, nesterov=True) # gives much better accuracy"
      ]
    },
    {
      "cell_type": "code",
      "execution_count": null,
      "metadata": {
        "id": "AGamEDaZyPxv",
        "colab": {
          "base_uri": "https://localhost:8080/"
        },
        "outputId": "4a86631a-07c9-4076-a7b6-17fade10ce3e"
      },
      "outputs": [
        {
          "metadata": {
            "tags": null
          },
          "name": "stderr",
          "output_type": "stream",
          "text": [
            "EPOCH[TRAIN]1/45: 100%|██████████| 386/386 [12:30<00:00,  1.94s/it, loss=1.62, acc=0.359]\n",
            "EPOCH[VALID]1/45: 100%|██████████| 29/29 [00:08<00:00,  3.23it/s, loss=1.49, acc=0.435]\n"
          ]
        },
        {
          "metadata": {
            "tags": null
          },
          "name": "stdout",
          "output_type": "stream",
          "text": [
            "SAVED BEST WEIGHTS\n"
          ]
        },
        {
          "metadata": {
            "tags": null
          },
          "name": "stderr",
          "output_type": "stream",
          "text": [
            "EPOCH[TRAIN]2/45: 100%|██████████| 386/386 [12:16<00:00,  1.91s/it, loss=1.39, acc=0.477]\n",
            "EPOCH[VALID]2/45: 100%|██████████| 29/29 [00:09<00:00,  3.20it/s, loss=1.36, acc=0.487]\n"
          ]
        },
        {
          "metadata": {
            "tags": null
          },
          "name": "stdout",
          "output_type": "stream",
          "text": [
            "SAVED BEST WEIGHTS\n"
          ]
        },
        {
          "metadata": {
            "tags": null
          },
          "name": "stderr",
          "output_type": "stream",
          "text": [
            "EPOCH[TRAIN]3/45: 100%|██████████| 386/386 [12:19<00:00,  1.92s/it, loss=1.33, acc=0.502]\n",
            "EPOCH[VALID]3/45: 100%|██████████| 29/29 [00:09<00:00,  3.15it/s, loss=1.29, acc=0.526]\n"
          ]
        },
        {
          "metadata": {
            "tags": null
          },
          "name": "stdout",
          "output_type": "stream",
          "text": [
            "SAVED BEST WEIGHTS\n"
          ]
        },
        {
          "metadata": {
            "tags": null
          },
          "name": "stderr",
          "output_type": "stream",
          "text": [
            "EPOCH[TRAIN]4/45: 100%|██████████| 386/386 [12:17<00:00,  1.91s/it, loss=1.35, acc=0.493]\n",
            "EPOCH[VALID]4/45: 100%|██████████| 29/29 [00:09<00:00,  3.16it/s, loss=1.31, acc=0.501]\n",
            "EPOCH[TRAIN]5/45: 100%|██████████| 386/386 [12:22<00:00,  1.92s/it, loss=1.3, acc=0.513]\n",
            "EPOCH[VALID]5/45: 100%|██████████| 29/29 [00:08<00:00,  3.25it/s, loss=1.22, acc=0.529]\n"
          ]
        },
        {
          "metadata": {
            "tags": null
          },
          "name": "stdout",
          "output_type": "stream",
          "text": [
            "SAVED BEST WEIGHTS\n"
          ]
        },
        {
          "metadata": {
            "tags": null
          },
          "name": "stderr",
          "output_type": "stream",
          "text": [
            "EPOCH[TRAIN]6/45: 100%|██████████| 386/386 [12:10<00:00,  1.89s/it, loss=1.24, acc=0.541]\n",
            "EPOCH[VALID]6/45: 100%|██████████| 29/29 [00:09<00:00,  3.14it/s, loss=1.25, acc=0.518]\n",
            "EPOCH[TRAIN]7/45: 100%|██████████| 386/386 [12:21<00:00,  1.92s/it, loss=1.21, acc=0.549]\n",
            "EPOCH[VALID]7/45: 100%|██████████| 29/29 [00:09<00:00,  3.19it/s, loss=1.18, acc=0.547]\n"
          ]
        },
        {
          "metadata": {
            "tags": null
          },
          "name": "stdout",
          "output_type": "stream",
          "text": [
            "SAVED BEST WEIGHTS\n"
          ]
        },
        {
          "metadata": {
            "tags": null
          },
          "name": "stderr",
          "output_type": "stream",
          "text": [
            "EPOCH[TRAIN]8/45: 100%|██████████| 386/386 [12:15<00:00,  1.90s/it, loss=1.19, acc=0.557]\n",
            "EPOCH[VALID]8/45: 100%|██████████| 29/29 [00:08<00:00,  3.26it/s, loss=1.16, acc=0.569]\n"
          ]
        },
        {
          "metadata": {
            "tags": null
          },
          "name": "stdout",
          "output_type": "stream",
          "text": [
            "SAVED BEST WEIGHTS\n"
          ]
        },
        {
          "metadata": {
            "tags": null
          },
          "name": "stderr",
          "output_type": "stream",
          "text": [
            "EPOCH[TRAIN]9/45: 100%|██████████| 386/386 [12:16<00:00,  1.91s/it, loss=1.21, acc=0.551]\n",
            "EPOCH[VALID]9/45: 100%|██████████| 29/29 [00:09<00:00,  3.16it/s, loss=1.24, acc=0.524]\n",
            "EPOCH[TRAIN]10/45: 100%|██████████| 386/386 [12:15<00:00,  1.90s/it, loss=1.2, acc=0.553]\n",
            "EPOCH[VALID]10/45: 100%|██████████| 29/29 [00:09<00:00,  3.20it/s, loss=1.44, acc=0.436]\n",
            "EPOCH[TRAIN]11/45: 100%|██████████| 386/386 [12:20<00:00,  1.92s/it, loss=1.21, acc=0.55]\n",
            "EPOCH[VALID]11/45: 100%|██████████| 29/29 [00:09<00:00,  3.18it/s, loss=1.17, acc=0.54]\n",
            "EPOCH[TRAIN]12/45: 100%|██████████| 386/386 [12:16<00:00,  1.91s/it, loss=1.16, acc=0.57]\n",
            "EPOCH[VALID]12/45: 100%|██████████| 29/29 [00:09<00:00,  3.18it/s, loss=1.13, acc=0.569]\n"
          ]
        },
        {
          "metadata": {
            "tags": null
          },
          "name": "stdout",
          "output_type": "stream",
          "text": [
            "SAVED BEST WEIGHTS\n"
          ]
        },
        {
          "metadata": {
            "tags": null
          },
          "name": "stderr",
          "output_type": "stream",
          "text": [
            "EPOCH[TRAIN]13/45: 100%|██████████| 386/386 [12:15<00:00,  1.91s/it, loss=1.17, acc=0.571]\n",
            "EPOCH[VALID]13/45: 100%|██████████| 29/29 [00:09<00:00,  3.22it/s, loss=1.14, acc=0.573]\n",
            "EPOCH[TRAIN]14/45: 100%|██████████| 386/386 [12:15<00:00,  1.91s/it, loss=1.14, acc=0.577]\n",
            "EPOCH[VALID]14/45: 100%|██████████| 29/29 [00:09<00:00,  3.11it/s, loss=1.26, acc=0.526]\n",
            "EPOCH[TRAIN]15/45: 100%|██████████| 386/386 [12:36<00:00,  1.96s/it, loss=1.12, acc=0.586]\n",
            "EPOCH[VALID]15/45: 100%|██████████| 29/29 [00:09<00:00,  3.14it/s, loss=1.14, acc=0.565]\n",
            "EPOCH[TRAIN]16/45: 100%|██████████| 386/386 [12:16<00:00,  1.91s/it, loss=1.09, acc=0.597]\n",
            "EPOCH[VALID]16/45: 100%|██████████| 29/29 [00:09<00:00,  3.22it/s, loss=1.07, acc=0.598]\n"
          ]
        },
        {
          "metadata": {
            "tags": null
          },
          "name": "stdout",
          "output_type": "stream",
          "text": [
            "SAVED BEST WEIGHTS\n"
          ]
        },
        {
          "metadata": {
            "tags": null
          },
          "name": "stderr",
          "output_type": "stream",
          "text": [
            "EPOCH[TRAIN]17/45: 100%|██████████| 386/386 [12:42<00:00,  1.98s/it, loss=1.19, acc=0.561]\n",
            "EPOCH[VALID]17/45: 100%|██████████| 29/29 [00:09<00:00,  3.04it/s, loss=1.24, acc=0.525]\n",
            "EPOCH[TRAIN]18/45: 100%|██████████| 386/386 [12:33<00:00,  1.95s/it, loss=1.21, acc=0.555]\n",
            "EPOCH[VALID]18/45: 100%|██████████| 29/29 [00:09<00:00,  3.12it/s, loss=1.12, acc=0.563]\n",
            "EPOCH[TRAIN]19/45: 100%|██████████| 386/386 [12:19<00:00,  1.91s/it, loss=1.13, acc=0.579]\n",
            "EPOCH[VALID]19/45: 100%|██████████| 29/29 [00:09<00:00,  2.99it/s, loss=1.12, acc=0.578]\n",
            "EPOCH[TRAIN]20/45: 100%|██████████| 386/386 [12:26<00:00,  1.93s/it, loss=1.1, acc=0.595]\n",
            "EPOCH[VALID]20/45: 100%|██████████| 29/29 [00:09<00:00,  3.07it/s, loss=1.07, acc=0.602]\n",
            "EPOCH[TRAIN]21/45: 100%|██████████| 386/386 [12:17<00:00,  1.91s/it, loss=1.06, acc=0.611]\n",
            "EPOCH[VALID]21/45: 100%|██████████| 29/29 [00:09<00:00,  3.14it/s, loss=1.12, acc=0.566]\n",
            "EPOCH[TRAIN]22/45: 100%|██████████| 386/386 [12:12<00:00,  1.90s/it, loss=1.14, acc=0.577]\n",
            "EPOCH[VALID]22/45: 100%|██████████| 29/29 [00:09<00:00,  3.14it/s, loss=1.24, acc=0.52]\n",
            "EPOCH[TRAIN]23/45: 100%|██████████| 386/386 [12:25<00:00,  1.93s/it, loss=1.19, acc=0.558]\n",
            "EPOCH[VALID]23/45: 100%|██████████| 29/29 [00:09<00:00,  3.12it/s, loss=1.16, acc=0.556]\n",
            "EPOCH[TRAIN]24/45: 100%|██████████| 386/386 [12:24<00:00,  1.93s/it, loss=1.13, acc=0.58]\n",
            "EPOCH[VALID]24/45: 100%|██████████| 29/29 [00:09<00:00,  3.22it/s, loss=1.58, acc=0.396]\n",
            "EPOCH[TRAIN]25/45: 100%|██████████| 386/386 [12:31<00:00,  1.95s/it, loss=1.21, acc=0.552]\n",
            "EPOCH[VALID]25/45: 100%|██████████| 29/29 [00:09<00:00,  3.18it/s, loss=1.11, acc=0.573]\n",
            "EPOCH[TRAIN]26/45: 100%|██████████| 386/386 [12:19<00:00,  1.91s/it, loss=1.16, acc=0.571]\n",
            "EPOCH[VALID]26/45: 100%|██████████| 29/29 [00:09<00:00,  3.15it/s, loss=1.09, acc=0.596]\n",
            "EPOCH[TRAIN]27/45: 100%|██████████| 386/386 [12:27<00:00,  1.94s/it, loss=1.07, acc=0.604]\n",
            "EPOCH[VALID]27/45: 100%|██████████| 29/29 [00:09<00:00,  3.13it/s, loss=1.08, acc=0.59]\n",
            "EPOCH[TRAIN]28/45: 100%|██████████| 386/386 [12:24<00:00,  1.93s/it, loss=1.06, acc=0.608]\n",
            "EPOCH[VALID]28/45: 100%|██████████| 29/29 [00:09<00:00,  3.13it/s, loss=1.1, acc=0.577]\n",
            "EPOCH[TRAIN]29/45: 100%|██████████| 386/386 [12:22<00:00,  1.92s/it, loss=1.02, acc=0.622]\n",
            "EPOCH[VALID]29/45: 100%|██████████| 29/29 [00:09<00:00,  3.21it/s, loss=1.05, acc=0.615]\n"
          ]
        },
        {
          "metadata": {
            "tags": null
          },
          "name": "stdout",
          "output_type": "stream",
          "text": [
            "SAVED BEST WEIGHTS\n"
          ]
        },
        {
          "metadata": {
            "tags": null
          },
          "name": "stderr",
          "output_type": "stream",
          "text": [
            "EPOCH[TRAIN]30/45: 100%|██████████| 386/386 [12:15<00:00,  1.91s/it, loss=1.01, acc=0.627]\n",
            "EPOCH[VALID]30/45: 100%|██████████| 29/29 [00:08<00:00,  3.47it/s, loss=1.06, acc=0.589]\n",
            "EPOCH[TRAIN]31/45: 100%|██████████| 386/386 [12:17<00:00,  1.91s/it, loss=1.08, acc=0.602]\n",
            "EPOCH[VALID]31/45: 100%|██████████| 29/29 [00:09<00:00,  3.20it/s, loss=1.19, acc=0.544]\n",
            "EPOCH[TRAIN]32/45: 100%|██████████| 386/386 [12:39<00:00,  1.97s/it, loss=1.1, acc=0.591]\n",
            "EPOCH[VALID]32/45: 100%|██████████| 29/29 [00:09<00:00,  3.07it/s, loss=1.3, acc=0.519]\n",
            "EPOCH[TRAIN]33/45: 100%|██████████| 386/386 [12:37<00:00,  1.96s/it, loss=1.08, acc=0.597]\n",
            "EPOCH[VALID]33/45: 100%|██████████| 29/29 [00:09<00:00,  3.01it/s, loss=1.07, acc=0.597]\n",
            "EPOCH[TRAIN]34/45: 100%|██████████| 386/386 [12:36<00:00,  1.96s/it, loss=1.07, acc=0.604]\n",
            "EPOCH[VALID]34/45: 100%|██████████| 29/29 [00:09<00:00,  3.03it/s, loss=1.13, acc=0.574]\n",
            "EPOCH[TRAIN]35/45: 100%|██████████| 386/386 [12:36<00:00,  1.96s/it, loss=1.14, acc=0.576]\n",
            "EPOCH[VALID]35/45: 100%|██████████| 29/29 [00:09<00:00,  3.14it/s, loss=1.05, acc=0.599]\n"
          ]
        },
        {
          "metadata": {
            "tags": null
          },
          "name": "stdout",
          "output_type": "stream",
          "text": [
            "SAVED BEST WEIGHTS\n"
          ]
        },
        {
          "output_type": "stream",
          "name": "stderr",
          "text": [
            "EPOCH[TRAIN]36/45: 100%|██████████| 386/386 [12:35<00:00,  1.96s/it, loss=1.05, acc=0.61]\n",
            "EPOCH[VALID]36/45: 100%|██████████| 29/29 [00:09<00:00,  3.14it/s, loss=1.02, acc=0.612]\n"
          ]
        },
        {
          "output_type": "stream",
          "name": "stdout",
          "text": [
            "SAVED BEST WEIGHTS\n"
          ]
        },
        {
          "output_type": "stream",
          "name": "stderr",
          "text": [
            "EPOCH[TRAIN]37/45: 100%|██████████| 386/386 [12:39<00:00,  1.97s/it, loss=1.05, acc=0.611]\n",
            "EPOCH[VALID]37/45: 100%|██████████| 29/29 [00:09<00:00,  3.06it/s, loss=1.15, acc=0.587]\n",
            "EPOCH[TRAIN]38/45: 100%|██████████| 386/386 [12:34<00:00,  1.95s/it, loss=1.01, acc=0.628]\n",
            "EPOCH[VALID]38/45: 100%|██████████| 29/29 [00:09<00:00,  3.15it/s, loss=1.12, acc=0.59]\n",
            "EPOCH[TRAIN]39/45: 100%|██████████| 386/386 [12:34<00:00,  1.95s/it, loss=1.06, acc=0.608]\n",
            "EPOCH[VALID]39/45: 100%|██████████| 29/29 [00:09<00:00,  3.10it/s, loss=1.07, acc=0.607]\n",
            "EPOCH[TRAIN]40/45: 100%|██████████| 386/386 [12:34<00:00,  1.95s/it, loss=1.01, acc=0.625]\n",
            "EPOCH[VALID]40/45: 100%|██████████| 29/29 [00:09<00:00,  3.17it/s, loss=1.02, acc=0.623]\n",
            "EPOCH[TRAIN]41/45: 100%|██████████| 386/386 [12:34<00:00,  1.95s/it, loss=0.994, acc=0.633]\n",
            "EPOCH[VALID]41/45: 100%|██████████| 29/29 [00:09<00:00,  3.16it/s, loss=1, acc=0.622]\n"
          ]
        },
        {
          "output_type": "stream",
          "name": "stdout",
          "text": [
            "SAVED BEST WEIGHTS\n"
          ]
        },
        {
          "output_type": "stream",
          "name": "stderr",
          "text": [
            "EPOCH[TRAIN]42/45: 100%|██████████| 386/386 [12:29<00:00,  1.94s/it, loss=1.01, acc=0.628]\n",
            "EPOCH[VALID]42/45: 100%|██████████| 29/29 [00:08<00:00,  3.28it/s, loss=1.25, acc=0.554]\n",
            "EPOCH[TRAIN]43/45: 100%|██████████| 386/386 [11:27<00:00,  1.78s/it, loss=1.03, acc=0.619]\n",
            "EPOCH[VALID]43/45: 100%|██████████| 29/29 [00:08<00:00,  3.32it/s, loss=1.06, acc=0.611]\n",
            "EPOCH[TRAIN]44/45: 100%|██████████| 386/386 [11:26<00:00,  1.78s/it, loss=1.04, acc=0.616]\n",
            "EPOCH[VALID]44/45: 100%|██████████| 29/29 [00:08<00:00,  3.28it/s, loss=1.02, acc=0.616]\n",
            "EPOCH[TRAIN]45/45: 100%|██████████| 386/386 [11:26<00:00,  1.78s/it, loss=0.989, acc=0.633]\n",
            "EPOCH[VALID]45/45: 100%|██████████| 29/29 [00:08<00:00,  3.27it/s, loss=1.02, acc=0.622]"
          ]
        },
        {
          "output_type": "stream",
          "name": "stdout",
          "text": [
            "\n",
            "\n",
            "accuracy on the training set:  0.6334244608879089\n",
            "accuracy on the validation set:  0.6221623420715332\n"
          ]
        },
        {
          "output_type": "stream",
          "name": "stderr",
          "text": [
            "\n"
          ]
        }
      ],
      "source": [
        "best_valid_loss = np.Inf\n",
        "train_losses = []\n",
        "validation_losses = []\n",
        "# model_path = '/content/drive/MyDrive/ML Project Folder/Models'\n",
        "for i in range(epochs):\n",
        "  train_loss, train_acc = train_model(model, trainloader, optimizer, i)\n",
        "  valid_loss, valid_acc = eval_model(model, validloader, i)\n",
        "  train_losses.append(train_loss)\n",
        "  validation_losses.append(valid_loss)\n",
        "\n",
        "  if valid_loss < best_valid_loss:\n",
        "    torch.save(model.state_dict(), os.path.join(data_path, 'resnet-50-Adam (transfer_learning).h5'))\n",
        "    print('SAVED BEST WEIGHTS')\n",
        "    best_valid_loss = valid_loss\n",
        "print()\n",
        "print()\n",
        "print('accuracy on the training set: ', float(train_acc))\n",
        "print('accuracy on the validation set: ', float(valid_acc))"
      ]
    },
    {
      "cell_type": "code",
      "execution_count": null,
      "metadata": {
        "id": "kCVDIV3QThFV"
      },
      "outputs": [],
      "source": [
        "def plot_the_loss_curve(epochs, training_losses, validation_losses):\n",
        "  \"\"\"Plot a curve of loss vs. epoch.\"\"\"\n",
        "  epochs = list(range(1, epochs + 1))\n",
        "  plt.figure(figsize=(10, 5))\n",
        "  plt.xlabel(\"Epoch\")\n",
        "  plt.ylabel(\"Cross Entropy losses\")\n",
        "\n",
        "  plt.plot(epochs, training_losses, label=\"Training Loss\")\n",
        "  plt.plot(epochs, validation_losses, label=\"Validation Loss\")\n",
        "  plt.legend()\n",
        "  \n",
        "\n",
        "  merged_losses = training_losses + validation_losses\n",
        "  highest_loss = max(merged_losses)\n",
        "  lowest_loss = min(merged_losses)\n",
        "  delta = highest_loss - lowest_loss\n",
        "\n",
        "  top_of_y_axis = highest_loss + (delta * 0.05)\n",
        "  bottom_of_y_axis = lowest_loss - (delta * 0.05)\n",
        "  plt.title('loss curve') \n",
        "  plt.ylim([bottom_of_y_axis, top_of_y_axis])\n",
        "  plt.show()  "
      ]
    },
    {
      "cell_type": "code",
      "execution_count": null,
      "metadata": {
        "id": "OUOT2OUi8D57",
        "colab": {
          "base_uri": "https://localhost:8080/",
          "height": 350
        },
        "outputId": "cfd6621b-0f3a-492b-cfe2-4d3cbf095557"
      },
      "outputs": [
        {
          "output_type": "display_data",
          "data": {
            "text/plain": [
              "<Figure size 720x360 with 1 Axes>"
            ],
            "image/png": "[encoded data removed]"
          },
          "metadata": {
            "needs_background": "light"
          }
        }
      ],
      "source": [
        "plot_the_loss_curve(epochs, train_losses, validation_losses)"
      ]
    }
  ],
  "metadata": {
    "accelerator": "GPU",
    "colab": {
      "collapsed_sections": [],
      "name": "Resnet_50_MD (Transfer learning).ipynb",
      "provenance": [],
      "include_colab_link": true
    },
    "kernelspec": {
      "display_name": "Python 3",
      "name": "python3"
    },
    "language_info": {
      "name": "python"
    }
  },
  "nbformat": 4,
  "nbformat_minor": 0
}