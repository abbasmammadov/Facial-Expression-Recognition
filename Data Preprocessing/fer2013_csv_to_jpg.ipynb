{
  "nbformat": 4,
  "nbformat_minor": 0,
  "metadata": {
    "colab": {
      "name": "fer2013_csv_to_jpg.ipynb",
      "provenance": [],
      "collapsed_sections": []
    },
    "kernelspec": {
      "name": "python3",
      "display_name": "Python 3"
    },
    "language_info": {
      "name": "python"
    },
    "accelerator": "GPU"
  },
  "cells": [
    {
      "cell_type": "code",
      "source": [
        "#mount your drive first - you can do it once\n",
        "from google.colab import drive\n",
        "drive.mount('/content/drive')"
      ],
      "metadata": {
        "id": "_hbOvpcyD-7H",
        "colab": {
          "base_uri": "https://localhost:8080/"
        },
        "outputId": "a4aea460-1d22-4e18-c954-450cbc6a85c6"
      },
      "execution_count": null,
      "outputs": [
        {
          "output_type": "stream",
          "name": "stdout",
          "text": [
            "Mounted at /content/drive\n"
          ]
        }
      ]
    },
    {
      "cell_type": "code",
      "source": [
        "#importing necessary modules\n",
        "import numpy as np\n",
        "import pandas as pd\n",
        "import torch\n",
        "import torch.nn as nn\n",
        "import torch.nn.functional as F\n",
        "from torch.utils.data import DataLoader, Dataset\n",
        "from PIL import Image\n",
        "import os"
      ],
      "metadata": {
        "id": "1O_7o8yiL7fZ"
      },
      "execution_count": null,
      "outputs": []
    },
    {
      "cell_type": "code",
      "source": [
        "#let's read the main csv file from our drive\n",
        "data_path = \"/content/drive/MyDrive/ML_Project_Folder/project/datasets/fer2013\"\n",
        "csv_path = os.path.join(data_path, 'fer2013.csv')\n",
        "data_df = pd.read_csv(csv_path)"
      ],
      "metadata": {
        "id": "faPhOfInLnPA"
      },
      "execution_count": null,
      "outputs": []
    },
    {
      "cell_type": "code",
      "source": [
        "#shuffle indices of the training set separate the test data from the validation data\n",
        "#let's also add some random.seed for the reproducibility of the code\n",
        "from sklearn.model_selection import train_test_split\n",
        "X_train, X_val, y_train, y_val = train_test_split(data_df['pixels'], data_df['emotion'], test_size=0.2, shuffle=True, random_state=42)\n",
        "X_val, X_test, y_val, y_test = train_test_split(X_val, y_val, test_size=0.5, shuffle=False, random_state=42)"
      ],
      "metadata": {
        "id": "StJnIEzrMG-Y"
      },
      "execution_count": null,
      "outputs": []
    },
    {
      "cell_type": "code",
      "source": [
        "#convert each of the training and the validation datasets into dataframes\n",
        "new_train = pd.DataFrame(data=X_train)\n",
        "new_train['emotion'] = y_train\n",
        "new_val = pd.DataFrame(data=X_val)\n",
        "new_val['emotion'] = y_val\n",
        "new_test = pd.DataFrame(data=X_test)\n",
        "new_test['emotion'] = y_test"
      ],
      "metadata": {
        "id": "3EN8jIJvMOGY"
      },
      "execution_count": null,
      "outputs": []
    },
    {
      "cell_type": "code",
      "source": [
        "#now make directories to store each of the images of each categories from the pixels\n",
        "os.mkdir(os.path.join(data_path, 'train'))\n",
        "os.mkdir(os.path.join(data_path, 'validation'))\n",
        "os.mkdir(os.path.join(data_path, 'test'))"
      ],
      "metadata": {
        "id": "n89ADChvMb-K"
      },
      "execution_count": null,
      "outputs": []
    },
    {
      "cell_type": "code",
      "source": [
        "#WARNING - EXECUTE THIS CELL ONLY ONCE, create a directory of each of the emotions\n",
        "em_dict = {0: 'angry', 1: 'disgust', 2: 'fear', 3: 'happy', 4: 'sad', 5: 'surprise', 6: 'neutral'}\n",
        "os.chdir(data_path)\n",
        "train_path = os.path.join(data_path, 'train')\n",
        "validation_path = os.path.join(data_path, 'validation')\n",
        "test_path = os.path.join(data_path, 'test')\n",
        "for key in em_dict.keys():\n",
        "  os.chdir(train_path)\n",
        "  os.mkdir(em_dict[key])\n",
        "  os.chdir(validation_path)\n",
        "  os.mkdir(em_dict[key])\n",
        "  os.chdir(test_path)\n",
        "  os.mkdir(em_dict[key])"
      ],
      "metadata": {
        "id": "IVtOdAIhNDkC"
      },
      "execution_count": null,
      "outputs": []
    },
    {
      "cell_type": "code",
      "source": [
        "#save the images to their corresponding folder paths\n",
        "def get_data(data_file, path_file):\n",
        "  counter_each = {'angry': 0, 'sad': 0, 'happy': 0, 'neutral': 0, 'disgust': 0, 'fear': 0, 'surprise': 0}\n",
        "  for (ind, row) in data_file.iterrows():\n",
        "    emotion = em_dict[row['emotion']]\n",
        "    emotion_path = os.path.join(path_file, emotion)\n",
        "    img = np.fromstring(row['pixels'], dtype='uint8', sep=' ')\n",
        "    img = img.reshape((48, 48))\n",
        "    image = Image.fromarray(img)\n",
        "    counter_each[emotion] += 1\n",
        "    filename = f'{emotion}{counter_each[emotion]}.jpg'\n",
        "    image_path = os.path.join(emotion_path, filename)  \n",
        "    image.save(image_path)"
      ],
      "metadata": {
        "id": "LhP04tDJRABP"
      },
      "execution_count": null,
      "outputs": []
    },
    {
      "cell_type": "code",
      "source": [
        "#saving each images on the training set\n",
        "get_data(new_train, train_path)"
      ],
      "metadata": {
        "id": "eGfvM9_ZTwD2"
      },
      "execution_count": null,
      "outputs": []
    },
    {
      "cell_type": "code",
      "source": [
        "#saving each images on the validation set\n",
        "get_data(new_val, validation_path)"
      ],
      "metadata": {
        "id": "_XnqNDHNdw0W"
      },
      "execution_count": null,
      "outputs": []
    },
    {
      "cell_type": "code",
      "source": [
        "#saving each images on the test set\n",
        "get_data(new_test, test_path)"
      ],
      "metadata": {
        "id": "ep7IJPIcdy2O"
      },
      "execution_count": null,
      "outputs": []
    }
  ]
}